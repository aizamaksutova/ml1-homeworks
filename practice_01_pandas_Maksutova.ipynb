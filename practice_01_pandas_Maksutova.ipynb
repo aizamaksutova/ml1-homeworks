{
  "cells": [
    {
      "cell_type": "markdown",
      "metadata": {
        "id": "HcF9My_FhLuk"
      },
      "source": [
        "## Машинное обучение 1, ПМИ ФКН ВШЭ\n",
        "\n",
        "## Практическое домашнее задание 1\n",
        "\n",
        "### Общая информация\n",
        "\n",
        "Дата выдачи: 09.09.2022\n",
        "\n",
        "Мягкий дедлайн: 23:59MSK 22.09.2022\n",
        "\n",
        "Жесткий дедлайн: 23:59MSK 29.09.2022"
      ]
    },
    {
      "cell_type": "markdown",
      "metadata": {
        "id": "G64TptyJhLuo"
      },
      "source": [
        "### О задании\n",
        "\n",
        "Задание состоит из двух разделов, посвященных работе с табличными данными с помощью библиотеки pandas и визуализации с помощью matplotlib. В первом разделе вам предстоит выполнить базовые задания с помощью вышеуказанных библиотек, а во втором распределить студентов по курсам. Баллы даются за выполнение отдельных пунктов. Задачи в рамках одного раздела рекомендуется решать в том порядке, в котором они даны в задании.\n",
        "\n",
        "Задание направлено на освоение jupyter notebook (будет использоваться в дальнейших заданиях), библиотек pandas и matplotlib.\n",
        "\n",
        "### Оценивание и штрафы\n",
        "Каждая из задач имеет определенную «стоимость» (указана в скобках около задачи). Максимально допустимая оценка за работу — 10 баллов.\n",
        "\n",
        "Сдавать задание после жёсткого дедлайна нельзя. При выставлении неполного балла за задание в связи с наличием ошибок на усмотрение проверяющего предусмотрена возможность исправить работу на указанных в ответном письме условиях.\n",
        "\n",
        "Задание выполняется самостоятельно. «Похожие» решения считаются плагиатом и все задействованные студенты (в том числе те, у кого списали) не могут получить за него больше 0 баллов (подробнее о плагиате см. на странице курса). Если вы нашли решение какого-то из заданий (или его часть) в открытом источнике, необходимо указать ссылку на этот источник (скорее всего вы будете не единственным, кто это нашел, поэтому чтобы исключить подозрение в плагиате, необходима ссылка на источник).\n",
        "\n",
        "### Формат сдачи\n",
        "Задания сдаются через систему Anytask. Инвайт можно получить у семинариста или ассистента. Присылать необходимо ноутбук с выполненным заданием. Сам ноутбук называйте в формате homework-practice-01-pandas-Username.ipynb, где Username — ваша фамилия.\n",
        "\n",
        "Для удобства проверки самостоятельно посчитайте свою максимальную оценку (исходя из набора решенных задач) и укажите ниже.\n",
        "\n",
        "Оценка: xx."
      ]
    },
    {
      "cell_type": "markdown",
      "metadata": {
        "id": "BaXlfHE_hLup"
      },
      "source": [
        "## 0. Введение"
      ]
    },
    {
      "cell_type": "markdown",
      "metadata": {
        "id": "wirAvJNxhLup"
      },
      "source": [
        "Сейчас мы находимся в jupyter-ноутбуке (или ipython-ноутбуке). Это удобная среда для написания кода, проведения экспериментов, изучения данных, построения визуализаций и других нужд, не связанных с написанием production-кода. \n",
        "\n",
        "Ноутбук состоит из ячеек, каждая из которых может быть либо ячейкой с кодом, либо ячейкой с текстом размеченным и неразмеченным. Текст поддерживает markdown-разметку и формулы в Latex.\n",
        "\n",
        "Для работы с содержимым ячейки используется *режим редактирования* (*Edit mode*, включается нажатием клавиши **Enter** после выбора ячейки), а для навигации между ячейками искользуется *командный режим* (*Command mode*, включается нажатием клавиши **Esc**). Тип ячейки можно задать в командном режиме либо с помощью горячих клавиш (**y** to code, **m** to markdown, **r** to edit raw text), либо в меню *Cell -> Cell type*. \n",
        "\n",
        "После заполнения ячейки нужно нажать *Shift + Enter*, эта команда обработает содержимое ячейки: проинтерпретирует код или сверстает размеченный текст."
      ]
    },
    {
      "cell_type": "code",
      "execution_count": 1,
      "metadata": {
        "colab": {
          "base_uri": "https://localhost:8080/"
        },
        "id": "aQ2_j3nkhLuq",
        "outputId": "1ee518d4-e2d7-4bee-9ce7-b339448b714b"
      },
      "outputs": [
        {
          "data": {
            "text/plain": [
              "4"
            ]
          },
          "execution_count": 1,
          "metadata": {},
          "output_type": "execute_result"
        }
      ],
      "source": [
        "# ячейка с кодом, при выполнении которой появится output\n",
        "2 + 2"
      ]
    },
    {
      "cell_type": "markdown",
      "metadata": {
        "id": "ZlulCwVKhLur"
      },
      "source": [
        "Ячейка с неразмеченыным текстом."
      ]
    },
    {
      "cell_type": "markdown",
      "metadata": {
        "id": "A4wkVlIehLur"
      },
      "source": [
        "Попробуйте создать свои ячейки, написать какой-нибудь код и текст какой-нибудь формулой."
      ]
    },
    {
      "cell_type": "code",
      "execution_count": 2,
      "metadata": {
        "colab": {
          "base_uri": "https://localhost:8080/"
        },
        "id": "BIuaYSvqhLus",
        "outputId": "84aaf50d-0b06-40b5-b1fa-f399e75c64c0"
      },
      "outputs": [
        {
          "data": {
            "text/plain": [
              "(0.30102999566398114+0j)"
            ]
          },
          "execution_count": 2,
          "metadata": {},
          "output_type": "execute_result"
        }
      ],
      "source": [
        "# your code\n",
        "from cmath import log10\n",
        "log10(2)"
      ]
    },
    {
      "cell_type": "markdown",
      "metadata": {
        "id": "iWs6ljrIhLus"
      },
      "source": [
        "[Здесь](https://athena.brynmawr.edu/jupyter/hub/dblank/public/Jupyter%20Notebook%20Users%20Manual.ipynb) находится <s>не</s>большая заметка о используемом языке разметки Markdown. Он позволяет:\n",
        "\n",
        "0. Составлять упорядоченные списки\n",
        "1. Выделять *текст* <s>при</s> **необходимости**\n",
        "2. Добавлять [ссылки](http://imgs.xkcd.com/comics/the_universal_label.png)\n",
        "\n",
        "\n",
        "* Составлять неупорядоченные списки\n",
        "\n",
        "Делать вставки с помощью LaTex:\n",
        "    \n",
        "$\n",
        "\\left\\{\n",
        "\\begin{array}{ll}\n",
        "x = 16 \\sin^3 (t) \\\\ \n",
        "y = 13 \\cos (t) - 5 \\cos (2t) - 2 \\cos (3t) - \\cos (4t) \\\\\n",
        "t \\in [0, 2 \\pi]\n",
        "\\end{array}\n",
        "\\right.$"
      ]
    },
    {
      "cell_type": "markdown",
      "metadata": {
        "id": "6fmTGcXOhLus"
      },
      "source": [
        "А ещё можно вставлять картинки, или гифки, или что захотите:\n",
        "\n",
        "<img src=\"https://media1.tenor.com/images/9b8fbe9214504bcf6c60fe4e4f7e114e/tenor.gif?itemid=5416416\" style=\"width: 400px\">"
      ]
    },
    {
      "cell_type": "markdown",
      "metadata": {
        "id": "J_toGw7DhLut"
      },
      "source": [
        "### Google Colab"
      ]
    },
    {
      "cell_type": "markdown",
      "metadata": {
        "id": "jpkbCVjGhLut"
      },
      "source": [
        "Что за колаб? \n",
        "\n",
        "**Google Colab (Colaboratory)** это **Jupyter Notebook + Cloud + Google Drive.**\n",
        "\n",
        "Компания Google предоставляет возможность бесплатно запускать ноутбуки (предварительно загрузив их на свой гугл-диск) прямо в облаке. При этом вам не требуется установка никаких пакетов на свою машину, а работать можно прямиком из браузера. Вот ссылка:"
      ]
    },
    {
      "cell_type": "markdown",
      "metadata": {
        "id": "06MQog3yhLut"
      },
      "source": [
        "https://colab.research.google.com"
      ]
    },
    {
      "cell_type": "markdown",
      "metadata": {
        "id": "5_hfWXKPhLut"
      },
      "source": [
        "При использовании вы увидете много сходств с jupyter ноутбуком. Одним из преимуществ является доступность GPU, соответствующую опцию можно активировать в настройках сервиса. При желании вы сможете найти в интернете много туториалов по использованию или разобраться самостоятельно =)"
      ]
    },
    {
      "cell_type": "markdown",
      "metadata": {
        "id": "sUe2vnFGhLuu"
      },
      "source": [
        "## 1. Табличные данные и Pandas"
      ]
    },
    {
      "cell_type": "markdown",
      "metadata": {
        "id": "DJQzjjqJhLuu"
      },
      "source": [
        "Pandas — удобная библиотека для работы с табличными данными в Python, если данных не слишком много и они помещаются в оперативную память вашего компьютера. Несмотря на неэффективность реализации и некоторые проблемы, библиотека стала стандартом в анализе данных.\n",
        "\n",
        "Основной объект в pandas — это DataFrame, представляющий собой таблицу с именованными колонками различных типов, индексом (может быть многоуровневым). DataFrame можно создавать, считывая таблицу из файла или задавая вручную из других объектов.\n",
        "\n",
        "В этой части потребуется выполнить несколько небольших заданий. Можно пойти двумя путями: сначала изучить материалы, а потом приступить к заданиям, или же разбираться \"по ходу\". Выбирайте сами.\n",
        "\n",
        "Материалы:\n",
        "1. [Pandas за 10 минут из официального руководства](http://pandas.pydata.org/pandas-docs/stable/10min.html)\n",
        "2. [Документация](http://pandas.pydata.org/pandas-docs/stable/index.html) (стоит обращаться, если не понятно, как вызывать конкретный метод)\n",
        "3. [Примеры использования функционала](http://nbviewer.jupyter.org/github/justmarkham/pandas-videos/blob/master/pandas.ipynb)\n",
        "\n",
        "Многие из заданий можно выполнить несколькими способами. Не существуют единственно верного, но попробуйте максимально задействовать арсенал pandas и ориентируйтесь на простоту и понятность вашего кода. Мы не будем подсказывать, что нужно использовать для решения конкретной задачи, попробуйте находить необходимый функционал сами (название метода чаще всего очевидно). В помощь вам документация, поиск и stackoverflow."
      ]
    },
    {
      "cell_type": "code",
      "execution_count": 3,
      "metadata": {
        "colab": {
          "base_uri": "https://localhost:8080/"
        },
        "id": "26zbFY25hLuv",
        "outputId": "6807e99c-1eff-4689-fd5f-c983ece669c9"
      },
      "outputs": [
        {
          "name": "stdout",
          "output_type": "stream",
          "text": [
            "Populating the interactive namespace from numpy and matplotlib\n"
          ]
        },
        {
          "name": "stderr",
          "output_type": "stream",
          "text": [
            "/usr/local/lib/python3.7/dist-packages/IPython/core/magics/pylab.py:160: UserWarning: pylab import has clobbered these variables: ['log10']\n",
            "`%matplotlib` prevents importing * from pylab and numpy\n",
            "  \"\\n`%matplotlib` prevents importing * from pylab and numpy\"\n"
          ]
        }
      ],
      "source": [
        "%pylab inline\n",
        "import pandas as pd"
      ]
    },
    {
      "cell_type": "markdown",
      "metadata": {
        "id": "0HO262ahJe88"
      },
      "source": [
        "<span style=\"color:red\">Перед выполнением задания необходимо ознакомиться с первым семинаром (seminars/sem01-pandas.ipynb) </span>.\n",
        "\n",
        "Это поможет вам получить общее понимание происходяшего и успешнее справиться с заданием.\n",
        "\n",
        "Также успешному выполнению способствует внимательное чтение текста задания от начала до конца.\n",
        "\n",
        "Удачи!"
      ]
    },
    {
      "cell_type": "markdown",
      "metadata": {
        "id": "dneJl9TyhLuv"
      },
      "source": [
        "Скачаем подготовленные на семинаре данные:"
      ]
    },
    {
      "cell_type": "code",
      "execution_count": 4,
      "metadata": {
        "id": "rj_I0RslhLuw"
      },
      "outputs": [],
      "source": [
        "!wget  -O 'end_seminar.xlsx' -q 'https://www.dropbox.com/s/f4rm8sjc3v99p0m/_end_seminar.xlsx?dl=0'"
      ]
    },
    {
      "cell_type": "markdown",
      "metadata": {
        "id": "5hp7bn_ThLuw"
      },
      "source": [
        "Для пользователей Windows: скачайте файл самостоятельно и поместите его в папку с тетрадкой. Или попробуйте один из следующих вариантов:"
      ]
    },
    {
      "cell_type": "code",
      "execution_count": 5,
      "metadata": {
        "id": "4h4_BaX8hLuw"
      },
      "outputs": [],
      "source": [
        "# !powershell iwr -outf somefile https://somesite/somefile"
      ]
    },
    {
      "cell_type": "code",
      "execution_count": 6,
      "metadata": {
        "id": "7bHroLGChLuw"
      },
      "outputs": [],
      "source": [
        "# !pip install wget\n",
        "# import wget \n",
        "# wget.download('https://dropbox.com/s/f4rm8sjc3v99p0m/_end_seminar.xlsx?dl=1', 'end_seminar.xlsx')"
      ]
    },
    {
      "cell_type": "markdown",
      "metadata": {
        "id": "VFs_6IythLux"
      },
      "source": [
        "##### В первой части задания (до раздела \"Распределение студентов по курсам\") использование циклов запрещается и повлечет за собой снижение оценки. Использование <code>vectorize</code> и  <code>apply</code>, <code>apply_along_axis</code> крайне нежелательно."
      ]
    },
    {
      "cell_type": "markdown",
      "metadata": {
        "id": "shFkfJkohLux"
      },
      "source": [
        "Для каждой задачи из этого раздела вы должны написать код для получения ответа, а также дать текстовый ответ, если он предполагается.\n",
        "\n",
        "На некоторые вопросы вы можете получить путём пристального взгляда на таблицу, но это не будет засчитываться. Вы в любом случае должны получить ответ с помощью кода."
      ]
    },
    {
      "cell_type": "markdown",
      "metadata": {
        "id": "gDD85M7bhLux"
      },
      "source": [
        "#### 1. [0 баллов] Откройте файл с таблицей (не забудьте про её формат). Выведите последние 10 строк.\n",
        "\n",
        "Посмотрите на данные и скажите, что они из себя представляют, сколько в таблице строк, какие столбцы? (на это не надо отвечать, просто подумайте об этом)"
      ]
    },
    {
      "cell_type": "code",
      "execution_count": 7,
      "metadata": {
        "colab": {
          "base_uri": "https://localhost:8080/",
          "height": 896
        },
        "id": "PKulur3LhLuy",
        "outputId": "9186cf59-34bb-479e-8989-5ca2382ceadb"
      },
      "outputs": [
        {
          "data": {
            "text/html": [
              "\n",
              "  <div id=\"df-3304643d-3e59-43c9-9561-abfe4fa7ff77\">\n",
              "    <div class=\"colab-df-container\">\n",
              "      <div>\n",
              "<style scoped>\n",
              "    .dataframe tbody tr th:only-of-type {\n",
              "        vertical-align: middle;\n",
              "    }\n",
              "\n",
              "    .dataframe tbody tr th {\n",
              "        vertical-align: top;\n",
              "    }\n",
              "\n",
              "    .dataframe thead th {\n",
              "        text-align: right;\n",
              "    }\n",
              "</style>\n",
              "<table border=\"1\" class=\"dataframe\">\n",
              "  <thead>\n",
              "    <tr style=\"text-align: right;\">\n",
              "      <th></th>\n",
              "      <th>timestamp</th>\n",
              "      <th>id</th>\n",
              "      <th>rating</th>\n",
              "      <th>18_group</th>\n",
              "      <th>is_mi</th>\n",
              "      <th>fall_1</th>\n",
              "      <th>fall_2</th>\n",
              "      <th>fall_3</th>\n",
              "      <th>spring_1</th>\n",
              "      <th>spring_2</th>\n",
              "      <th>spring_3</th>\n",
              "      <th>is_first_time</th>\n",
              "      <th>percentile</th>\n",
              "      <th>17_group</th>\n",
              "      <th>blended</th>\n",
              "      <th>is_ml_student</th>\n",
              "    </tr>\n",
              "  </thead>\n",
              "  <tbody>\n",
              "    <tr>\n",
              "      <th>351</th>\n",
              "      <td>2020-05-18 23:58:33.903</td>\n",
              "      <td>8fe79f84f36e3a5d2d6745621321302c</td>\n",
              "      <td>1016</td>\n",
              "      <td>NaN</td>\n",
              "      <td>NaN</td>\n",
              "      <td>Безопасность компьютерных систем</td>\n",
              "      <td>Высокопроизводительные вычисления</td>\n",
              "      <td>Сбор и обработка данных с помощью краудсорсинга</td>\n",
              "      <td>Конфликты и кооперация</td>\n",
              "      <td>Проектирование и разработка высоконагруженных ...</td>\n",
              "      <td>Символьные вычисления</td>\n",
              "      <td>Да</td>\n",
              "      <td>0.942029</td>\n",
              "      <td>174.0</td>\n",
              "      <td>DevOps</td>\n",
              "      <td>NaN</td>\n",
              "    </tr>\n",
              "    <tr>\n",
              "      <th>352</th>\n",
              "      <td>2020-05-18 23:59:20.831</td>\n",
              "      <td>f93afd8e92c336b471aa3bbbc579aefe</td>\n",
              "      <td>1298</td>\n",
              "      <td>NaN</td>\n",
              "      <td>NaN</td>\n",
              "      <td>Высокопроизводительные вычисления</td>\n",
              "      <td>Сбор и обработка данных с помощью краудсорсинга</td>\n",
              "      <td>Statistical Learning Theory</td>\n",
              "      <td>Методы сжатия и передачи медиаданных</td>\n",
              "      <td>Проектирование и разработка высоконагруженных ...</td>\n",
              "      <td>Конфликты и кооперация</td>\n",
              "      <td>Да</td>\n",
              "      <td>0.057971</td>\n",
              "      <td>175.0</td>\n",
              "      <td>DevOps</td>\n",
              "      <td>NaN</td>\n",
              "    </tr>\n",
              "    <tr>\n",
              "      <th>353</th>\n",
              "      <td>2020-05-18 23:59:28.998</td>\n",
              "      <td>9963fc00d9405a35b894cc04a7e19855</td>\n",
              "      <td>1135</td>\n",
              "      <td>NaN</td>\n",
              "      <td>NaN</td>\n",
              "      <td>Безопасность компьютерных систем</td>\n",
              "      <td>Высокопроизводительные вычисления</td>\n",
              "      <td>Безопасность компьютерных систем</td>\n",
              "      <td>Проектирование и разработка высоконагруженных ...</td>\n",
              "      <td>Методы сжатия и передачи медиаданных</td>\n",
              "      <td>Символьные вычисления</td>\n",
              "      <td>Да</td>\n",
              "      <td>0.572464</td>\n",
              "      <td>175.0</td>\n",
              "      <td>DevOps</td>\n",
              "      <td>NaN</td>\n",
              "    </tr>\n",
              "    <tr>\n",
              "      <th>354</th>\n",
              "      <td>2020-05-19 08:55:39.509</td>\n",
              "      <td>98c5a2548d93f26bd4195466e93178b3</td>\n",
              "      <td>1035</td>\n",
              "      <td>NaN</td>\n",
              "      <td>NaN</td>\n",
              "      <td>Байесовские методы машинного обучения</td>\n",
              "      <td>Глубинное обучение в обработке звука</td>\n",
              "      <td>Statistical Learning Theory</td>\n",
              "      <td>Обучение с подкреплением</td>\n",
              "      <td>Генеративные модели в машинном обучении</td>\n",
              "      <td>Методы сжатия и передачи медиаданных</td>\n",
              "      <td>Нет</td>\n",
              "      <td>0.905797</td>\n",
              "      <td>171.0</td>\n",
              "      <td>DevOps</td>\n",
              "      <td>NaN</td>\n",
              "    </tr>\n",
              "    <tr>\n",
              "      <th>355</th>\n",
              "      <td>2020-05-19 18:58:06.283</td>\n",
              "      <td>ba298cbd9be59b84bab33325e956f27e</td>\n",
              "      <td>1155</td>\n",
              "      <td>NaN</td>\n",
              "      <td>NaN</td>\n",
              "      <td>Сбор и обработка данных с помощью краудсорсинга</td>\n",
              "      <td>Байесовские методы машинного обучения</td>\n",
              "      <td>Анализ неструктурированных данных</td>\n",
              "      <td>Конфликты и кооперация</td>\n",
              "      <td>Обучение с подкреплением</td>\n",
              "      <td>Компьютерное зрение</td>\n",
              "      <td>Да</td>\n",
              "      <td>0.507246</td>\n",
              "      <td>171.0</td>\n",
              "      <td>Соревновательный анализ данных</td>\n",
              "      <td>NaN</td>\n",
              "    </tr>\n",
              "    <tr>\n",
              "      <th>356</th>\n",
              "      <td>2020-05-19 19:04:17.873</td>\n",
              "      <td>c5870b37ee3f672e4259dfb2fc02ed8f</td>\n",
              "      <td>1029</td>\n",
              "      <td>NaN</td>\n",
              "      <td>NaN</td>\n",
              "      <td>Statistical Learning Theory</td>\n",
              "      <td>Анализ неструктурированных данных</td>\n",
              "      <td>Сбор и обработка данных с помощью краудсорсинга</td>\n",
              "      <td>Обучение с подкреплением</td>\n",
              "      <td>Конфликты и кооперация</td>\n",
              "      <td>Компьютерное зрение</td>\n",
              "      <td>Да</td>\n",
              "      <td>0.920290</td>\n",
              "      <td>174.0</td>\n",
              "      <td>DevOps</td>\n",
              "      <td>NaN</td>\n",
              "    </tr>\n",
              "    <tr>\n",
              "      <th>357</th>\n",
              "      <td>2020-05-19 20:19:25.815</td>\n",
              "      <td>f44aea1095f9f5b8e2f5f0ed2b17891b</td>\n",
              "      <td>1060</td>\n",
              "      <td>NaN</td>\n",
              "      <td>NaN</td>\n",
              "      <td>Анализ неструктурированных данных</td>\n",
              "      <td>Высокопроизводительные вычисления</td>\n",
              "      <td>Моделирование временных рядов</td>\n",
              "      <td>Конфликты и кооперация</td>\n",
              "      <td>Обучение с подкреплением</td>\n",
              "      <td>Численные методы</td>\n",
              "      <td>Да</td>\n",
              "      <td>0.840580</td>\n",
              "      <td>174.0</td>\n",
              "      <td>DevOps</td>\n",
              "      <td>NaN</td>\n",
              "    </tr>\n",
              "    <tr>\n",
              "      <th>358</th>\n",
              "      <td>2020-05-20 11:54:38.318</td>\n",
              "      <td>d7118b44c7e8fdbbaaca226d2da6fef1</td>\n",
              "      <td>1111</td>\n",
              "      <td>NaN</td>\n",
              "      <td>NaN</td>\n",
              "      <td>Сбор и обработка данных с помощью краудсорсинга</td>\n",
              "      <td>Statistical Learning Theory</td>\n",
              "      <td>Анализ неструктурированных данных</td>\n",
              "      <td>Проектирование и разработка высоконагруженных ...</td>\n",
              "      <td>Методы сжатия и передачи медиаданных</td>\n",
              "      <td>Численные методы</td>\n",
              "      <td>Да</td>\n",
              "      <td>0.652174</td>\n",
              "      <td>173.0</td>\n",
              "      <td>Соревновательный анализ данных</td>\n",
              "      <td>NaN</td>\n",
              "    </tr>\n",
              "    <tr>\n",
              "      <th>359</th>\n",
              "      <td>2020-05-23 21:16:40.916</td>\n",
              "      <td>79d14db48e4737af731960ae212d5134</td>\n",
              "      <td>966</td>\n",
              "      <td>NaN</td>\n",
              "      <td>NaN</td>\n",
              "      <td>Безопасность компьютерных систем</td>\n",
              "      <td>Принятие решений в условиях риска и неопределё...</td>\n",
              "      <td>Анализ неструктурированных данных</td>\n",
              "      <td>Проектирование и разработка высоконагруженных ...</td>\n",
              "      <td>Методы сжатия и передачи медиаданных</td>\n",
              "      <td>Компьютерное зрение</td>\n",
              "      <td>Да</td>\n",
              "      <td>0.985507</td>\n",
              "      <td>172.0</td>\n",
              "      <td>DevOps</td>\n",
              "      <td>NaN</td>\n",
              "    </tr>\n",
              "    <tr>\n",
              "      <th>360</th>\n",
              "      <td>2020-05-23 21:16:40.916</td>\n",
              "      <td>f2d210ace25a841e1e58036b257d5d47</td>\n",
              "      <td>1195</td>\n",
              "      <td>NaN</td>\n",
              "      <td>NaN</td>\n",
              "      <td>Анализ неструктурированных данных</td>\n",
              "      <td>Моделирование временных рядов</td>\n",
              "      <td>Высокопроизводительные вычисления</td>\n",
              "      <td>Обучение с подкреплением</td>\n",
              "      <td>Компьютерное зрение</td>\n",
              "      <td>Методы сжатия и передачи медиаданных</td>\n",
              "      <td>NaN</td>\n",
              "      <td>0.369565</td>\n",
              "      <td>176.0</td>\n",
              "      <td>Соревновательный анализ данных</td>\n",
              "      <td>NaN</td>\n",
              "    </tr>\n",
              "  </tbody>\n",
              "</table>\n",
              "</div>\n",
              "      <button class=\"colab-df-convert\" onclick=\"convertToInteractive('df-3304643d-3e59-43c9-9561-abfe4fa7ff77')\"\n",
              "              title=\"Convert this dataframe to an interactive table.\"\n",
              "              style=\"display:none;\">\n",
              "        \n",
              "  <svg xmlns=\"http://www.w3.org/2000/svg\" height=\"24px\"viewBox=\"0 0 24 24\"\n",
              "       width=\"24px\">\n",
              "    <path d=\"M0 0h24v24H0V0z\" fill=\"none\"/>\n",
              "    <path d=\"M18.56 5.44l.94 2.06.94-2.06 2.06-.94-2.06-.94-.94-2.06-.94 2.06-2.06.94zm-11 1L8.5 8.5l.94-2.06 2.06-.94-2.06-.94L8.5 2.5l-.94 2.06-2.06.94zm10 10l.94 2.06.94-2.06 2.06-.94-2.06-.94-.94-2.06-.94 2.06-2.06.94z\"/><path d=\"M17.41 7.96l-1.37-1.37c-.4-.4-.92-.59-1.43-.59-.52 0-1.04.2-1.43.59L10.3 9.45l-7.72 7.72c-.78.78-.78 2.05 0 2.83L4 21.41c.39.39.9.59 1.41.59.51 0 1.02-.2 1.41-.59l7.78-7.78 2.81-2.81c.8-.78.8-2.07 0-2.86zM5.41 20L4 18.59l7.72-7.72 1.47 1.35L5.41 20z\"/>\n",
              "  </svg>\n",
              "      </button>\n",
              "      \n",
              "  <style>\n",
              "    .colab-df-container {\n",
              "      display:flex;\n",
              "      flex-wrap:wrap;\n",
              "      gap: 12px;\n",
              "    }\n",
              "\n",
              "    .colab-df-convert {\n",
              "      background-color: #E8F0FE;\n",
              "      border: none;\n",
              "      border-radius: 50%;\n",
              "      cursor: pointer;\n",
              "      display: none;\n",
              "      fill: #1967D2;\n",
              "      height: 32px;\n",
              "      padding: 0 0 0 0;\n",
              "      width: 32px;\n",
              "    }\n",
              "\n",
              "    .colab-df-convert:hover {\n",
              "      background-color: #E2EBFA;\n",
              "      box-shadow: 0px 1px 2px rgba(60, 64, 67, 0.3), 0px 1px 3px 1px rgba(60, 64, 67, 0.15);\n",
              "      fill: #174EA6;\n",
              "    }\n",
              "\n",
              "    [theme=dark] .colab-df-convert {\n",
              "      background-color: #3B4455;\n",
              "      fill: #D2E3FC;\n",
              "    }\n",
              "\n",
              "    [theme=dark] .colab-df-convert:hover {\n",
              "      background-color: #434B5C;\n",
              "      box-shadow: 0px 1px 3px 1px rgba(0, 0, 0, 0.15);\n",
              "      filter: drop-shadow(0px 1px 2px rgba(0, 0, 0, 0.3));\n",
              "      fill: #FFFFFF;\n",
              "    }\n",
              "  </style>\n",
              "\n",
              "      <script>\n",
              "        const buttonEl =\n",
              "          document.querySelector('#df-3304643d-3e59-43c9-9561-abfe4fa7ff77 button.colab-df-convert');\n",
              "        buttonEl.style.display =\n",
              "          google.colab.kernel.accessAllowed ? 'block' : 'none';\n",
              "\n",
              "        async function convertToInteractive(key) {\n",
              "          const element = document.querySelector('#df-3304643d-3e59-43c9-9561-abfe4fa7ff77');\n",
              "          const dataTable =\n",
              "            await google.colab.kernel.invokeFunction('convertToInteractive',\n",
              "                                                     [key], {});\n",
              "          if (!dataTable) return;\n",
              "\n",
              "          const docLinkHtml = 'Like what you see? Visit the ' +\n",
              "            '<a target=\"_blank\" href=https://colab.research.google.com/notebooks/data_table.ipynb>data table notebook</a>'\n",
              "            + ' to learn more about interactive tables.';\n",
              "          element.innerHTML = '';\n",
              "          dataTable['output_type'] = 'display_data';\n",
              "          await google.colab.output.renderOutput(dataTable, element);\n",
              "          const docLink = document.createElement('div');\n",
              "          docLink.innerHTML = docLinkHtml;\n",
              "          element.appendChild(docLink);\n",
              "        }\n",
              "      </script>\n",
              "    </div>\n",
              "  </div>\n",
              "  "
            ],
            "text/plain": [
              "                  timestamp                                id  rating  \\\n",
              "351 2020-05-18 23:58:33.903  8fe79f84f36e3a5d2d6745621321302c    1016   \n",
              "352 2020-05-18 23:59:20.831  f93afd8e92c336b471aa3bbbc579aefe    1298   \n",
              "353 2020-05-18 23:59:28.998  9963fc00d9405a35b894cc04a7e19855    1135   \n",
              "354 2020-05-19 08:55:39.509  98c5a2548d93f26bd4195466e93178b3    1035   \n",
              "355 2020-05-19 18:58:06.283  ba298cbd9be59b84bab33325e956f27e    1155   \n",
              "356 2020-05-19 19:04:17.873  c5870b37ee3f672e4259dfb2fc02ed8f    1029   \n",
              "357 2020-05-19 20:19:25.815  f44aea1095f9f5b8e2f5f0ed2b17891b    1060   \n",
              "358 2020-05-20 11:54:38.318  d7118b44c7e8fdbbaaca226d2da6fef1    1111   \n",
              "359 2020-05-23 21:16:40.916  79d14db48e4737af731960ae212d5134     966   \n",
              "360 2020-05-23 21:16:40.916  f2d210ace25a841e1e58036b257d5d47    1195   \n",
              "\n",
              "     18_group  is_mi                                           fall_1  \\\n",
              "351       NaN    NaN                 Безопасность компьютерных систем   \n",
              "352       NaN    NaN                Высокопроизводительные вычисления   \n",
              "353       NaN    NaN                 Безопасность компьютерных систем   \n",
              "354       NaN    NaN            Байесовские методы машинного обучения   \n",
              "355       NaN    NaN  Сбор и обработка данных с помощью краудсорсинга   \n",
              "356       NaN    NaN                      Statistical Learning Theory   \n",
              "357       NaN    NaN                Анализ неструктурированных данных   \n",
              "358       NaN    NaN  Сбор и обработка данных с помощью краудсорсинга   \n",
              "359       NaN    NaN                 Безопасность компьютерных систем   \n",
              "360       NaN    NaN                Анализ неструктурированных данных   \n",
              "\n",
              "                                                fall_2  \\\n",
              "351                  Высокопроизводительные вычисления   \n",
              "352    Сбор и обработка данных с помощью краудсорсинга   \n",
              "353                  Высокопроизводительные вычисления   \n",
              "354               Глубинное обучение в обработке звука   \n",
              "355              Байесовские методы машинного обучения   \n",
              "356                  Анализ неструктурированных данных   \n",
              "357                  Высокопроизводительные вычисления   \n",
              "358                        Statistical Learning Theory   \n",
              "359  Принятие решений в условиях риска и неопределё...   \n",
              "360                      Моделирование временных рядов   \n",
              "\n",
              "                                              fall_3  \\\n",
              "351  Сбор и обработка данных с помощью краудсорсинга   \n",
              "352                      Statistical Learning Theory   \n",
              "353                 Безопасность компьютерных систем   \n",
              "354                      Statistical Learning Theory   \n",
              "355                Анализ неструктурированных данных   \n",
              "356  Сбор и обработка данных с помощью краудсорсинга   \n",
              "357                    Моделирование временных рядов   \n",
              "358                Анализ неструктурированных данных   \n",
              "359                Анализ неструктурированных данных   \n",
              "360                Высокопроизводительные вычисления   \n",
              "\n",
              "                                              spring_1  \\\n",
              "351                             Конфликты и кооперация   \n",
              "352               Методы сжатия и передачи медиаданных   \n",
              "353  Проектирование и разработка высоконагруженных ...   \n",
              "354                           Обучение с подкреплением   \n",
              "355                             Конфликты и кооперация   \n",
              "356                           Обучение с подкреплением   \n",
              "357                             Конфликты и кооперация   \n",
              "358  Проектирование и разработка высоконагруженных ...   \n",
              "359  Проектирование и разработка высоконагруженных ...   \n",
              "360                           Обучение с подкреплением   \n",
              "\n",
              "                                              spring_2  \\\n",
              "351  Проектирование и разработка высоконагруженных ...   \n",
              "352  Проектирование и разработка высоконагруженных ...   \n",
              "353               Методы сжатия и передачи медиаданных   \n",
              "354            Генеративные модели в машинном обучении   \n",
              "355                           Обучение с подкреплением   \n",
              "356                             Конфликты и кооперация   \n",
              "357                           Обучение с подкреплением   \n",
              "358               Методы сжатия и передачи медиаданных   \n",
              "359               Методы сжатия и передачи медиаданных   \n",
              "360                                Компьютерное зрение   \n",
              "\n",
              "                                 spring_3 is_first_time  percentile  17_group  \\\n",
              "351                 Символьные вычисления            Да    0.942029     174.0   \n",
              "352                Конфликты и кооперация            Да    0.057971     175.0   \n",
              "353                 Символьные вычисления            Да    0.572464     175.0   \n",
              "354  Методы сжатия и передачи медиаданных           Нет    0.905797     171.0   \n",
              "355                   Компьютерное зрение            Да    0.507246     171.0   \n",
              "356                   Компьютерное зрение            Да    0.920290     174.0   \n",
              "357                      Численные методы            Да    0.840580     174.0   \n",
              "358                      Численные методы            Да    0.652174     173.0   \n",
              "359                   Компьютерное зрение            Да    0.985507     172.0   \n",
              "360  Методы сжатия и передачи медиаданных           NaN    0.369565     176.0   \n",
              "\n",
              "                            blended  is_ml_student  \n",
              "351                          DevOps            NaN  \n",
              "352                          DevOps            NaN  \n",
              "353                          DevOps            NaN  \n",
              "354                          DevOps            NaN  \n",
              "355  Соревновательный анализ данных            NaN  \n",
              "356                          DevOps            NaN  \n",
              "357                          DevOps            NaN  \n",
              "358  Соревновательный анализ данных            NaN  \n",
              "359                          DevOps            NaN  \n",
              "360  Соревновательный анализ данных            NaN  "
            ]
          },
          "execution_count": 7,
          "metadata": {},
          "output_type": "execute_result"
        }
      ],
      "source": [
        "# your code\n",
        "data = pd.read_excel('end_seminar.xlsx')\n",
        "data.tail(10)\n"
      ]
    },
    {
      "cell_type": "markdown",
      "metadata": {
        "id": "jPiMwyqHhLuy"
      },
      "source": [
        "#### 2. [0.5 балла] Есть ли в данных пропуски? В каких колонках? Сколько их в каждой из этих колонок?"
      ]
    },
    {
      "cell_type": "code",
      "execution_count": 8,
      "metadata": {
        "colab": {
          "base_uri": "https://localhost:8080/"
        },
        "id": "edY1RrSOhLuy",
        "outputId": "289fb815-2661-44b0-90b8-c58602ce7873"
      },
      "outputs": [
        {
          "data": {
            "text/plain": [
              "True"
            ]
          },
          "execution_count": 8,
          "metadata": {},
          "output_type": "execute_result"
        }
      ],
      "source": [
        "# your code\n",
        "data.isnull().values.any()"
      ]
    },
    {
      "cell_type": "markdown",
      "metadata": {
        "id": "_p25x-Snm7FS"
      },
      "source": [
        "да, пропуски есть)) сейчас будем смотреть, где именно..\n"
      ]
    },
    {
      "cell_type": "code",
      "execution_count": 9,
      "metadata": {
        "colab": {
          "base_uri": "https://localhost:8080/"
        },
        "id": "h8winb-Dm_1m",
        "outputId": "7ca612bd-4cd9-43ca-ab34-ff5ef8a18e5e"
      },
      "outputs": [
        {
          "data": {
            "text/plain": [
              "timestamp        False\n",
              "id               False\n",
              "rating           False\n",
              "18_group          True\n",
              "is_mi             True\n",
              "fall_1           False\n",
              "fall_2           False\n",
              "fall_3           False\n",
              "spring_1         False\n",
              "spring_2         False\n",
              "spring_3         False\n",
              "is_first_time     True\n",
              "percentile       False\n",
              "17_group          True\n",
              "blended           True\n",
              "is_ml_student     True\n",
              "dtype: bool"
            ]
          },
          "execution_count": 9,
          "metadata": {},
          "output_type": "execute_result"
        }
      ],
      "source": [
        "data.isnull().any()"
      ]
    },
    {
      "cell_type": "markdown",
      "metadata": {
        "id": "uLt5aQF9nVDZ"
      },
      "source": [
        "получается, что пропуски есть в всех колонках, где boolean value = True, то есть в колонках 18_group, is_mi, is_first_time, 17_group, blended, is_ml_student. \n",
        "теперь можем поглядеть, сколько этих пропусков в каждой колонке"
      ]
    },
    {
      "cell_type": "code",
      "execution_count": 10,
      "metadata": {
        "colab": {
          "base_uri": "https://localhost:8080/"
        },
        "id": "lc3m06yOniJH",
        "outputId": "1494a2c5-9c2f-4bb6-c850-0f169b7fac29"
      },
      "outputs": [
        {
          "data": {
            "text/plain": [
              "timestamp          0\n",
              "id                 0\n",
              "rating             0\n",
              "18_group         138\n",
              "is_mi            343\n",
              "fall_1             0\n",
              "fall_2             0\n",
              "fall_3             0\n",
              "spring_1           0\n",
              "spring_2           0\n",
              "spring_3           0\n",
              "is_first_time      2\n",
              "percentile         0\n",
              "17_group         223\n",
              "blended          223\n",
              "is_ml_student    304\n",
              "dtype: int64"
            ]
          },
          "execution_count": 10,
          "metadata": {},
          "output_type": "execute_result"
        }
      ],
      "source": [
        "data.isnull().sum()"
      ]
    },
    {
      "cell_type": "markdown",
      "metadata": {
        "id": "B5ORhP2uhLuz"
      },
      "source": [
        "Заполните пропуски пустой строкой для строковых колонок и нулём для числовых (постарайтесь избежать перечисления названий всех столбцов)."
      ]
    },
    {
      "cell_type": "markdown",
      "metadata": {
        "id": "GIX4HplsoOeH"
      },
      "source": [
        "сейчас разделим нашу изначальную табличку на две подтаблички, чтобы выполнить эту таску без перечислений\n"
      ]
    },
    {
      "cell_type": "code",
      "execution_count": 11,
      "metadata": {
        "colab": {
          "base_uri": "https://localhost:8080/"
        },
        "id": "vvaqkvmhwoo0",
        "outputId": "1fb66c42-70d3-419d-b5ef-280e0a8a7e8b"
      },
      "outputs": [
        {
          "data": {
            "text/plain": [
              "timestamp        datetime64[ns]\n",
              "id                       object\n",
              "rating                    int64\n",
              "18_group                float64\n",
              "is_mi                   float64\n",
              "fall_1                   object\n",
              "fall_2                   object\n",
              "fall_3                   object\n",
              "spring_1                 object\n",
              "spring_2                 object\n",
              "spring_3                 object\n",
              "is_first_time            object\n",
              "percentile              float64\n",
              "17_group                float64\n",
              "blended                  object\n",
              "is_ml_student           float64\n",
              "dtype: object"
            ]
          },
          "execution_count": 11,
          "metadata": {},
          "output_type": "execute_result"
        }
      ],
      "source": [
        "data.dtypes"
      ]
    },
    {
      "cell_type": "code",
      "execution_count": 12,
      "metadata": {
        "colab": {
          "base_uri": "https://localhost:8080/"
        },
        "id": "TlF_JJ2ghLuz",
        "outputId": "1a5152f8-adb3-46cb-9417-c47f9605fc19"
      },
      "outputs": [
        {
          "name": "stderr",
          "output_type": "stream",
          "text": [
            "/usr/local/lib/python3.7/dist-packages/pandas/core/frame.py:5182: SettingWithCopyWarning: \n",
            "A value is trying to be set on a copy of a slice from a DataFrame\n",
            "\n",
            "See the caveats in the documentation: https://pandas.pydata.org/pandas-docs/stable/user_guide/indexing.html#returning-a-view-versus-a-copy\n",
            "  downcast=downcast,\n"
          ]
        }
      ],
      "source": [
        "# your code\n",
        "data_numerical = data.select_dtypes(include=['int64', 'float64', 'datetime64[ns]'])\n",
        "data_numerical.fillna(0, inplace=True)"
      ]
    },
    {
      "cell_type": "code",
      "execution_count": 13,
      "metadata": {
        "id": "pUTLdb39tqaG"
      },
      "outputs": [],
      "source": [
        "data_categorial = data.select_dtypes(include='object') \n",
        "data_categorial.fillna('', inplace=True)"
      ]
    },
    {
      "cell_type": "code",
      "execution_count": 14,
      "metadata": {
        "id": "7Yn6XtEvu9yJ"
      },
      "outputs": [],
      "source": [
        "df = pd.merge(data_categorial, data_numerical, left_index=True, right_index=True)"
      ]
    },
    {
      "cell_type": "markdown",
      "metadata": {
        "id": "2o6o_jj2vpyW"
      },
      "source": [
        "проверим, есть ли в нашем новом датасете какие-то null values\n"
      ]
    },
    {
      "cell_type": "code",
      "execution_count": 15,
      "metadata": {
        "colab": {
          "base_uri": "https://localhost:8080/"
        },
        "id": "QN_29LzMvtTB",
        "outputId": "638076ce-12c3-46c7-db4d-fd1c82f891cb"
      },
      "outputs": [
        {
          "data": {
            "text/plain": [
              "id               False\n",
              "fall_1           False\n",
              "fall_2           False\n",
              "fall_3           False\n",
              "spring_1         False\n",
              "spring_2         False\n",
              "spring_3         False\n",
              "is_first_time    False\n",
              "blended          False\n",
              "timestamp        False\n",
              "rating           False\n",
              "18_group         False\n",
              "is_mi            False\n",
              "percentile       False\n",
              "17_group         False\n",
              "is_ml_student    False\n",
              "dtype: bool"
            ]
          },
          "execution_count": 15,
          "metadata": {},
          "output_type": "execute_result"
        }
      ],
      "source": [
        "df.isnull().any()"
      ]
    },
    {
      "cell_type": "markdown",
      "metadata": {
        "id": "M86ZJGvQv1na"
      },
      "source": [
        "их нет, кайф)"
      ]
    },
    {
      "cell_type": "markdown",
      "metadata": {
        "id": "w5ELhkT1hLuz"
      },
      "source": [
        "#### 3. [0.5 балла] Посмотрите повнимательнее на колонку 'is_first_time'. \n",
        "\n",
        "Есть ли в ней ответы \"Нет\"? Сколько их?\n",
        "\n",
        "Если вы найдете повторные обращения студентов, оставьте только самую позднюю версию. В дальнейших заданиях используйте версию данных без повторов.\n",
        "\n",
        "<i>Обращения со значением \"Нет\" в 'is_first_time' могут быть как повторными, так и первичными, поскольку поле заполняли сами студенты.</i>"
      ]
    },
    {
      "cell_type": "code",
      "execution_count": 16,
      "metadata": {
        "colab": {
          "base_uri": "https://localhost:8080/"
        },
        "id": "VEfiNsyQhLuz",
        "outputId": "5eb39d2d-d210-4756-b1e8-b7a5b3055cee"
      },
      "outputs": [
        {
          "data": {
            "text/plain": [
              "51"
            ]
          },
          "execution_count": 16,
          "metadata": {},
          "output_type": "execute_result"
        }
      ],
      "source": [
        "# your code\n",
        "df[df['is_first_time'] == 'Нет'].shape[0]\n",
        "#ну здесь нужно убрать повторяющиеся данные из таблички которые с такими же id"
      ]
    },
    {
      "cell_type": "code",
      "execution_count": 17,
      "metadata": {
        "colab": {
          "base_uri": "https://localhost:8080/",
          "height": 904
        },
        "id": "jLMKl0QcK_Al",
        "outputId": "6d7336b6-1bbe-4436-9fb0-abe97364e278"
      },
      "outputs": [
        {
          "data": {
            "text/html": [
              "\n",
              "  <div id=\"df-1f205b6a-136f-4db6-88fe-cdf7d7b30a81\">\n",
              "    <div class=\"colab-df-container\">\n",
              "      <div>\n",
              "<style scoped>\n",
              "    .dataframe tbody tr th:only-of-type {\n",
              "        vertical-align: middle;\n",
              "    }\n",
              "\n",
              "    .dataframe tbody tr th {\n",
              "        vertical-align: top;\n",
              "    }\n",
              "\n",
              "    .dataframe thead th {\n",
              "        text-align: right;\n",
              "    }\n",
              "</style>\n",
              "<table border=\"1\" class=\"dataframe\">\n",
              "  <thead>\n",
              "    <tr style=\"text-align: right;\">\n",
              "      <th></th>\n",
              "      <th>id</th>\n",
              "      <th>fall_1</th>\n",
              "      <th>fall_2</th>\n",
              "      <th>fall_3</th>\n",
              "      <th>spring_1</th>\n",
              "      <th>spring_2</th>\n",
              "      <th>spring_3</th>\n",
              "      <th>is_first_time</th>\n",
              "      <th>blended</th>\n",
              "      <th>timestamp</th>\n",
              "      <th>rating</th>\n",
              "      <th>18_group</th>\n",
              "      <th>is_mi</th>\n",
              "      <th>percentile</th>\n",
              "      <th>17_group</th>\n",
              "      <th>is_ml_student</th>\n",
              "    </tr>\n",
              "  </thead>\n",
              "  <tbody>\n",
              "    <tr>\n",
              "      <th>223</th>\n",
              "      <td>d555d2805e1d93d4f023e57dc4c8f403</td>\n",
              "      <td>Безопасность компьютерных систем</td>\n",
              "      <td>Глубинное обучение в обработке звука</td>\n",
              "      <td>Байесовские методы машинного обучения</td>\n",
              "      <td>Компьютерное зрение</td>\n",
              "      <td>Обучение с подкреплением</td>\n",
              "      <td>Проектирование и разработка высоконагруженных ...</td>\n",
              "      <td>Да</td>\n",
              "      <td>DevOps</td>\n",
              "      <td>2020-05-14 20:23:21.662</td>\n",
              "      <td>996</td>\n",
              "      <td>0.0</td>\n",
              "      <td>0.0</td>\n",
              "      <td>0.963768</td>\n",
              "      <td>172.0</td>\n",
              "      <td>0.0</td>\n",
              "    </tr>\n",
              "    <tr>\n",
              "      <th>224</th>\n",
              "      <td>253bbe1a2021d0404712a1e4acd22939</td>\n",
              "      <td>Безопасность компьютерных систем</td>\n",
              "      <td>Моделирование временных рядов</td>\n",
              "      <td>Statistical Learning Theory</td>\n",
              "      <td>Проектирование и разработка высоконагруженных ...</td>\n",
              "      <td>Численные методы</td>\n",
              "      <td>Методы сжатия и передачи медиаданных</td>\n",
              "      <td>Да</td>\n",
              "      <td>DevOps</td>\n",
              "      <td>2020-05-14 20:47:13.833</td>\n",
              "      <td>1106</td>\n",
              "      <td>0.0</td>\n",
              "      <td>0.0</td>\n",
              "      <td>0.673913</td>\n",
              "      <td>176.0</td>\n",
              "      <td>0.0</td>\n",
              "    </tr>\n",
              "    <tr>\n",
              "      <th>225</th>\n",
              "      <td>881b1a6fda195b354ae2edb396a69f5d</td>\n",
              "      <td>Безопасность компьютерных систем</td>\n",
              "      <td>Анализ неструктурированных данных</td>\n",
              "      <td>Глубинное обучение в обработке звука</td>\n",
              "      <td>Компьютерное зрение</td>\n",
              "      <td>Проектирование и разработка высоконагруженных ...</td>\n",
              "      <td>Генеративные модели в машинном обучении</td>\n",
              "      <td>Да</td>\n",
              "      <td>DevOps</td>\n",
              "      <td>2020-05-14 20:52:42.734</td>\n",
              "      <td>1084</td>\n",
              "      <td>0.0</td>\n",
              "      <td>0.0</td>\n",
              "      <td>0.782609</td>\n",
              "      <td>172.0</td>\n",
              "      <td>0.0</td>\n",
              "    </tr>\n",
              "    <tr>\n",
              "      <th>226</th>\n",
              "      <td>5a9b8ac11ad05b39a58b0e04a263bf4c</td>\n",
              "      <td>Глубинное обучение в обработке звука</td>\n",
              "      <td>Statistical Learning Theory</td>\n",
              "      <td>Сбор и обработка данных с помощью краудсорсинга</td>\n",
              "      <td>Конфликты и кооперация</td>\n",
              "      <td>Обучение с подкреплением</td>\n",
              "      <td>Генеративные модели в машинном обучении</td>\n",
              "      <td>Да</td>\n",
              "      <td>DevOps</td>\n",
              "      <td>2020-05-14 21:03:02.916</td>\n",
              "      <td>1170</td>\n",
              "      <td>0.0</td>\n",
              "      <td>0.0</td>\n",
              "      <td>0.442029</td>\n",
              "      <td>171.0</td>\n",
              "      <td>0.0</td>\n",
              "    </tr>\n",
              "    <tr>\n",
              "      <th>227</th>\n",
              "      <td>1bbbfae51794b83c769b634be8da7b8d</td>\n",
              "      <td>Безопасность компьютерных систем</td>\n",
              "      <td>Высокопроизводительные вычисления</td>\n",
              "      <td>Анализ неструктурированных данных</td>\n",
              "      <td>Проектирование и разработка высоконагруженных ...</td>\n",
              "      <td>Методы сжатия и передачи медиаданных</td>\n",
              "      <td>Конфликты и кооперация</td>\n",
              "      <td>Да</td>\n",
              "      <td>DevOps</td>\n",
              "      <td>2020-05-14 21:10:54.945</td>\n",
              "      <td>1078</td>\n",
              "      <td>0.0</td>\n",
              "      <td>0.0</td>\n",
              "      <td>0.789855</td>\n",
              "      <td>176.0</td>\n",
              "      <td>0.0</td>\n",
              "    </tr>\n",
              "    <tr>\n",
              "      <th>...</th>\n",
              "      <td>...</td>\n",
              "      <td>...</td>\n",
              "      <td>...</td>\n",
              "      <td>...</td>\n",
              "      <td>...</td>\n",
              "      <td>...</td>\n",
              "      <td>...</td>\n",
              "      <td>...</td>\n",
              "      <td>...</td>\n",
              "      <td>...</td>\n",
              "      <td>...</td>\n",
              "      <td>...</td>\n",
              "      <td>...</td>\n",
              "      <td>...</td>\n",
              "      <td>...</td>\n",
              "      <td>...</td>\n",
              "    </tr>\n",
              "    <tr>\n",
              "      <th>220</th>\n",
              "      <td>1341f488fae5f1ccf164960fd6506cd0</td>\n",
              "      <td>Язык SQL</td>\n",
              "      <td>Теория баз данных</td>\n",
              "      <td>Безопасность компьютерных систем</td>\n",
              "      <td>Промышленное программирование на языке Java</td>\n",
              "      <td>Компьютерные сети</td>\n",
              "      <td>Системы баз данных</td>\n",
              "      <td>Да</td>\n",
              "      <td></td>\n",
              "      <td>2020-05-21 16:33:15.899</td>\n",
              "      <td>584</td>\n",
              "      <td>188.0</td>\n",
              "      <td>0.0</td>\n",
              "      <td>0.721973</td>\n",
              "      <td>0.0</td>\n",
              "      <td>0.0</td>\n",
              "    </tr>\n",
              "    <tr>\n",
              "      <th>360</th>\n",
              "      <td>f2d210ace25a841e1e58036b257d5d47</td>\n",
              "      <td>Анализ неструктурированных данных</td>\n",
              "      <td>Моделирование временных рядов</td>\n",
              "      <td>Высокопроизводительные вычисления</td>\n",
              "      <td>Обучение с подкреплением</td>\n",
              "      <td>Компьютерное зрение</td>\n",
              "      <td>Методы сжатия и передачи медиаданных</td>\n",
              "      <td></td>\n",
              "      <td>Соревновательный анализ данных</td>\n",
              "      <td>2020-05-23 21:16:40.916</td>\n",
              "      <td>1195</td>\n",
              "      <td>0.0</td>\n",
              "      <td>0.0</td>\n",
              "      <td>0.369565</td>\n",
              "      <td>176.0</td>\n",
              "      <td>0.0</td>\n",
              "    </tr>\n",
              "    <tr>\n",
              "      <th>359</th>\n",
              "      <td>79d14db48e4737af731960ae212d5134</td>\n",
              "      <td>Безопасность компьютерных систем</td>\n",
              "      <td>Принятие решений в условиях риска и неопределё...</td>\n",
              "      <td>Анализ неструктурированных данных</td>\n",
              "      <td>Проектирование и разработка высоконагруженных ...</td>\n",
              "      <td>Методы сжатия и передачи медиаданных</td>\n",
              "      <td>Компьютерное зрение</td>\n",
              "      <td>Да</td>\n",
              "      <td>DevOps</td>\n",
              "      <td>2020-05-23 21:16:40.916</td>\n",
              "      <td>966</td>\n",
              "      <td>0.0</td>\n",
              "      <td>0.0</td>\n",
              "      <td>0.985507</td>\n",
              "      <td>172.0</td>\n",
              "      <td>0.0</td>\n",
              "    </tr>\n",
              "    <tr>\n",
              "      <th>221</th>\n",
              "      <td>04bcb5c9d23813ffa940e1febb27fadc</td>\n",
              "      <td>Теория баз данных</td>\n",
              "      <td>Высокопроизводительные вычисления</td>\n",
              "      <td>Безопасность компьютерных систем</td>\n",
              "      <td>Компьютерные сети</td>\n",
              "      <td>Дискретная оптимизация</td>\n",
              "      <td>Машинное обучение 2</td>\n",
              "      <td>Нет</td>\n",
              "      <td></td>\n",
              "      <td>2020-05-24 01:21:31.946</td>\n",
              "      <td>646</td>\n",
              "      <td>186.0</td>\n",
              "      <td>0.0</td>\n",
              "      <td>0.430493</td>\n",
              "      <td>0.0</td>\n",
              "      <td>0.0</td>\n",
              "    </tr>\n",
              "    <tr>\n",
              "      <th>222</th>\n",
              "      <td>9d19b0d5f4fc8d7edc2258406f872c4e</td>\n",
              "      <td>Безопасность компьютерных систем</td>\n",
              "      <td>Язык SQL</td>\n",
              "      <td>Высокопроизводительные вычисления</td>\n",
              "      <td>Компьютерные сети</td>\n",
              "      <td>Дискретная оптимизация</td>\n",
              "      <td>Численные методы</td>\n",
              "      <td></td>\n",
              "      <td></td>\n",
              "      <td>2020-05-24 01:23:31.946</td>\n",
              "      <td>695</td>\n",
              "      <td>188.0</td>\n",
              "      <td>0.0</td>\n",
              "      <td>0.197309</td>\n",
              "      <td>0.0</td>\n",
              "      <td>0.0</td>\n",
              "    </tr>\n",
              "  </tbody>\n",
              "</table>\n",
              "<p>361 rows × 16 columns</p>\n",
              "</div>\n",
              "      <button class=\"colab-df-convert\" onclick=\"convertToInteractive('df-1f205b6a-136f-4db6-88fe-cdf7d7b30a81')\"\n",
              "              title=\"Convert this dataframe to an interactive table.\"\n",
              "              style=\"display:none;\">\n",
              "        \n",
              "  <svg xmlns=\"http://www.w3.org/2000/svg\" height=\"24px\"viewBox=\"0 0 24 24\"\n",
              "       width=\"24px\">\n",
              "    <path d=\"M0 0h24v24H0V0z\" fill=\"none\"/>\n",
              "    <path d=\"M18.56 5.44l.94 2.06.94-2.06 2.06-.94-2.06-.94-.94-2.06-.94 2.06-2.06.94zm-11 1L8.5 8.5l.94-2.06 2.06-.94-2.06-.94L8.5 2.5l-.94 2.06-2.06.94zm10 10l.94 2.06.94-2.06 2.06-.94-2.06-.94-.94-2.06-.94 2.06-2.06.94z\"/><path d=\"M17.41 7.96l-1.37-1.37c-.4-.4-.92-.59-1.43-.59-.52 0-1.04.2-1.43.59L10.3 9.45l-7.72 7.72c-.78.78-.78 2.05 0 2.83L4 21.41c.39.39.9.59 1.41.59.51 0 1.02-.2 1.41-.59l7.78-7.78 2.81-2.81c.8-.78.8-2.07 0-2.86zM5.41 20L4 18.59l7.72-7.72 1.47 1.35L5.41 20z\"/>\n",
              "  </svg>\n",
              "      </button>\n",
              "      \n",
              "  <style>\n",
              "    .colab-df-container {\n",
              "      display:flex;\n",
              "      flex-wrap:wrap;\n",
              "      gap: 12px;\n",
              "    }\n",
              "\n",
              "    .colab-df-convert {\n",
              "      background-color: #E8F0FE;\n",
              "      border: none;\n",
              "      border-radius: 50%;\n",
              "      cursor: pointer;\n",
              "      display: none;\n",
              "      fill: #1967D2;\n",
              "      height: 32px;\n",
              "      padding: 0 0 0 0;\n",
              "      width: 32px;\n",
              "    }\n",
              "\n",
              "    .colab-df-convert:hover {\n",
              "      background-color: #E2EBFA;\n",
              "      box-shadow: 0px 1px 2px rgba(60, 64, 67, 0.3), 0px 1px 3px 1px rgba(60, 64, 67, 0.15);\n",
              "      fill: #174EA6;\n",
              "    }\n",
              "\n",
              "    [theme=dark] .colab-df-convert {\n",
              "      background-color: #3B4455;\n",
              "      fill: #D2E3FC;\n",
              "    }\n",
              "\n",
              "    [theme=dark] .colab-df-convert:hover {\n",
              "      background-color: #434B5C;\n",
              "      box-shadow: 0px 1px 3px 1px rgba(0, 0, 0, 0.15);\n",
              "      filter: drop-shadow(0px 1px 2px rgba(0, 0, 0, 0.3));\n",
              "      fill: #FFFFFF;\n",
              "    }\n",
              "  </style>\n",
              "\n",
              "      <script>\n",
              "        const buttonEl =\n",
              "          document.querySelector('#df-1f205b6a-136f-4db6-88fe-cdf7d7b30a81 button.colab-df-convert');\n",
              "        buttonEl.style.display =\n",
              "          google.colab.kernel.accessAllowed ? 'block' : 'none';\n",
              "\n",
              "        async function convertToInteractive(key) {\n",
              "          const element = document.querySelector('#df-1f205b6a-136f-4db6-88fe-cdf7d7b30a81');\n",
              "          const dataTable =\n",
              "            await google.colab.kernel.invokeFunction('convertToInteractive',\n",
              "                                                     [key], {});\n",
              "          if (!dataTable) return;\n",
              "\n",
              "          const docLinkHtml = 'Like what you see? Visit the ' +\n",
              "            '<a target=\"_blank\" href=https://colab.research.google.com/notebooks/data_table.ipynb>data table notebook</a>'\n",
              "            + ' to learn more about interactive tables.';\n",
              "          element.innerHTML = '';\n",
              "          dataTable['output_type'] = 'display_data';\n",
              "          await google.colab.output.renderOutput(dataTable, element);\n",
              "          const docLink = document.createElement('div');\n",
              "          docLink.innerHTML = docLinkHtml;\n",
              "          element.appendChild(docLink);\n",
              "        }\n",
              "      </script>\n",
              "    </div>\n",
              "  </div>\n",
              "  "
            ],
            "text/plain": [
              "                                   id                                fall_1  \\\n",
              "223  d555d2805e1d93d4f023e57dc4c8f403      Безопасность компьютерных систем   \n",
              "224  253bbe1a2021d0404712a1e4acd22939      Безопасность компьютерных систем   \n",
              "225  881b1a6fda195b354ae2edb396a69f5d      Безопасность компьютерных систем   \n",
              "226  5a9b8ac11ad05b39a58b0e04a263bf4c  Глубинное обучение в обработке звука   \n",
              "227  1bbbfae51794b83c769b634be8da7b8d      Безопасность компьютерных систем   \n",
              "..                                ...                                   ...   \n",
              "220  1341f488fae5f1ccf164960fd6506cd0                              Язык SQL   \n",
              "360  f2d210ace25a841e1e58036b257d5d47     Анализ неструктурированных данных   \n",
              "359  79d14db48e4737af731960ae212d5134      Безопасность компьютерных систем   \n",
              "221  04bcb5c9d23813ffa940e1febb27fadc                     Теория баз данных   \n",
              "222  9d19b0d5f4fc8d7edc2258406f872c4e      Безопасность компьютерных систем   \n",
              "\n",
              "                                                fall_2  \\\n",
              "223               Глубинное обучение в обработке звука   \n",
              "224                      Моделирование временных рядов   \n",
              "225                  Анализ неструктурированных данных   \n",
              "226                        Statistical Learning Theory   \n",
              "227                  Высокопроизводительные вычисления   \n",
              "..                                                 ...   \n",
              "220                                  Теория баз данных   \n",
              "360                      Моделирование временных рядов   \n",
              "359  Принятие решений в условиях риска и неопределё...   \n",
              "221                  Высокопроизводительные вычисления   \n",
              "222                                           Язык SQL   \n",
              "\n",
              "                                              fall_3  \\\n",
              "223            Байесовские методы машинного обучения   \n",
              "224                      Statistical Learning Theory   \n",
              "225             Глубинное обучение в обработке звука   \n",
              "226  Сбор и обработка данных с помощью краудсорсинга   \n",
              "227                Анализ неструктурированных данных   \n",
              "..                                               ...   \n",
              "220                 Безопасность компьютерных систем   \n",
              "360                Высокопроизводительные вычисления   \n",
              "359                Анализ неструктурированных данных   \n",
              "221                 Безопасность компьютерных систем   \n",
              "222                Высокопроизводительные вычисления   \n",
              "\n",
              "                                              spring_1  \\\n",
              "223                                Компьютерное зрение   \n",
              "224  Проектирование и разработка высоконагруженных ...   \n",
              "225                                Компьютерное зрение   \n",
              "226                             Конфликты и кооперация   \n",
              "227  Проектирование и разработка высоконагруженных ...   \n",
              "..                                                 ...   \n",
              "220        Промышленное программирование на языке Java   \n",
              "360                           Обучение с подкреплением   \n",
              "359  Проектирование и разработка высоконагруженных ...   \n",
              "221                                  Компьютерные сети   \n",
              "222                                  Компьютерные сети   \n",
              "\n",
              "                                              spring_2  \\\n",
              "223                           Обучение с подкреплением   \n",
              "224                                   Численные методы   \n",
              "225  Проектирование и разработка высоконагруженных ...   \n",
              "226                           Обучение с подкреплением   \n",
              "227               Методы сжатия и передачи медиаданных   \n",
              "..                                                 ...   \n",
              "220                                  Компьютерные сети   \n",
              "360                                Компьютерное зрение   \n",
              "359               Методы сжатия и передачи медиаданных   \n",
              "221                             Дискретная оптимизация   \n",
              "222                             Дискретная оптимизация   \n",
              "\n",
              "                                              spring_3 is_first_time  \\\n",
              "223  Проектирование и разработка высоконагруженных ...            Да   \n",
              "224               Методы сжатия и передачи медиаданных            Да   \n",
              "225            Генеративные модели в машинном обучении            Да   \n",
              "226            Генеративные модели в машинном обучении            Да   \n",
              "227                             Конфликты и кооперация            Да   \n",
              "..                                                 ...           ...   \n",
              "220                                 Системы баз данных            Да   \n",
              "360               Методы сжатия и передачи медиаданных                 \n",
              "359                                Компьютерное зрение            Да   \n",
              "221                                Машинное обучение 2           Нет   \n",
              "222                                   Численные методы                 \n",
              "\n",
              "                            blended               timestamp  rating  18_group  \\\n",
              "223                          DevOps 2020-05-14 20:23:21.662     996       0.0   \n",
              "224                          DevOps 2020-05-14 20:47:13.833    1106       0.0   \n",
              "225                          DevOps 2020-05-14 20:52:42.734    1084       0.0   \n",
              "226                          DevOps 2020-05-14 21:03:02.916    1170       0.0   \n",
              "227                          DevOps 2020-05-14 21:10:54.945    1078       0.0   \n",
              "..                              ...                     ...     ...       ...   \n",
              "220                                 2020-05-21 16:33:15.899     584     188.0   \n",
              "360  Соревновательный анализ данных 2020-05-23 21:16:40.916    1195       0.0   \n",
              "359                          DevOps 2020-05-23 21:16:40.916     966       0.0   \n",
              "221                                 2020-05-24 01:21:31.946     646     186.0   \n",
              "222                                 2020-05-24 01:23:31.946     695     188.0   \n",
              "\n",
              "     is_mi  percentile  17_group  is_ml_student  \n",
              "223    0.0    0.963768     172.0            0.0  \n",
              "224    0.0    0.673913     176.0            0.0  \n",
              "225    0.0    0.782609     172.0            0.0  \n",
              "226    0.0    0.442029     171.0            0.0  \n",
              "227    0.0    0.789855     176.0            0.0  \n",
              "..     ...         ...       ...            ...  \n",
              "220    0.0    0.721973       0.0            0.0  \n",
              "360    0.0    0.369565     176.0            0.0  \n",
              "359    0.0    0.985507     172.0            0.0  \n",
              "221    0.0    0.430493       0.0            0.0  \n",
              "222    0.0    0.197309       0.0            0.0  \n",
              "\n",
              "[361 rows x 16 columns]"
            ]
          },
          "execution_count": 17,
          "metadata": {},
          "output_type": "execute_result"
        }
      ],
      "source": [
        "df.sort_values(by=['timestamp'])\n",
        "#сортируем по дате, чтобы дальше дропнулись правильные повторения"
      ]
    },
    {
      "cell_type": "code",
      "execution_count": 18,
      "metadata": {
        "colab": {
          "base_uri": "https://localhost:8080/",
          "height": 800
        },
        "id": "9jMNFLPUKdeg",
        "outputId": "67590c23-dd03-4138-835c-fcf151983faa"
      },
      "outputs": [
        {
          "data": {
            "text/html": [
              "\n",
              "  <div id=\"df-6f2bca0f-0203-48e2-94f1-80e7a1ffd2a0\">\n",
              "    <div class=\"colab-df-container\">\n",
              "      <div>\n",
              "<style scoped>\n",
              "    .dataframe tbody tr th:only-of-type {\n",
              "        vertical-align: middle;\n",
              "    }\n",
              "\n",
              "    .dataframe tbody tr th {\n",
              "        vertical-align: top;\n",
              "    }\n",
              "\n",
              "    .dataframe thead th {\n",
              "        text-align: right;\n",
              "    }\n",
              "</style>\n",
              "<table border=\"1\" class=\"dataframe\">\n",
              "  <thead>\n",
              "    <tr style=\"text-align: right;\">\n",
              "      <th></th>\n",
              "      <th>id</th>\n",
              "      <th>fall_1</th>\n",
              "      <th>fall_2</th>\n",
              "      <th>fall_3</th>\n",
              "      <th>spring_1</th>\n",
              "      <th>spring_2</th>\n",
              "      <th>spring_3</th>\n",
              "      <th>is_first_time</th>\n",
              "      <th>blended</th>\n",
              "      <th>timestamp</th>\n",
              "      <th>rating</th>\n",
              "      <th>18_group</th>\n",
              "      <th>is_mi</th>\n",
              "      <th>percentile</th>\n",
              "      <th>17_group</th>\n",
              "      <th>is_ml_student</th>\n",
              "    </tr>\n",
              "  </thead>\n",
              "  <tbody>\n",
              "    <tr>\n",
              "      <th>0</th>\n",
              "      <td>93ff79a51cd602f1dd3028ba2c129503</td>\n",
              "      <td>Язык SQL</td>\n",
              "      <td>Высокопроизводительные вычисления</td>\n",
              "      <td>Матричные вычисления</td>\n",
              "      <td>Дискретная оптимизация</td>\n",
              "      <td>Численные методы</td>\n",
              "      <td>Машинное обучение 2</td>\n",
              "      <td>Да</td>\n",
              "      <td></td>\n",
              "      <td>2020-05-15 01:12:50.543</td>\n",
              "      <td>698</td>\n",
              "      <td>181.0</td>\n",
              "      <td>0.0</td>\n",
              "      <td>0.183857</td>\n",
              "      <td>0.0</td>\n",
              "      <td>0.0</td>\n",
              "    </tr>\n",
              "    <tr>\n",
              "      <th>1</th>\n",
              "      <td>26b01b1c4cd5656bab18d24c548834fb</td>\n",
              "      <td>Высокопроизводительные вычисления</td>\n",
              "      <td>Безопасность компьютерных систем</td>\n",
              "      <td>Язык SQL</td>\n",
              "      <td>Дискретная оптимизация</td>\n",
              "      <td>Численные методы</td>\n",
              "      <td>Машинное обучение 2</td>\n",
              "      <td>Нет</td>\n",
              "      <td></td>\n",
              "      <td>2020-05-15 02:46:48.066</td>\n",
              "      <td>647</td>\n",
              "      <td>181.0</td>\n",
              "      <td>0.0</td>\n",
              "      <td>0.426009</td>\n",
              "      <td>0.0</td>\n",
              "      <td>0.0</td>\n",
              "    </tr>\n",
              "    <tr>\n",
              "      <th>2</th>\n",
              "      <td>30f3653fc176d54e89ac3179c455c6dd</td>\n",
              "      <td>Безопасность компьютерных систем</td>\n",
              "      <td>Матричные вычисления</td>\n",
              "      <td>Моделирование временных рядов</td>\n",
              "      <td>Дискретная оптимизация</td>\n",
              "      <td>Машинное обучение 2</td>\n",
              "      <td>Численные методы</td>\n",
              "      <td>Да</td>\n",
              "      <td></td>\n",
              "      <td>2020-05-15 03:12:41.480</td>\n",
              "      <td>624</td>\n",
              "      <td>185.0</td>\n",
              "      <td>0.0</td>\n",
              "      <td>0.538117</td>\n",
              "      <td>0.0</td>\n",
              "      <td>0.0</td>\n",
              "    </tr>\n",
              "    <tr>\n",
              "      <th>3</th>\n",
              "      <td>1528f0eaa027580820ccf0d92a53ad68</td>\n",
              "      <td>Statistical Learning Theory</td>\n",
              "      <td>Высокопроизводительные вычисления</td>\n",
              "      <td>Матричные вычисления</td>\n",
              "      <td>Дискретная оптимизация</td>\n",
              "      <td>Численные методы</td>\n",
              "      <td>Машинное обучение 2</td>\n",
              "      <td>Да</td>\n",
              "      <td></td>\n",
              "      <td>2020-05-15 04:43:08.994</td>\n",
              "      <td>579</td>\n",
              "      <td>182.0</td>\n",
              "      <td>0.0</td>\n",
              "      <td>0.744395</td>\n",
              "      <td>0.0</td>\n",
              "      <td>0.0</td>\n",
              "    </tr>\n",
              "    <tr>\n",
              "      <th>4</th>\n",
              "      <td>496ea4f0d4abe264b1bb1b80eb3830c5</td>\n",
              "      <td>Высокопроизводительные вычисления</td>\n",
              "      <td>Безопасность компьютерных систем</td>\n",
              "      <td>Теория баз данных</td>\n",
              "      <td>Компьютерные сети</td>\n",
              "      <td>Дискретная оптимизация</td>\n",
              "      <td>Численные методы</td>\n",
              "      <td>Да</td>\n",
              "      <td></td>\n",
              "      <td>2020-05-15 07:47:17.197</td>\n",
              "      <td>572</td>\n",
              "      <td>183.0</td>\n",
              "      <td>0.0</td>\n",
              "      <td>0.780269</td>\n",
              "      <td>0.0</td>\n",
              "      <td>0.0</td>\n",
              "    </tr>\n",
              "    <tr>\n",
              "      <th>...</th>\n",
              "      <td>...</td>\n",
              "      <td>...</td>\n",
              "      <td>...</td>\n",
              "      <td>...</td>\n",
              "      <td>...</td>\n",
              "      <td>...</td>\n",
              "      <td>...</td>\n",
              "      <td>...</td>\n",
              "      <td>...</td>\n",
              "      <td>...</td>\n",
              "      <td>...</td>\n",
              "      <td>...</td>\n",
              "      <td>...</td>\n",
              "      <td>...</td>\n",
              "      <td>...</td>\n",
              "      <td>...</td>\n",
              "    </tr>\n",
              "    <tr>\n",
              "      <th>356</th>\n",
              "      <td>c5870b37ee3f672e4259dfb2fc02ed8f</td>\n",
              "      <td>Statistical Learning Theory</td>\n",
              "      <td>Анализ неструктурированных данных</td>\n",
              "      <td>Сбор и обработка данных с помощью краудсорсинга</td>\n",
              "      <td>Обучение с подкреплением</td>\n",
              "      <td>Конфликты и кооперация</td>\n",
              "      <td>Компьютерное зрение</td>\n",
              "      <td>Да</td>\n",
              "      <td>DevOps</td>\n",
              "      <td>2020-05-19 19:04:17.873</td>\n",
              "      <td>1029</td>\n",
              "      <td>0.0</td>\n",
              "      <td>0.0</td>\n",
              "      <td>0.920290</td>\n",
              "      <td>174.0</td>\n",
              "      <td>0.0</td>\n",
              "    </tr>\n",
              "    <tr>\n",
              "      <th>357</th>\n",
              "      <td>f44aea1095f9f5b8e2f5f0ed2b17891b</td>\n",
              "      <td>Анализ неструктурированных данных</td>\n",
              "      <td>Высокопроизводительные вычисления</td>\n",
              "      <td>Моделирование временных рядов</td>\n",
              "      <td>Конфликты и кооперация</td>\n",
              "      <td>Обучение с подкреплением</td>\n",
              "      <td>Численные методы</td>\n",
              "      <td>Да</td>\n",
              "      <td>DevOps</td>\n",
              "      <td>2020-05-19 20:19:25.815</td>\n",
              "      <td>1060</td>\n",
              "      <td>0.0</td>\n",
              "      <td>0.0</td>\n",
              "      <td>0.840580</td>\n",
              "      <td>174.0</td>\n",
              "      <td>0.0</td>\n",
              "    </tr>\n",
              "    <tr>\n",
              "      <th>358</th>\n",
              "      <td>d7118b44c7e8fdbbaaca226d2da6fef1</td>\n",
              "      <td>Сбор и обработка данных с помощью краудсорсинга</td>\n",
              "      <td>Statistical Learning Theory</td>\n",
              "      <td>Анализ неструктурированных данных</td>\n",
              "      <td>Проектирование и разработка высоконагруженных ...</td>\n",
              "      <td>Методы сжатия и передачи медиаданных</td>\n",
              "      <td>Численные методы</td>\n",
              "      <td>Да</td>\n",
              "      <td>Соревновательный анализ данных</td>\n",
              "      <td>2020-05-20 11:54:38.318</td>\n",
              "      <td>1111</td>\n",
              "      <td>0.0</td>\n",
              "      <td>0.0</td>\n",
              "      <td>0.652174</td>\n",
              "      <td>173.0</td>\n",
              "      <td>0.0</td>\n",
              "    </tr>\n",
              "    <tr>\n",
              "      <th>359</th>\n",
              "      <td>79d14db48e4737af731960ae212d5134</td>\n",
              "      <td>Безопасность компьютерных систем</td>\n",
              "      <td>Принятие решений в условиях риска и неопределё...</td>\n",
              "      <td>Анализ неструктурированных данных</td>\n",
              "      <td>Проектирование и разработка высоконагруженных ...</td>\n",
              "      <td>Методы сжатия и передачи медиаданных</td>\n",
              "      <td>Компьютерное зрение</td>\n",
              "      <td>Да</td>\n",
              "      <td>DevOps</td>\n",
              "      <td>2020-05-23 21:16:40.916</td>\n",
              "      <td>966</td>\n",
              "      <td>0.0</td>\n",
              "      <td>0.0</td>\n",
              "      <td>0.985507</td>\n",
              "      <td>172.0</td>\n",
              "      <td>0.0</td>\n",
              "    </tr>\n",
              "    <tr>\n",
              "      <th>360</th>\n",
              "      <td>f2d210ace25a841e1e58036b257d5d47</td>\n",
              "      <td>Анализ неструктурированных данных</td>\n",
              "      <td>Моделирование временных рядов</td>\n",
              "      <td>Высокопроизводительные вычисления</td>\n",
              "      <td>Обучение с подкреплением</td>\n",
              "      <td>Компьютерное зрение</td>\n",
              "      <td>Методы сжатия и передачи медиаданных</td>\n",
              "      <td></td>\n",
              "      <td>Соревновательный анализ данных</td>\n",
              "      <td>2020-05-23 21:16:40.916</td>\n",
              "      <td>1195</td>\n",
              "      <td>0.0</td>\n",
              "      <td>0.0</td>\n",
              "      <td>0.369565</td>\n",
              "      <td>176.0</td>\n",
              "      <td>0.0</td>\n",
              "    </tr>\n",
              "  </tbody>\n",
              "</table>\n",
              "<p>347 rows × 16 columns</p>\n",
              "</div>\n",
              "      <button class=\"colab-df-convert\" onclick=\"convertToInteractive('df-6f2bca0f-0203-48e2-94f1-80e7a1ffd2a0')\"\n",
              "              title=\"Convert this dataframe to an interactive table.\"\n",
              "              style=\"display:none;\">\n",
              "        \n",
              "  <svg xmlns=\"http://www.w3.org/2000/svg\" height=\"24px\"viewBox=\"0 0 24 24\"\n",
              "       width=\"24px\">\n",
              "    <path d=\"M0 0h24v24H0V0z\" fill=\"none\"/>\n",
              "    <path d=\"M18.56 5.44l.94 2.06.94-2.06 2.06-.94-2.06-.94-.94-2.06-.94 2.06-2.06.94zm-11 1L8.5 8.5l.94-2.06 2.06-.94-2.06-.94L8.5 2.5l-.94 2.06-2.06.94zm10 10l.94 2.06.94-2.06 2.06-.94-2.06-.94-.94-2.06-.94 2.06-2.06.94z\"/><path d=\"M17.41 7.96l-1.37-1.37c-.4-.4-.92-.59-1.43-.59-.52 0-1.04.2-1.43.59L10.3 9.45l-7.72 7.72c-.78.78-.78 2.05 0 2.83L4 21.41c.39.39.9.59 1.41.59.51 0 1.02-.2 1.41-.59l7.78-7.78 2.81-2.81c.8-.78.8-2.07 0-2.86zM5.41 20L4 18.59l7.72-7.72 1.47 1.35L5.41 20z\"/>\n",
              "  </svg>\n",
              "      </button>\n",
              "      \n",
              "  <style>\n",
              "    .colab-df-container {\n",
              "      display:flex;\n",
              "      flex-wrap:wrap;\n",
              "      gap: 12px;\n",
              "    }\n",
              "\n",
              "    .colab-df-convert {\n",
              "      background-color: #E8F0FE;\n",
              "      border: none;\n",
              "      border-radius: 50%;\n",
              "      cursor: pointer;\n",
              "      display: none;\n",
              "      fill: #1967D2;\n",
              "      height: 32px;\n",
              "      padding: 0 0 0 0;\n",
              "      width: 32px;\n",
              "    }\n",
              "\n",
              "    .colab-df-convert:hover {\n",
              "      background-color: #E2EBFA;\n",
              "      box-shadow: 0px 1px 2px rgba(60, 64, 67, 0.3), 0px 1px 3px 1px rgba(60, 64, 67, 0.15);\n",
              "      fill: #174EA6;\n",
              "    }\n",
              "\n",
              "    [theme=dark] .colab-df-convert {\n",
              "      background-color: #3B4455;\n",
              "      fill: #D2E3FC;\n",
              "    }\n",
              "\n",
              "    [theme=dark] .colab-df-convert:hover {\n",
              "      background-color: #434B5C;\n",
              "      box-shadow: 0px 1px 3px 1px rgba(0, 0, 0, 0.15);\n",
              "      filter: drop-shadow(0px 1px 2px rgba(0, 0, 0, 0.3));\n",
              "      fill: #FFFFFF;\n",
              "    }\n",
              "  </style>\n",
              "\n",
              "      <script>\n",
              "        const buttonEl =\n",
              "          document.querySelector('#df-6f2bca0f-0203-48e2-94f1-80e7a1ffd2a0 button.colab-df-convert');\n",
              "        buttonEl.style.display =\n",
              "          google.colab.kernel.accessAllowed ? 'block' : 'none';\n",
              "\n",
              "        async function convertToInteractive(key) {\n",
              "          const element = document.querySelector('#df-6f2bca0f-0203-48e2-94f1-80e7a1ffd2a0');\n",
              "          const dataTable =\n",
              "            await google.colab.kernel.invokeFunction('convertToInteractive',\n",
              "                                                     [key], {});\n",
              "          if (!dataTable) return;\n",
              "\n",
              "          const docLinkHtml = 'Like what you see? Visit the ' +\n",
              "            '<a target=\"_blank\" href=https://colab.research.google.com/notebooks/data_table.ipynb>data table notebook</a>'\n",
              "            + ' to learn more about interactive tables.';\n",
              "          element.innerHTML = '';\n",
              "          dataTable['output_type'] = 'display_data';\n",
              "          await google.colab.output.renderOutput(dataTable, element);\n",
              "          const docLink = document.createElement('div');\n",
              "          docLink.innerHTML = docLinkHtml;\n",
              "          element.appendChild(docLink);\n",
              "        }\n",
              "      </script>\n",
              "    </div>\n",
              "  </div>\n",
              "  "
            ],
            "text/plain": [
              "                                   id  \\\n",
              "0    93ff79a51cd602f1dd3028ba2c129503   \n",
              "1    26b01b1c4cd5656bab18d24c548834fb   \n",
              "2    30f3653fc176d54e89ac3179c455c6dd   \n",
              "3    1528f0eaa027580820ccf0d92a53ad68   \n",
              "4    496ea4f0d4abe264b1bb1b80eb3830c5   \n",
              "..                                ...   \n",
              "356  c5870b37ee3f672e4259dfb2fc02ed8f   \n",
              "357  f44aea1095f9f5b8e2f5f0ed2b17891b   \n",
              "358  d7118b44c7e8fdbbaaca226d2da6fef1   \n",
              "359  79d14db48e4737af731960ae212d5134   \n",
              "360  f2d210ace25a841e1e58036b257d5d47   \n",
              "\n",
              "                                              fall_1  \\\n",
              "0                                           Язык SQL   \n",
              "1                  Высокопроизводительные вычисления   \n",
              "2                   Безопасность компьютерных систем   \n",
              "3                        Statistical Learning Theory   \n",
              "4                  Высокопроизводительные вычисления   \n",
              "..                                               ...   \n",
              "356                      Statistical Learning Theory   \n",
              "357                Анализ неструктурированных данных   \n",
              "358  Сбор и обработка данных с помощью краудсорсинга   \n",
              "359                 Безопасность компьютерных систем   \n",
              "360                Анализ неструктурированных данных   \n",
              "\n",
              "                                                fall_2  \\\n",
              "0                    Высокопроизводительные вычисления   \n",
              "1                     Безопасность компьютерных систем   \n",
              "2                                 Матричные вычисления   \n",
              "3                    Высокопроизводительные вычисления   \n",
              "4                     Безопасность компьютерных систем   \n",
              "..                                                 ...   \n",
              "356                  Анализ неструктурированных данных   \n",
              "357                  Высокопроизводительные вычисления   \n",
              "358                        Statistical Learning Theory   \n",
              "359  Принятие решений в условиях риска и неопределё...   \n",
              "360                      Моделирование временных рядов   \n",
              "\n",
              "                                              fall_3  \\\n",
              "0                               Матричные вычисления   \n",
              "1                                           Язык SQL   \n",
              "2                      Моделирование временных рядов   \n",
              "3                               Матричные вычисления   \n",
              "4                                  Теория баз данных   \n",
              "..                                               ...   \n",
              "356  Сбор и обработка данных с помощью краудсорсинга   \n",
              "357                    Моделирование временных рядов   \n",
              "358                Анализ неструктурированных данных   \n",
              "359                Анализ неструктурированных данных   \n",
              "360                Высокопроизводительные вычисления   \n",
              "\n",
              "                                              spring_1  \\\n",
              "0                               Дискретная оптимизация   \n",
              "1                               Дискретная оптимизация   \n",
              "2                               Дискретная оптимизация   \n",
              "3                               Дискретная оптимизация   \n",
              "4                                    Компьютерные сети   \n",
              "..                                                 ...   \n",
              "356                           Обучение с подкреплением   \n",
              "357                             Конфликты и кооперация   \n",
              "358  Проектирование и разработка высоконагруженных ...   \n",
              "359  Проектирование и разработка высоконагруженных ...   \n",
              "360                           Обучение с подкреплением   \n",
              "\n",
              "                                 spring_2  \\\n",
              "0                        Численные методы   \n",
              "1                        Численные методы   \n",
              "2                     Машинное обучение 2   \n",
              "3                        Численные методы   \n",
              "4                  Дискретная оптимизация   \n",
              "..                                    ...   \n",
              "356                Конфликты и кооперация   \n",
              "357              Обучение с подкреплением   \n",
              "358  Методы сжатия и передачи медиаданных   \n",
              "359  Методы сжатия и передачи медиаданных   \n",
              "360                   Компьютерное зрение   \n",
              "\n",
              "                                 spring_3 is_first_time  \\\n",
              "0                     Машинное обучение 2            Да   \n",
              "1                     Машинное обучение 2           Нет   \n",
              "2                        Численные методы            Да   \n",
              "3                     Машинное обучение 2            Да   \n",
              "4                        Численные методы            Да   \n",
              "..                                    ...           ...   \n",
              "356                   Компьютерное зрение            Да   \n",
              "357                      Численные методы            Да   \n",
              "358                      Численные методы            Да   \n",
              "359                   Компьютерное зрение            Да   \n",
              "360  Методы сжатия и передачи медиаданных                 \n",
              "\n",
              "                            blended               timestamp  rating  18_group  \\\n",
              "0                                   2020-05-15 01:12:50.543     698     181.0   \n",
              "1                                   2020-05-15 02:46:48.066     647     181.0   \n",
              "2                                   2020-05-15 03:12:41.480     624     185.0   \n",
              "3                                   2020-05-15 04:43:08.994     579     182.0   \n",
              "4                                   2020-05-15 07:47:17.197     572     183.0   \n",
              "..                              ...                     ...     ...       ...   \n",
              "356                          DevOps 2020-05-19 19:04:17.873    1029       0.0   \n",
              "357                          DevOps 2020-05-19 20:19:25.815    1060       0.0   \n",
              "358  Соревновательный анализ данных 2020-05-20 11:54:38.318    1111       0.0   \n",
              "359                          DevOps 2020-05-23 21:16:40.916     966       0.0   \n",
              "360  Соревновательный анализ данных 2020-05-23 21:16:40.916    1195       0.0   \n",
              "\n",
              "     is_mi  percentile  17_group  is_ml_student  \n",
              "0      0.0    0.183857       0.0            0.0  \n",
              "1      0.0    0.426009       0.0            0.0  \n",
              "2      0.0    0.538117       0.0            0.0  \n",
              "3      0.0    0.744395       0.0            0.0  \n",
              "4      0.0    0.780269       0.0            0.0  \n",
              "..     ...         ...       ...            ...  \n",
              "356    0.0    0.920290     174.0            0.0  \n",
              "357    0.0    0.840580     174.0            0.0  \n",
              "358    0.0    0.652174     173.0            0.0  \n",
              "359    0.0    0.985507     172.0            0.0  \n",
              "360    0.0    0.369565     176.0            0.0  \n",
              "\n",
              "[347 rows x 16 columns]"
            ]
          },
          "execution_count": 18,
          "metadata": {},
          "output_type": "execute_result"
        }
      ],
      "source": [
        "df = df.drop_duplicates(subset=['id'], keep='last')\n",
        "df"
      ]
    },
    {
      "cell_type": "markdown",
      "metadata": {
        "id": "Jhk3tVpVhLuy"
      },
      "source": [
        "#### 4. [0.5 балла] Ответьте на вопросы:\n",
        "1. Сколько было заявок из групп 18-го года набора, а сколько из групп 17-го года?\n",
        "2. Есть ли студенты с равными перцентилями (среди объединенных данных, ведь конкурс на каждый курс общий)?"
      ]
    },
    {
      "cell_type": "code",
      "execution_count": 19,
      "metadata": {
        "colab": {
          "base_uri": "https://localhost:8080/"
        },
        "id": "bsn4vn8RhLuy",
        "outputId": "cfcfc262-fb41-418a-f838-35c6c1750618"
      },
      "outputs": [
        {
          "data": {
            "text/plain": [
              "134"
            ]
          },
          "execution_count": 19,
          "metadata": {},
          "output_type": "execute_result"
        }
      ],
      "source": [
        "# your code\n",
        "df[df['17_group'] > 0].shape[0]"
      ]
    },
    {
      "cell_type": "code",
      "execution_count": 20,
      "metadata": {
        "colab": {
          "base_uri": "https://localhost:8080/"
        },
        "id": "xgul8D7XNISU",
        "outputId": "361dd78e-b91d-4c59-8cbe-4b48b0644099"
      },
      "outputs": [
        {
          "data": {
            "text/plain": [
              "213"
            ]
          },
          "execution_count": 20,
          "metadata": {},
          "output_type": "execute_result"
        }
      ],
      "source": [
        "df[df['18_group'] > 0].shape[0]"
      ]
    },
    {
      "cell_type": "markdown",
      "metadata": {
        "id": "0G3tEGvONhE9"
      },
      "source": [
        "из групп 17-го года 134 заявки, из групп 18-го 213 заявок\n"
      ]
    },
    {
      "cell_type": "code",
      "execution_count": 21,
      "metadata": {
        "colab": {
          "base_uri": "https://localhost:8080/"
        },
        "id": "xK_-totzNmF_",
        "outputId": "433271fa-4412-4636-883f-1135138382a3"
      },
      "outputs": [
        {
          "data": {
            "text/plain": [
              "True"
            ]
          },
          "execution_count": 21,
          "metadata": {},
          "output_type": "execute_result"
        }
      ],
      "source": [
        "dups = df.duplicated(subset=['percentile'], keep=False)\n",
        "dups.any()"
      ]
    },
    {
      "cell_type": "markdown",
      "metadata": {
        "id": "771ZF3ojQmWS"
      },
      "source": [
        "метод any вывел нам True, следовательно в датафрейме dups есть значения True -> есть студенты с равными перцентилями"
      ]
    },
    {
      "cell_type": "markdown",
      "metadata": {
        "id": "IlzHp3HVhLuz"
      },
      "source": [
        "#### 5. [0.5 балла] Какие  blended-курсы для четверокурсников существуют? На какой blended-курс записалось наибольшее количество студентов? На каком из blended-курсов собрались студенты с самым высоким средним рейтингом (выведите этот курс и количество студентов на нем)? "
      ]
    },
    {
      "cell_type": "code",
      "execution_count": 22,
      "metadata": {
        "colab": {
          "base_uri": "https://localhost:8080/"
        },
        "id": "j_BRWerHhLu0",
        "outputId": "5db9748f-f5d5-4634-f153-23c4e67be6f5"
      },
      "outputs": [
        {
          "data": {
            "text/plain": [
              "array(['DevOps', 'Введение в дифференциальную геометрию',\n",
              "       'Соревновательный анализ данных'], dtype=object)"
            ]
          },
          "execution_count": 22,
          "metadata": {},
          "output_type": "execute_result"
        }
      ],
      "source": [
        "# your code\n",
        "df[df['17_group'] > 0]['blended'].unique()"
      ]
    },
    {
      "cell_type": "code",
      "execution_count": 23,
      "metadata": {
        "colab": {
          "base_uri": "https://localhost:8080/"
        },
        "id": "MS_TN8MoULog",
        "outputId": "912764e4-9c9d-4f46-a0e9-806712088d36"
      },
      "outputs": [
        {
          "name": "stdout",
          "output_type": "stream",
          "text": [
            "DevOps =  87 Введение в дифференциальную геометрию =  15 Соревновательный анализ данных =  32\n"
          ]
        }
      ],
      "source": [
        "c_dev = df[(df['17_group'] > 0) & (df['blended'] == 'DevOps')].shape[0] \n",
        "c_dif = df[(df['17_group'] > 0) & (df['blended'] == 'Введение в дифференциальную геометрию')].shape[0]\n",
        "c_ad = df[(df['17_group'] > 0) & (df['blended'] == 'Соревновательный анализ данных')].shape[0]\n",
        "print(\"DevOps = \", c_dev, \"Введение в дифференциальную геометрию = \", c_dif, \"Соревновательный анализ данных = \", c_ad)"
      ]
    },
    {
      "cell_type": "markdown",
      "metadata": {
        "id": "9GYRtqtTVUDl"
      },
      "source": [
        " больше всего записалось на devops"
      ]
    },
    {
      "cell_type": "code",
      "execution_count": 24,
      "metadata": {
        "colab": {
          "base_uri": "https://localhost:8080/"
        },
        "id": "IYaaiXo4VAw5",
        "outputId": "6944d152-825f-4fbf-a3b1-d38d5750fed1"
      },
      "outputs": [
        {
          "name": "stdout",
          "output_type": "stream",
          "text": [
            "DevOps =  1154.1724137931035 Введение в дифференциальную геометрию =  1210.7333333333333 Соревновательный анализ данных =  1144.21875\n"
          ]
        }
      ],
      "source": [
        "a = df[(df['17_group'] > 0) & (df['blended'] == 'DevOps')]['rating'].mean()\n",
        "b = df[(df['17_group'] > 0) & (df['blended'] == 'Введение в дифференциальную геометрию')]['rating'].mean()\n",
        "c = df[(df['17_group'] > 0) & (df['blended'] == 'Соревновательный анализ данных')]['rating'].mean()\n",
        "print('DevOps = ', a, 'Введение в дифференциальную геометрию = ', b, 'Соревновательный анализ данных = ', c)"
      ]
    },
    {
      "cell_type": "markdown",
      "metadata": {
        "id": "ihTF5FyHa6Jc"
      },
      "source": [
        "значит, самый высокий средний рейтинг у студентов на курсе по Введению в дифференциальную геометрию, но это почему-то было даже очевидно......"
      ]
    },
    {
      "cell_type": "code",
      "execution_count": 25,
      "metadata": {
        "colab": {
          "base_uri": "https://localhost:8080/"
        },
        "id": "1XVIB2xXbKQ0",
        "outputId": "8acbd4e0-178a-458e-ed74-b700c0337f18"
      },
      "outputs": [
        {
          "name": "stdout",
          "output_type": "stream",
          "text": [
            "Средний рейтинг на этом курсе =  1210.7333333333333 , а количество студентов =  15\n"
          ]
        }
      ],
      "source": [
        "print(\"Средний рейтинг на этом курсе = \", b, \", а количество студентов = \", c_dif)"
      ]
    },
    {
      "cell_type": "markdown",
      "metadata": {
        "id": "IU_FLt8HhLu0"
      },
      "source": [
        "#### 6. [1 балл] Выясните, есть ли студенты с абсолютно одинаковыми предпочтениями по всем курсам.\n",
        "\n",
        "Для этого сформируйте таблицу, где для каждого возможного набора курсов посчитано количество студентов, выбравших такой набор, и оставьте только строки где это количество больше 1.\n",
        "\n",
        "В данном случае набор курсов задается упорядоченным множеством ('fall_1', 'fall_2', 'fall_3', 'spring_1', 'spring_2', 'spring_3', 'blended'). Элемент blended будет нулевым для 3-го курса."
      ]
    },
    {
      "cell_type": "code",
      "execution_count": 26,
      "metadata": {
        "colab": {
          "base_uri": "https://localhost:8080/",
          "height": 1000
        },
        "id": "BBDlR1mFhLu0",
        "outputId": "0e9472cb-97f2-4afe-ae18-4260069f3d27"
      },
      "outputs": [
        {
          "data": {
            "text/html": [
              "\n",
              "  <div id=\"df-cfa55968-a8d4-43a6-b38a-ca1656f0767f\">\n",
              "    <div class=\"colab-df-container\">\n",
              "      <div>\n",
              "<style scoped>\n",
              "    .dataframe tbody tr th:only-of-type {\n",
              "        vertical-align: middle;\n",
              "    }\n",
              "\n",
              "    .dataframe tbody tr th {\n",
              "        vertical-align: top;\n",
              "    }\n",
              "\n",
              "    .dataframe thead th {\n",
              "        text-align: right;\n",
              "    }\n",
              "</style>\n",
              "<table border=\"1\" class=\"dataframe\">\n",
              "  <thead>\n",
              "    <tr style=\"text-align: right;\">\n",
              "      <th></th>\n",
              "      <th></th>\n",
              "      <th></th>\n",
              "      <th></th>\n",
              "      <th></th>\n",
              "      <th></th>\n",
              "      <th></th>\n",
              "      <th>num_of_sets</th>\n",
              "    </tr>\n",
              "    <tr>\n",
              "      <th>fall_1</th>\n",
              "      <th>fall_2</th>\n",
              "      <th>fall_3</th>\n",
              "      <th>spring_1</th>\n",
              "      <th>spring_2</th>\n",
              "      <th>spring_3</th>\n",
              "      <th>blended</th>\n",
              "      <th></th>\n",
              "    </tr>\n",
              "  </thead>\n",
              "  <tbody>\n",
              "    <tr>\n",
              "      <th>Statistical Learning Theory</th>\n",
              "      <th>Анализ неструктурированных данных</th>\n",
              "      <th>Сбор и обработка данных с помощью краудсорсинга</th>\n",
              "      <th>Обучение с подкреплением</th>\n",
              "      <th>Конфликты и кооперация</th>\n",
              "      <th>Компьютерное зрение</th>\n",
              "      <th>DevOps</th>\n",
              "      <td>2</td>\n",
              "    </tr>\n",
              "    <tr>\n",
              "      <th rowspan=\"2\" valign=\"top\">Байесовские методы машинного обучения</th>\n",
              "      <th rowspan=\"2\" valign=\"top\">Анализ неструктурированных данных</th>\n",
              "      <th>Глубинное обучение в обработке звука</th>\n",
              "      <th>Обучение с подкреплением</th>\n",
              "      <th>Генеративные модели в машинном обучении</th>\n",
              "      <th>Компьютерное зрение</th>\n",
              "      <th>DevOps</th>\n",
              "      <td>2</td>\n",
              "    </tr>\n",
              "    <tr>\n",
              "      <th>Сбор и обработка данных с помощью краудсорсинга</th>\n",
              "      <th>Обучение с подкреплением</th>\n",
              "      <th>Компьютерное зрение</th>\n",
              "      <th>Генеративные модели в машинном обучении</th>\n",
              "      <th>DevOps</th>\n",
              "      <td>2</td>\n",
              "    </tr>\n",
              "    <tr>\n",
              "      <th rowspan=\"7\" valign=\"top\">Безопасность компьютерных систем</th>\n",
              "      <th>Statistical Learning Theory</th>\n",
              "      <th>Матричные вычисления</th>\n",
              "      <th>Дискретная оптимизация</th>\n",
              "      <th>Промышленное программирование на языке Java</th>\n",
              "      <th>Дополнительные главы прикладной статистики</th>\n",
              "      <th></th>\n",
              "      <td>3</td>\n",
              "    </tr>\n",
              "    <tr>\n",
              "      <th rowspan=\"3\" valign=\"top\">Высокопроизводительные вычисления</th>\n",
              "      <th>Анализ неструктурированных данных</th>\n",
              "      <th>Проектирование и разработка высоконагруженных сервисов</th>\n",
              "      <th>Методы сжатия и передачи медиаданных</th>\n",
              "      <th>Конфликты и кооперация</th>\n",
              "      <th>DevOps</th>\n",
              "      <td>2</td>\n",
              "    </tr>\n",
              "    <tr>\n",
              "      <th rowspan=\"2\" valign=\"top\">Язык SQL</th>\n",
              "      <th>Компьютерные сети</th>\n",
              "      <th>Промышленное программирование на языке Java</th>\n",
              "      <th>Дискретная оптимизация</th>\n",
              "      <th></th>\n",
              "      <td>3</td>\n",
              "    </tr>\n",
              "    <tr>\n",
              "      <th>Промышленное программирование на языке Java</th>\n",
              "      <th>Компьютерные сети</th>\n",
              "      <th>Системы баз данных</th>\n",
              "      <th></th>\n",
              "      <td>2</td>\n",
              "    </tr>\n",
              "    <tr>\n",
              "      <th>Матричные вычисления</th>\n",
              "      <th>Моделирование временных рядов</th>\n",
              "      <th>Промышленное программирование на языке Java</th>\n",
              "      <th>Компьютерные сети</th>\n",
              "      <th>Дискретная оптимизация</th>\n",
              "      <th></th>\n",
              "      <td>2</td>\n",
              "    </tr>\n",
              "    <tr>\n",
              "      <th>Сбор и обработка данных с помощью краудсорсинга</th>\n",
              "      <th>Матричные вычисления</th>\n",
              "      <th>Компьютерные сети</th>\n",
              "      <th>Промышленное программирование на языке Java</th>\n",
              "      <th>Анализ данных в бизнесе</th>\n",
              "      <th></th>\n",
              "      <td>2</td>\n",
              "    </tr>\n",
              "    <tr>\n",
              "      <th>Теория баз данных</th>\n",
              "      <th>Язык SQL</th>\n",
              "      <th>Машинное обучение 2</th>\n",
              "      <th>Компьютерные сети</th>\n",
              "      <th>Промышленное программирование на языке Java</th>\n",
              "      <th></th>\n",
              "      <td>2</td>\n",
              "    </tr>\n",
              "    <tr>\n",
              "      <th rowspan=\"2\" valign=\"top\">Высокопроизводительные вычисления</th>\n",
              "      <th>Безопасность компьютерных систем</th>\n",
              "      <th>Сбор и обработка данных с помощью краудсорсинга</th>\n",
              "      <th>Проектирование и разработка высоконагруженных сервисов</th>\n",
              "      <th>Методы сжатия и передачи медиаданных</th>\n",
              "      <th>Компьютерное зрение</th>\n",
              "      <th>DevOps</th>\n",
              "      <td>2</td>\n",
              "    </tr>\n",
              "    <tr>\n",
              "      <th>Сбор и обработка данных с помощью краудсорсинга</th>\n",
              "      <th>Моделирование временных рядов</th>\n",
              "      <th>Проектирование и разработка высоконагруженных сервисов</th>\n",
              "      <th>Методы сжатия и передачи медиаданных</th>\n",
              "      <th>Методы сжатия и передачи медиаданных</th>\n",
              "      <th>DevOps</th>\n",
              "      <td>2</td>\n",
              "    </tr>\n",
              "    <tr>\n",
              "      <th>Моделирование временных рядов</th>\n",
              "      <th>Сбор и обработка данных с помощью краудсорсинга</th>\n",
              "      <th>Безопасность компьютерных систем</th>\n",
              "      <th>Компьютерные сети</th>\n",
              "      <th>Дополнительные главы прикладной статистики</th>\n",
              "      <th>Системы баз данных</th>\n",
              "      <th></th>\n",
              "      <td>2</td>\n",
              "    </tr>\n",
              "    <tr>\n",
              "      <th>Сбор и обработка данных с помощью краудсорсинга</th>\n",
              "      <th>Язык SQL</th>\n",
              "      <th>Теория баз данных</th>\n",
              "      <th>Промышленное программирование на языке Java</th>\n",
              "      <th>Машинное обучение 2</th>\n",
              "      <th>Компьютерные сети</th>\n",
              "      <th></th>\n",
              "      <td>2</td>\n",
              "    </tr>\n",
              "    <tr>\n",
              "      <th>Язык SQL</th>\n",
              "      <th>Высокопроизводительные вычисления</th>\n",
              "      <th>Теория баз данных</th>\n",
              "      <th>Компьютерные сети</th>\n",
              "      <th>Промышленное программирование на языке Java</th>\n",
              "      <th>Дискретная оптимизация</th>\n",
              "      <th></th>\n",
              "      <td>2</td>\n",
              "    </tr>\n",
              "  </tbody>\n",
              "</table>\n",
              "</div>\n",
              "      <button class=\"colab-df-convert\" onclick=\"convertToInteractive('df-cfa55968-a8d4-43a6-b38a-ca1656f0767f')\"\n",
              "              title=\"Convert this dataframe to an interactive table.\"\n",
              "              style=\"display:none;\">\n",
              "        \n",
              "  <svg xmlns=\"http://www.w3.org/2000/svg\" height=\"24px\"viewBox=\"0 0 24 24\"\n",
              "       width=\"24px\">\n",
              "    <path d=\"M0 0h24v24H0V0z\" fill=\"none\"/>\n",
              "    <path d=\"M18.56 5.44l.94 2.06.94-2.06 2.06-.94-2.06-.94-.94-2.06-.94 2.06-2.06.94zm-11 1L8.5 8.5l.94-2.06 2.06-.94-2.06-.94L8.5 2.5l-.94 2.06-2.06.94zm10 10l.94 2.06.94-2.06 2.06-.94-2.06-.94-.94-2.06-.94 2.06-2.06.94z\"/><path d=\"M17.41 7.96l-1.37-1.37c-.4-.4-.92-.59-1.43-.59-.52 0-1.04.2-1.43.59L10.3 9.45l-7.72 7.72c-.78.78-.78 2.05 0 2.83L4 21.41c.39.39.9.59 1.41.59.51 0 1.02-.2 1.41-.59l7.78-7.78 2.81-2.81c.8-.78.8-2.07 0-2.86zM5.41 20L4 18.59l7.72-7.72 1.47 1.35L5.41 20z\"/>\n",
              "  </svg>\n",
              "      </button>\n",
              "      \n",
              "  <style>\n",
              "    .colab-df-container {\n",
              "      display:flex;\n",
              "      flex-wrap:wrap;\n",
              "      gap: 12px;\n",
              "    }\n",
              "\n",
              "    .colab-df-convert {\n",
              "      background-color: #E8F0FE;\n",
              "      border: none;\n",
              "      border-radius: 50%;\n",
              "      cursor: pointer;\n",
              "      display: none;\n",
              "      fill: #1967D2;\n",
              "      height: 32px;\n",
              "      padding: 0 0 0 0;\n",
              "      width: 32px;\n",
              "    }\n",
              "\n",
              "    .colab-df-convert:hover {\n",
              "      background-color: #E2EBFA;\n",
              "      box-shadow: 0px 1px 2px rgba(60, 64, 67, 0.3), 0px 1px 3px 1px rgba(60, 64, 67, 0.15);\n",
              "      fill: #174EA6;\n",
              "    }\n",
              "\n",
              "    [theme=dark] .colab-df-convert {\n",
              "      background-color: #3B4455;\n",
              "      fill: #D2E3FC;\n",
              "    }\n",
              "\n",
              "    [theme=dark] .colab-df-convert:hover {\n",
              "      background-color: #434B5C;\n",
              "      box-shadow: 0px 1px 3px 1px rgba(0, 0, 0, 0.15);\n",
              "      filter: drop-shadow(0px 1px 2px rgba(0, 0, 0, 0.3));\n",
              "      fill: #FFFFFF;\n",
              "    }\n",
              "  </style>\n",
              "\n",
              "      <script>\n",
              "        const buttonEl =\n",
              "          document.querySelector('#df-cfa55968-a8d4-43a6-b38a-ca1656f0767f button.colab-df-convert');\n",
              "        buttonEl.style.display =\n",
              "          google.colab.kernel.accessAllowed ? 'block' : 'none';\n",
              "\n",
              "        async function convertToInteractive(key) {\n",
              "          const element = document.querySelector('#df-cfa55968-a8d4-43a6-b38a-ca1656f0767f');\n",
              "          const dataTable =\n",
              "            await google.colab.kernel.invokeFunction('convertToInteractive',\n",
              "                                                     [key], {});\n",
              "          if (!dataTable) return;\n",
              "\n",
              "          const docLinkHtml = 'Like what you see? Visit the ' +\n",
              "            '<a target=\"_blank\" href=https://colab.research.google.com/notebooks/data_table.ipynb>data table notebook</a>'\n",
              "            + ' to learn more about interactive tables.';\n",
              "          element.innerHTML = '';\n",
              "          dataTable['output_type'] = 'display_data';\n",
              "          await google.colab.output.renderOutput(dataTable, element);\n",
              "          const docLink = document.createElement('div');\n",
              "          docLink.innerHTML = docLinkHtml;\n",
              "          element.appendChild(docLink);\n",
              "        }\n",
              "      </script>\n",
              "    </div>\n",
              "  </div>\n",
              "  "
            ],
            "text/plain": [
              "                                                                                                                                                                                                                                                                                                    num_of_sets\n",
              "fall_1                                          fall_2                                          fall_3                                          spring_1                                           spring_2                                    spring_3                                    blended             \n",
              "Statistical Learning Theory                     Анализ неструктурированных данных               Сбор и обработка данных с помощью краудсорсинга Обучение с подкреплением                           Конфликты и кооперация                      Компьютерное зрение                         DevOps             2\n",
              "Байесовские методы машинного обучения           Анализ неструктурированных данных               Глубинное обучение в обработке звука            Обучение с подкреплением                           Генеративные модели в машинном обучении     Компьютерное зрение                         DevOps             2\n",
              "                                                                                                Сбор и обработка данных с помощью краудсорсинга Обучение с подкреплением                           Компьютерное зрение                         Генеративные модели в машинном обучении     DevOps             2\n",
              "Безопасность компьютерных систем                Statistical Learning Theory                     Матричные вычисления                            Дискретная оптимизация                             Промышленное программирование на языке Java Дополнительные главы прикладной статистики                     3\n",
              "                                                Высокопроизводительные вычисления               Анализ неструктурированных данных               Проектирование и разработка высоконагруженных с... Методы сжатия и передачи медиаданных        Конфликты и кооперация                      DevOps             2\n",
              "                                                                                                Язык SQL                                        Компьютерные сети                                  Промышленное программирование на языке Java Дискретная оптимизация                                         3\n",
              "                                                                                                                                                Промышленное программирование на языке Java        Компьютерные сети                           Системы баз данных                                             2\n",
              "                                                Матричные вычисления                            Моделирование временных рядов                   Промышленное программирование на языке Java        Компьютерные сети                           Дискретная оптимизация                                         2\n",
              "                                                Сбор и обработка данных с помощью краудсорсинга Матричные вычисления                            Компьютерные сети                                  Промышленное программирование на языке Java Анализ данных в бизнесе                                        2\n",
              "                                                Теория баз данных                               Язык SQL                                        Машинное обучение 2                                Компьютерные сети                           Промышленное программирование на языке Java                    2\n",
              "Высокопроизводительные вычисления               Безопасность компьютерных систем                Сбор и обработка данных с помощью краудсорсинга Проектирование и разработка высоконагруженных с... Методы сжатия и передачи медиаданных        Компьютерное зрение                         DevOps             2\n",
              "                                                Сбор и обработка данных с помощью краудсорсинга Моделирование временных рядов                   Проектирование и разработка высоконагруженных с... Методы сжатия и передачи медиаданных        Методы сжатия и передачи медиаданных        DevOps             2\n",
              "Моделирование временных рядов                   Сбор и обработка данных с помощью краудсорсинга Безопасность компьютерных систем                Компьютерные сети                                  Дополнительные главы прикладной статистики  Системы баз данных                                             2\n",
              "Сбор и обработка данных с помощью краудсорсинга Язык SQL                                        Теория баз данных                               Промышленное программирование на языке Java        Машинное обучение 2                         Компьютерные сети                                              2\n",
              "Язык SQL                                        Высокопроизводительные вычисления               Теория баз данных                               Компьютерные сети                                  Промышленное программирование на языке Java Дискретная оптимизация                                         2"
            ]
          },
          "execution_count": 26,
          "metadata": {},
          "output_type": "execute_result"
        }
      ],
      "source": [
        "find_dups = df.groupby(['fall_1', 'fall_2', 'fall_3', 'spring_1', 'spring_2', 'spring_3', 'blended'])['id'].count().rename(\"num_of_sets\")\n",
        "complex_dups = find_dups[find_dups > 1]\n",
        "complex_dups.to_frame()"
      ]
    },
    {
      "cell_type": "markdown",
      "metadata": {
        "id": "spu3r3vchLu0"
      },
      "source": [
        "#### 7. [0.5 балла] Найдите курсы по выбору, на которые записывались как студенты 18-го года набора, так и студенты 17-го года."
      ]
    },
    {
      "cell_type": "markdown",
      "metadata": {
        "id": "4QCUnzCXpKzr"
      },
      "source": []
    },
    {
      "cell_type": "code",
      "execution_count": 30,
      "metadata": {
        "colab": {
          "base_uri": "https://localhost:8080/",
          "height": 269
        },
        "id": "t21fWi8ShLu0",
        "outputId": "0a8d7e94-6c9e-42eb-bd45-e5184441dc26"
      },
      "outputs": [
        {
          "data": {
            "text/html": [
              "\n",
              "  <div id=\"df-a4784432-96e1-4974-97d4-fd7db82c5cc5\">\n",
              "    <div class=\"colab-df-container\">\n",
              "      <div>\n",
              "<style scoped>\n",
              "    .dataframe tbody tr th:only-of-type {\n",
              "        vertical-align: middle;\n",
              "    }\n",
              "\n",
              "    .dataframe tbody tr th {\n",
              "        vertical-align: top;\n",
              "    }\n",
              "\n",
              "    .dataframe thead th {\n",
              "        text-align: right;\n",
              "    }\n",
              "</style>\n",
              "<table border=\"1\" class=\"dataframe\">\n",
              "  <thead>\n",
              "    <tr style=\"text-align: right;\">\n",
              "      <th></th>\n",
              "      <th>0</th>\n",
              "    </tr>\n",
              "  </thead>\n",
              "  <tbody>\n",
              "    <tr>\n",
              "      <th>0</th>\n",
              "      <td>Безопасность компьютерных систем</td>\n",
              "    </tr>\n",
              "    <tr>\n",
              "      <th>1</th>\n",
              "      <td>Высокопроизводительные вычисления</td>\n",
              "    </tr>\n",
              "    <tr>\n",
              "      <th>2</th>\n",
              "      <td>Statistical Learning Theory</td>\n",
              "    </tr>\n",
              "    <tr>\n",
              "      <th>3</th>\n",
              "      <td>Моделирование временных рядов</td>\n",
              "    </tr>\n",
              "    <tr>\n",
              "      <th>4</th>\n",
              "      <td>Сбор и обработка данных с помощью краудсорсинга</td>\n",
              "    </tr>\n",
              "    <tr>\n",
              "      <th>5</th>\n",
              "      <td>Принятие решений в условиях риска и неопределё...</td>\n",
              "    </tr>\n",
              "    <tr>\n",
              "      <th>6</th>\n",
              "      <td>Численные методы</td>\n",
              "    </tr>\n",
              "  </tbody>\n",
              "</table>\n",
              "</div>\n",
              "      <button class=\"colab-df-convert\" onclick=\"convertToInteractive('df-a4784432-96e1-4974-97d4-fd7db82c5cc5')\"\n",
              "              title=\"Convert this dataframe to an interactive table.\"\n",
              "              style=\"display:none;\">\n",
              "        \n",
              "  <svg xmlns=\"http://www.w3.org/2000/svg\" height=\"24px\"viewBox=\"0 0 24 24\"\n",
              "       width=\"24px\">\n",
              "    <path d=\"M0 0h24v24H0V0z\" fill=\"none\"/>\n",
              "    <path d=\"M18.56 5.44l.94 2.06.94-2.06 2.06-.94-2.06-.94-.94-2.06-.94 2.06-2.06.94zm-11 1L8.5 8.5l.94-2.06 2.06-.94-2.06-.94L8.5 2.5l-.94 2.06-2.06.94zm10 10l.94 2.06.94-2.06 2.06-.94-2.06-.94-.94-2.06-.94 2.06-2.06.94z\"/><path d=\"M17.41 7.96l-1.37-1.37c-.4-.4-.92-.59-1.43-.59-.52 0-1.04.2-1.43.59L10.3 9.45l-7.72 7.72c-.78.78-.78 2.05 0 2.83L4 21.41c.39.39.9.59 1.41.59.51 0 1.02-.2 1.41-.59l7.78-7.78 2.81-2.81c.8-.78.8-2.07 0-2.86zM5.41 20L4 18.59l7.72-7.72 1.47 1.35L5.41 20z\"/>\n",
              "  </svg>\n",
              "      </button>\n",
              "      \n",
              "  <style>\n",
              "    .colab-df-container {\n",
              "      display:flex;\n",
              "      flex-wrap:wrap;\n",
              "      gap: 12px;\n",
              "    }\n",
              "\n",
              "    .colab-df-convert {\n",
              "      background-color: #E8F0FE;\n",
              "      border: none;\n",
              "      border-radius: 50%;\n",
              "      cursor: pointer;\n",
              "      display: none;\n",
              "      fill: #1967D2;\n",
              "      height: 32px;\n",
              "      padding: 0 0 0 0;\n",
              "      width: 32px;\n",
              "    }\n",
              "\n",
              "    .colab-df-convert:hover {\n",
              "      background-color: #E2EBFA;\n",
              "      box-shadow: 0px 1px 2px rgba(60, 64, 67, 0.3), 0px 1px 3px 1px rgba(60, 64, 67, 0.15);\n",
              "      fill: #174EA6;\n",
              "    }\n",
              "\n",
              "    [theme=dark] .colab-df-convert {\n",
              "      background-color: #3B4455;\n",
              "      fill: #D2E3FC;\n",
              "    }\n",
              "\n",
              "    [theme=dark] .colab-df-convert:hover {\n",
              "      background-color: #434B5C;\n",
              "      box-shadow: 0px 1px 3px 1px rgba(0, 0, 0, 0.15);\n",
              "      filter: drop-shadow(0px 1px 2px rgba(0, 0, 0, 0.3));\n",
              "      fill: #FFFFFF;\n",
              "    }\n",
              "  </style>\n",
              "\n",
              "      <script>\n",
              "        const buttonEl =\n",
              "          document.querySelector('#df-a4784432-96e1-4974-97d4-fd7db82c5cc5 button.colab-df-convert');\n",
              "        buttonEl.style.display =\n",
              "          google.colab.kernel.accessAllowed ? 'block' : 'none';\n",
              "\n",
              "        async function convertToInteractive(key) {\n",
              "          const element = document.querySelector('#df-a4784432-96e1-4974-97d4-fd7db82c5cc5');\n",
              "          const dataTable =\n",
              "            await google.colab.kernel.invokeFunction('convertToInteractive',\n",
              "                                                     [key], {});\n",
              "          if (!dataTable) return;\n",
              "\n",
              "          const docLinkHtml = 'Like what you see? Visit the ' +\n",
              "            '<a target=\"_blank\" href=https://colab.research.google.com/notebooks/data_table.ipynb>data table notebook</a>'\n",
              "            + ' to learn more about interactive tables.';\n",
              "          element.innerHTML = '';\n",
              "          dataTable['output_type'] = 'display_data';\n",
              "          await google.colab.output.renderOutput(dataTable, element);\n",
              "          const docLink = document.createElement('div');\n",
              "          docLink.innerHTML = docLinkHtml;\n",
              "          element.appendChild(docLink);\n",
              "        }\n",
              "      </script>\n",
              "    </div>\n",
              "  </div>\n",
              "  "
            ],
            "text/plain": [
              "                                                   0\n",
              "0                   Безопасность компьютерных систем\n",
              "1                  Высокопроизводительные вычисления\n",
              "2                        Statistical Learning Theory\n",
              "3                      Моделирование временных рядов\n",
              "4    Сбор и обработка данных с помощью краудсорсинга\n",
              "5  Принятие решений в условиях риска и неопределё...\n",
              "6                                   Численные методы"
            ]
          },
          "execution_count": 30,
          "metadata": {},
          "output_type": "execute_result"
        }
      ],
      "source": [
        "# your code\n",
        "import numpy as np\n",
        "fall_courses_17 = pd.DataFrame(df[(df['17_group'] > 0)]['fall_1'].unique())\n",
        "fall_courses_18 = pd.DataFrame(df[(df['18_group'] > 0)]['fall_1'].unique())\n",
        "fall_similar = pd.merge(fall_courses_17, fall_courses_18, how='inner')\n",
        "spring_courses_17 = pd.DataFrame(df[df['17_group'] > 0 ]['spring_1'].unique())\n",
        "spring_courses_18 = pd.DataFrame(df[(df['18_group'] > 0)]['spring_1'].unique())\n",
        "spring_similar = pd.merge(spring_courses_17, spring_courses_18, how='inner')\n",
        "similar_courses = pd.concat([fall_similar, spring_similar])\n",
        "similar_courses.reset_index(drop=True)"
      ]
    },
    {
      "cell_type": "markdown",
      "metadata": {
        "id": "PYfX-Dr5hLu0"
      },
      "source": [
        "Методом исключения найдите курсы, которые предлагались только студентам 18-го года и только студентам 17-го года."
      ]
    },
    {
      "cell_type": "markdown",
      "metadata": {
        "id": "iR6y8KnMrqqT"
      },
      "source": [
        "курсы, которые предлагались только студентам 18-го года"
      ]
    },
    {
      "cell_type": "code",
      "execution_count": 32,
      "metadata": {
        "colab": {
          "base_uri": "https://localhost:8080/",
          "height": 363
        },
        "id": "G9SWBOpehLu1",
        "outputId": "069178e8-08ac-470a-9b44-fc8923c60f89"
      },
      "outputs": [
        {
          "data": {
            "text/html": [
              "\n",
              "  <div id=\"df-47e9987e-33bb-455f-b6fc-ea3fc8f8732b\">\n",
              "    <div class=\"colab-df-container\">\n",
              "      <div>\n",
              "<style scoped>\n",
              "    .dataframe tbody tr th:only-of-type {\n",
              "        vertical-align: middle;\n",
              "    }\n",
              "\n",
              "    .dataframe tbody tr th {\n",
              "        vertical-align: top;\n",
              "    }\n",
              "\n",
              "    .dataframe thead th {\n",
              "        text-align: right;\n",
              "    }\n",
              "</style>\n",
              "<table border=\"1\" class=\"dataframe\">\n",
              "  <thead>\n",
              "    <tr style=\"text-align: right;\">\n",
              "      <th></th>\n",
              "      <th>0</th>\n",
              "    </tr>\n",
              "  </thead>\n",
              "  <tbody>\n",
              "    <tr>\n",
              "      <th>0</th>\n",
              "      <td>Язык SQL</td>\n",
              "    </tr>\n",
              "    <tr>\n",
              "      <th>1</th>\n",
              "      <td>Теория баз данных</td>\n",
              "    </tr>\n",
              "    <tr>\n",
              "      <th>2</th>\n",
              "      <td>Матричные вычисления</td>\n",
              "    </tr>\n",
              "    <tr>\n",
              "      <th>3</th>\n",
              "      <td>Дискретная оптимизация</td>\n",
              "    </tr>\n",
              "    <tr>\n",
              "      <th>4</th>\n",
              "      <td>Компьютерные сети</td>\n",
              "    </tr>\n",
              "    <tr>\n",
              "      <th>5</th>\n",
              "      <td>Промышленное программирование на языке Java</td>\n",
              "    </tr>\n",
              "    <tr>\n",
              "      <th>6</th>\n",
              "      <td>Дополнительные главы прикладной статистики</td>\n",
              "    </tr>\n",
              "    <tr>\n",
              "      <th>7</th>\n",
              "      <td>Анализ данных в бизнесе</td>\n",
              "    </tr>\n",
              "    <tr>\n",
              "      <th>8</th>\n",
              "      <td>Машинное обучение 2</td>\n",
              "    </tr>\n",
              "    <tr>\n",
              "      <th>9</th>\n",
              "      <td>Системы баз данных</td>\n",
              "    </tr>\n",
              "  </tbody>\n",
              "</table>\n",
              "</div>\n",
              "      <button class=\"colab-df-convert\" onclick=\"convertToInteractive('df-47e9987e-33bb-455f-b6fc-ea3fc8f8732b')\"\n",
              "              title=\"Convert this dataframe to an interactive table.\"\n",
              "              style=\"display:none;\">\n",
              "        \n",
              "  <svg xmlns=\"http://www.w3.org/2000/svg\" height=\"24px\"viewBox=\"0 0 24 24\"\n",
              "       width=\"24px\">\n",
              "    <path d=\"M0 0h24v24H0V0z\" fill=\"none\"/>\n",
              "    <path d=\"M18.56 5.44l.94 2.06.94-2.06 2.06-.94-2.06-.94-.94-2.06-.94 2.06-2.06.94zm-11 1L8.5 8.5l.94-2.06 2.06-.94-2.06-.94L8.5 2.5l-.94 2.06-2.06.94zm10 10l.94 2.06.94-2.06 2.06-.94-2.06-.94-.94-2.06-.94 2.06-2.06.94z\"/><path d=\"M17.41 7.96l-1.37-1.37c-.4-.4-.92-.59-1.43-.59-.52 0-1.04.2-1.43.59L10.3 9.45l-7.72 7.72c-.78.78-.78 2.05 0 2.83L4 21.41c.39.39.9.59 1.41.59.51 0 1.02-.2 1.41-.59l7.78-7.78 2.81-2.81c.8-.78.8-2.07 0-2.86zM5.41 20L4 18.59l7.72-7.72 1.47 1.35L5.41 20z\"/>\n",
              "  </svg>\n",
              "      </button>\n",
              "      \n",
              "  <style>\n",
              "    .colab-df-container {\n",
              "      display:flex;\n",
              "      flex-wrap:wrap;\n",
              "      gap: 12px;\n",
              "    }\n",
              "\n",
              "    .colab-df-convert {\n",
              "      background-color: #E8F0FE;\n",
              "      border: none;\n",
              "      border-radius: 50%;\n",
              "      cursor: pointer;\n",
              "      display: none;\n",
              "      fill: #1967D2;\n",
              "      height: 32px;\n",
              "      padding: 0 0 0 0;\n",
              "      width: 32px;\n",
              "    }\n",
              "\n",
              "    .colab-df-convert:hover {\n",
              "      background-color: #E2EBFA;\n",
              "      box-shadow: 0px 1px 2px rgba(60, 64, 67, 0.3), 0px 1px 3px 1px rgba(60, 64, 67, 0.15);\n",
              "      fill: #174EA6;\n",
              "    }\n",
              "\n",
              "    [theme=dark] .colab-df-convert {\n",
              "      background-color: #3B4455;\n",
              "      fill: #D2E3FC;\n",
              "    }\n",
              "\n",
              "    [theme=dark] .colab-df-convert:hover {\n",
              "      background-color: #434B5C;\n",
              "      box-shadow: 0px 1px 3px 1px rgba(0, 0, 0, 0.15);\n",
              "      filter: drop-shadow(0px 1px 2px rgba(0, 0, 0, 0.3));\n",
              "      fill: #FFFFFF;\n",
              "    }\n",
              "  </style>\n",
              "\n",
              "      <script>\n",
              "        const buttonEl =\n",
              "          document.querySelector('#df-47e9987e-33bb-455f-b6fc-ea3fc8f8732b button.colab-df-convert');\n",
              "        buttonEl.style.display =\n",
              "          google.colab.kernel.accessAllowed ? 'block' : 'none';\n",
              "\n",
              "        async function convertToInteractive(key) {\n",
              "          const element = document.querySelector('#df-47e9987e-33bb-455f-b6fc-ea3fc8f8732b');\n",
              "          const dataTable =\n",
              "            await google.colab.kernel.invokeFunction('convertToInteractive',\n",
              "                                                     [key], {});\n",
              "          if (!dataTable) return;\n",
              "\n",
              "          const docLinkHtml = 'Like what you see? Visit the ' +\n",
              "            '<a target=\"_blank\" href=https://colab.research.google.com/notebooks/data_table.ipynb>data table notebook</a>'\n",
              "            + ' to learn more about interactive tables.';\n",
              "          element.innerHTML = '';\n",
              "          dataTable['output_type'] = 'display_data';\n",
              "          await google.colab.output.renderOutput(dataTable, element);\n",
              "          const docLink = document.createElement('div');\n",
              "          docLink.innerHTML = docLinkHtml;\n",
              "          element.appendChild(docLink);\n",
              "        }\n",
              "      </script>\n",
              "    </div>\n",
              "  </div>\n",
              "  "
            ],
            "text/plain": [
              "                                             0\n",
              "0                                     Язык SQL\n",
              "1                            Теория баз данных\n",
              "2                         Матричные вычисления\n",
              "3                       Дискретная оптимизация\n",
              "4                            Компьютерные сети\n",
              "5  Промышленное программирование на языке Java\n",
              "6   Дополнительные главы прикладной статистики\n",
              "7                      Анализ данных в бизнесе\n",
              "8                          Машинное обучение 2\n",
              "9                           Системы баз данных"
            ]
          },
          "execution_count": 32,
          "metadata": {},
          "output_type": "execute_result"
        }
      ],
      "source": [
        "# your code\n",
        "fall_unique_18 = pd.concat([fall_courses_18, fall_similar]).drop_duplicates(keep=False)\n",
        "spring_unique_18 = pd.concat([spring_courses_18, spring_similar]).drop_duplicates(keep=False)\n",
        "courses_18_unique = pd.concat([fall_unique_18, spring_unique_18])\n",
        "courses_18_unique.reset_index(drop=True)"
      ]
    },
    {
      "cell_type": "markdown",
      "metadata": {
        "id": "Thbv-F87szTO"
      },
      "source": [
        "курсы, которые предлагались только студентам 17-го года"
      ]
    },
    {
      "cell_type": "code",
      "execution_count": 33,
      "metadata": {
        "colab": {
          "base_uri": "https://localhost:8080/",
          "height": 363
        },
        "id": "PbTkFLv7s2kj",
        "outputId": "57359498-b269-4115-8216-b5cd08d003da"
      },
      "outputs": [
        {
          "data": {
            "text/html": [
              "\n",
              "  <div id=\"df-c0c31a71-1999-49c5-936f-7f8abac63891\">\n",
              "    <div class=\"colab-df-container\">\n",
              "      <div>\n",
              "<style scoped>\n",
              "    .dataframe tbody tr th:only-of-type {\n",
              "        vertical-align: middle;\n",
              "    }\n",
              "\n",
              "    .dataframe tbody tr th {\n",
              "        vertical-align: top;\n",
              "    }\n",
              "\n",
              "    .dataframe thead th {\n",
              "        text-align: right;\n",
              "    }\n",
              "</style>\n",
              "<table border=\"1\" class=\"dataframe\">\n",
              "  <thead>\n",
              "    <tr style=\"text-align: right;\">\n",
              "      <th></th>\n",
              "      <th>0</th>\n",
              "    </tr>\n",
              "  </thead>\n",
              "  <tbody>\n",
              "    <tr>\n",
              "      <th>0</th>\n",
              "      <td>Глубинное обучение в обработке звука</td>\n",
              "    </tr>\n",
              "    <tr>\n",
              "      <th>1</th>\n",
              "      <td>Анализ неструктурированных данных</td>\n",
              "    </tr>\n",
              "    <tr>\n",
              "      <th>2</th>\n",
              "      <td>Байесовские методы машинного обучения</td>\n",
              "    </tr>\n",
              "    <tr>\n",
              "      <th>3</th>\n",
              "      <td>Компьютерное зрение</td>\n",
              "    </tr>\n",
              "    <tr>\n",
              "      <th>4</th>\n",
              "      <td>Проектирование и разработка высоконагруженных ...</td>\n",
              "    </tr>\n",
              "    <tr>\n",
              "      <th>5</th>\n",
              "      <td>Конфликты и кооперация</td>\n",
              "    </tr>\n",
              "    <tr>\n",
              "      <th>6</th>\n",
              "      <td>Символьные вычисления</td>\n",
              "    </tr>\n",
              "    <tr>\n",
              "      <th>7</th>\n",
              "      <td>Методы сжатия и передачи медиаданных</td>\n",
              "    </tr>\n",
              "    <tr>\n",
              "      <th>8</th>\n",
              "      <td>Обучение с подкреплением</td>\n",
              "    </tr>\n",
              "    <tr>\n",
              "      <th>9</th>\n",
              "      <td>Генеративные модели в машинном обучении</td>\n",
              "    </tr>\n",
              "  </tbody>\n",
              "</table>\n",
              "</div>\n",
              "      <button class=\"colab-df-convert\" onclick=\"convertToInteractive('df-c0c31a71-1999-49c5-936f-7f8abac63891')\"\n",
              "              title=\"Convert this dataframe to an interactive table.\"\n",
              "              style=\"display:none;\">\n",
              "        \n",
              "  <svg xmlns=\"http://www.w3.org/2000/svg\" height=\"24px\"viewBox=\"0 0 24 24\"\n",
              "       width=\"24px\">\n",
              "    <path d=\"M0 0h24v24H0V0z\" fill=\"none\"/>\n",
              "    <path d=\"M18.56 5.44l.94 2.06.94-2.06 2.06-.94-2.06-.94-.94-2.06-.94 2.06-2.06.94zm-11 1L8.5 8.5l.94-2.06 2.06-.94-2.06-.94L8.5 2.5l-.94 2.06-2.06.94zm10 10l.94 2.06.94-2.06 2.06-.94-2.06-.94-.94-2.06-.94 2.06-2.06.94z\"/><path d=\"M17.41 7.96l-1.37-1.37c-.4-.4-.92-.59-1.43-.59-.52 0-1.04.2-1.43.59L10.3 9.45l-7.72 7.72c-.78.78-.78 2.05 0 2.83L4 21.41c.39.39.9.59 1.41.59.51 0 1.02-.2 1.41-.59l7.78-7.78 2.81-2.81c.8-.78.8-2.07 0-2.86zM5.41 20L4 18.59l7.72-7.72 1.47 1.35L5.41 20z\"/>\n",
              "  </svg>\n",
              "      </button>\n",
              "      \n",
              "  <style>\n",
              "    .colab-df-container {\n",
              "      display:flex;\n",
              "      flex-wrap:wrap;\n",
              "      gap: 12px;\n",
              "    }\n",
              "\n",
              "    .colab-df-convert {\n",
              "      background-color: #E8F0FE;\n",
              "      border: none;\n",
              "      border-radius: 50%;\n",
              "      cursor: pointer;\n",
              "      display: none;\n",
              "      fill: #1967D2;\n",
              "      height: 32px;\n",
              "      padding: 0 0 0 0;\n",
              "      width: 32px;\n",
              "    }\n",
              "\n",
              "    .colab-df-convert:hover {\n",
              "      background-color: #E2EBFA;\n",
              "      box-shadow: 0px 1px 2px rgba(60, 64, 67, 0.3), 0px 1px 3px 1px rgba(60, 64, 67, 0.15);\n",
              "      fill: #174EA6;\n",
              "    }\n",
              "\n",
              "    [theme=dark] .colab-df-convert {\n",
              "      background-color: #3B4455;\n",
              "      fill: #D2E3FC;\n",
              "    }\n",
              "\n",
              "    [theme=dark] .colab-df-convert:hover {\n",
              "      background-color: #434B5C;\n",
              "      box-shadow: 0px 1px 3px 1px rgba(0, 0, 0, 0.15);\n",
              "      filter: drop-shadow(0px 1px 2px rgba(0, 0, 0, 0.3));\n",
              "      fill: #FFFFFF;\n",
              "    }\n",
              "  </style>\n",
              "\n",
              "      <script>\n",
              "        const buttonEl =\n",
              "          document.querySelector('#df-c0c31a71-1999-49c5-936f-7f8abac63891 button.colab-df-convert');\n",
              "        buttonEl.style.display =\n",
              "          google.colab.kernel.accessAllowed ? 'block' : 'none';\n",
              "\n",
              "        async function convertToInteractive(key) {\n",
              "          const element = document.querySelector('#df-c0c31a71-1999-49c5-936f-7f8abac63891');\n",
              "          const dataTable =\n",
              "            await google.colab.kernel.invokeFunction('convertToInteractive',\n",
              "                                                     [key], {});\n",
              "          if (!dataTable) return;\n",
              "\n",
              "          const docLinkHtml = 'Like what you see? Visit the ' +\n",
              "            '<a target=\"_blank\" href=https://colab.research.google.com/notebooks/data_table.ipynb>data table notebook</a>'\n",
              "            + ' to learn more about interactive tables.';\n",
              "          element.innerHTML = '';\n",
              "          dataTable['output_type'] = 'display_data';\n",
              "          await google.colab.output.renderOutput(dataTable, element);\n",
              "          const docLink = document.createElement('div');\n",
              "          docLink.innerHTML = docLinkHtml;\n",
              "          element.appendChild(docLink);\n",
              "        }\n",
              "      </script>\n",
              "    </div>\n",
              "  </div>\n",
              "  "
            ],
            "text/plain": [
              "                                                   0\n",
              "0               Глубинное обучение в обработке звука\n",
              "1                  Анализ неструктурированных данных\n",
              "2              Байесовские методы машинного обучения\n",
              "3                                Компьютерное зрение\n",
              "4  Проектирование и разработка высоконагруженных ...\n",
              "5                             Конфликты и кооперация\n",
              "6                              Символьные вычисления\n",
              "7               Методы сжатия и передачи медиаданных\n",
              "8                           Обучение с подкреплением\n",
              "9            Генеративные модели в машинном обучении"
            ]
          },
          "execution_count": 33,
          "metadata": {},
          "output_type": "execute_result"
        }
      ],
      "source": [
        "fall_unique_17 = pd.concat([fall_courses_17, fall_similar]).drop_duplicates(keep=False)\n",
        "spring_unique_17 = pd.concat([spring_courses_17, spring_similar]).drop_duplicates(keep=False)\n",
        "courses_17_unique = pd.concat([fall_unique_17, spring_unique_17])\n",
        "courses_17_unique.reset_index(drop=True)"
      ]
    },
    {
      "cell_type": "markdown",
      "metadata": {
        "id": "uL45Tg5fhLu1"
      },
      "source": [
        "### Визуализации и matplotlib"
      ]
    },
    {
      "cell_type": "markdown",
      "metadata": {
        "id": "MY9lKmP2hLu1"
      },
      "source": [
        "При работе с данными часто неудобно делать какие-то выводы, если смотреть на таблицу и числа в частности, поэтому важно уметь визуализировать данные. Здесь будут описаны ключевые правила оформления графиков для **всех** домашних заданий.\n",
        "\n",
        "У matplotlib, конечно же, есть [документация](https://matplotlib.org/users/index.html) с большим количеством [примеров](https://matplotlib.org/examples/), но для начала достаточно знать про несколько основных типов графиков:\n",
        "- plot — обычный поточечный график, которым можно изображать кривые или отдельные точки;\n",
        "- hist — гистограмма, показывающая распределение некоторой величины;\n",
        "- scatter — график, показывающий взаимосвязь двух величин;\n",
        "- bar — столбцовый график, показывающий взаимосвязь количественной величины от категориальной.\n",
        "\n",
        "В этом задании вы попробуете построить один из них. Не забывайте про базовые принципы построения приличных графиков:\n",
        "- оси должны быть подписаны, причём не слишком мелко;\n",
        "- у графика должно быть название;\n",
        "- если изображено несколько графиков, то необходима поясняющая легенда;\n",
        "- все линии на графиках должны быть чётко видны (нет похожих цветов или цветов, сливающихся с фоном);\n",
        "- если отображена величина, имеющая очевидный диапазон значений (например, проценты могут быть от 0 до 100), то желательно масштабировать ось на весь диапазон значений (исключением является случай, когда вам необходимо показать малое отличие, которое незаметно в таких масштабах);\n",
        "- сетка на графике помогает оценить значения в точках на глаз, это обычно полезно, поэтому лучше ее отрисовывать;\n",
        "- если распределение на гистограмме имеет тяжёлые хвосты, лучше использовать логарифмическую шкалу.\n",
        "\n",
        "Еще одна билиотека для визуализации: [seaborn](https://jakevdp.github.io/PythonDataScienceHandbook/04.14-visualization-with-seaborn.html) (обычно сокращается до sns). Это настройка над matplotlib, иногда удобнее и красивее делать визуализации через неё. \n",
        "\n",
        "**5 пунктов после которых ваши графики не будут прежними:**\n",
        "- для красивой картинки <code>%config InlineBackend.figure_format = 'retina'</code>\n",
        "- задаем размер (почти) всех графиков (можно выбрать другие значения) <code>plt.rcParams['figure.figsize'] = 8, 5</code>\n",
        "- размер шрифта подписей графиков <code>plt.rcParams['font.size'] = 12</code>\n",
        "- формат в котором сохраняется изображение <code>mpl.rcParams['savefig.format'] = 'pdf'</code>\n",
        "- sns – seaborn, добавляет решетку <code>sns.set_style('darkgrid')</code>\n",
        "\n",
        "Добавьте эти функции в ячейку ниже. Каждый график все равно придется настраивать отдельно, но указанные строчки позволят значительно упростить процесс.  "
      ]
    },
    {
      "cell_type": "code",
      "execution_count": null,
      "metadata": {
        "id": "na9doUOFhLu1"
      },
      "outputs": [],
      "source": [
        "%matplotlib inline\n",
        "import matplotlib.pyplot as plt\n",
        "import seaborn as sns\n",
        "\n",
        "# your code\n",
        "%config InlineBackend.figure_format = 'retina'\n",
        "plt.rcParams['figure.figsize'] = 8, 5\n",
        "plt.rcParams['font.size'] = 12\n",
        "mpl.rcParams['savefig.format'] = 'pdf'\n",
        "sns.set_style('darkgrid')"
      ]
    },
    {
      "cell_type": "markdown",
      "metadata": {
        "id": "kikwLpxfhLu1"
      },
      "source": [
        "#### 8. [0.5 балла] Постройте график средних рейтингов по дням получения ответов (bar plot)."
      ]
    },
    {
      "cell_type": "code",
      "execution_count": null,
      "metadata": {
        "colab": {
          "base_uri": "https://localhost:8080/",
          "height": 470
        },
        "id": "UTPLVeQvhLu2",
        "outputId": "209e687a-cb1b-4673-f6dd-07e9122b874a"
      },
      "outputs": [
        {
          "data": {
            "image/png": "[encoded data removed]",
            "text/plain": [
              "<Figure size 648x432 with 1 Axes>"
            ]
          },
          "metadata": {
            "image/png": {
              "height": 453,
              "width": 584
            }
          },
          "output_type": "display_data"
        }
      ],
      "source": [
        "# your code\n",
        "df['date in days'] = pd.to_datetime(df['timestamp']).dt.date\n",
        "avg_rankings = df.groupby('date in days')['rating'].mean()\n",
        "plt.figure(figsize = (9, 6))\n",
        "bar = avg_rankings.plot.bar()\n",
        "plt.title('Зависимость среднего рейтинга\\n в зависимости от дня получения ответов', fontsize=17)\n",
        "plt.xlabel('День получения ответов', fontsize=15)\n",
        "plt.ylabel('Средний рейтинг студентов', fontsize=15)\n",
        "plt.xticks(np.arange(10),\n",
        "           labels=['14 May 2020', '15 May 2020', '16 May 2020', '17 May 2020', '18 May 2020', '19 May 2020', '20 May 2020',\n",
        "                   '21 May 2020', '22 May 2020', '23 May 2020', '24 May 2020'],\n",
        "           fontsize=12,\n",
        "           rotation=30)\n",
        "plt.grid(visible=True)\n",
        "plt.show()"
      ]
    },
    {
      "cell_type": "markdown",
      "metadata": {
        "id": "AmsQg9_xhLu2"
      },
      "source": [
        "Сохраните график в формате pdf (так он останется векторизованным)."
      ]
    },
    {
      "cell_type": "code",
      "execution_count": null,
      "metadata": {
        "colab": {
          "base_uri": "https://localhost:8080/",
          "height": 35
        },
        "id": "vKZNSwWghLu2",
        "outputId": "ac7ad8e9-c0b1-4c5d-c42d-998bc46546a0"
      },
      "outputs": [
        {
          "data": {
            "application/javascript": "\n    async function download(id, filename, size) {\n      if (!google.colab.kernel.accessAllowed) {\n        return;\n      }\n      const div = document.createElement('div');\n      const label = document.createElement('label');\n      label.textContent = `Downloading \"${filename}\": `;\n      div.appendChild(label);\n      const progress = document.createElement('progress');\n      progress.max = size;\n      div.appendChild(progress);\n      document.body.appendChild(div);\n\n      const buffers = [];\n      let downloaded = 0;\n\n      const channel = await google.colab.kernel.comms.open(id);\n      // Send a message to notify the kernel that we're ready.\n      channel.send({})\n\n      for await (const message of channel.messages) {\n        // Send a message to notify the kernel that we're ready.\n        channel.send({})\n        if (message.buffers) {\n          for (const buffer of message.buffers) {\n            buffers.push(buffer);\n            downloaded += buffer.byteLength;\n            progress.value = downloaded;\n          }\n        }\n      }\n      const blob = new Blob(buffers, {type: 'application/binary'});\n      const a = document.createElement('a');\n      a.href = window.URL.createObjectURL(blob);\n      a.download = filename;\n      div.appendChild(a);\n      a.click();\n      div.remove();\n    }\n  ",
            "text/plain": [
              "<IPython.core.display.Javascript object>"
            ]
          },
          "metadata": {},
          "output_type": "display_data"
        },
        {
          "data": {
            "application/javascript": "download(\"download_462b9195-62f0-438d-9a40-f6cd4156a817\", \"graph.pdf\", 1190)",
            "text/plain": [
              "<IPython.core.display.Javascript object>"
            ]
          },
          "metadata": {},
          "output_type": "display_data"
        },
        {
          "data": {
            "text/plain": [
              "<Figure size 576x360 with 0 Axes>"
            ]
          },
          "metadata": {},
          "output_type": "display_data"
        }
      ],
      "source": [
        "# your code\n",
        "from google.colab import files\n",
        "plt.savefig(\"graph.pdf\")\n",
        "files.download(\"graph.pdf\")"
      ]
    },
    {
      "cell_type": "markdown",
      "metadata": {
        "id": "sCgWwjl0hLu2"
      },
      "source": [
        "### 2. Распределение студентов по курсам."
      ]
    },
    {
      "cell_type": "markdown",
      "metadata": {
        "id": "0g6FD_aWJe9A"
      },
      "source": [
        "<span style=\"color:red\">!!!ВНИМАТЕЛЬНО ИЗУЧИТЕ ТЕКСТ НИЖЕ!!!</span>.\n",
        "\n",
        "<span style=\"color:orange\">Если во время выполнения заданий у вас вознинут вопросы -- еще раз перечитайте текст целиком, скорее всего ответы уже содержатся в нем.</span>"
      ]
    },
    {
      "cell_type": "markdown",
      "metadata": {
        "id": "VNqXUpr4hLu3"
      },
      "source": [
        "Теперь вам нужно распределить студентов по осенним курсам по выбору, учитывая их предпочтения."
      ]
    },
    {
      "cell_type": "markdown",
      "metadata": {
        "id": "5cAR2FgphLu3"
      },
      "source": [
        "Алгоритм распределения студентов по курсам:\n",
        "1. По умолчанию на каждой дисциплине по выбору у 3 и 4 курсов может учиться 1 группа (до 30 студентов). Исключения описаны ниже. На blended-дисциплинах для четверокурсников количество мест не ограничено.\n",
        "2. Проводится первая волна отбора. Для каждой дисциплины формируется список тех, кто указал её первым приоритетом (если студент должен выбрать два курса по выбору, то для него дисциплины, которые он указал первым и вторым приоритетом, рассматриваются как дисциплины первого приоритета). Если желающих больше, чем мест, то выбирается топ по перцентилю рейтинга.\n",
        "3. На дисциплинах, где остались места после первой волны, формируются списки тех, кто выбрал их вторым приоритетом, и места заполняются лучшими по перцентили рейтинга студентами. После этого проводится такая же процедура для дисциплин третьего приоритета.\n",
        "4. Если студент не попал на необходимое количество курсов по итогам трёх волн, с ним связывается учебный офис и решает вопрос в индивидуальном порядке."
      ]
    },
    {
      "cell_type": "markdown",
      "metadata": {
        "id": "BiNKVwS6hLu3"
      },
      "source": [
        "Обращаем ваше внимание на следующие детали:\n",
        "- Конкурс на каждый курс общий для 3-го и 4-го курса\n",
        "\n",
        "- По умолчанию студент выбирает один осенний и один весенний курс по выбору, а также четверокурсники выбирают один blended-курс. Студенты групп 17-го года специализаций МОП и ТИ выбирают по 2 осенних и 2 весенних курса по выбору, также студенты групп 18' специализации МИ выбирают 2 осенних курса. <i>Для студентов, которые выбирают 2 курса (например, осенних) первый приоритет — <code>fall_1</code> и <code>fall_2</code>, второй приоритет — <code>fall_3</code>. Такие студенты участвуют только в двух волнах отбора</i>.\n",
        "\n",
        "- Студенты специализации МОП не могут выбрать весенним курсом по выбору Машинное обучение 2. **Если студент специализации МОП выбрал Машинное обучение 2, то его приоритеты сдвигаются.** Из-за совпадений первого и второго курса по выбору двигать приоритеты не надо.\n",
        "\n",
        "- Blended-курсы не трогайте, по ним не надо распределять, на другие курсы они никак не влияют.\n",
        "\n",
        "- Заведомо известно, что в процессе распределения не возникнет ситуации, когда на одно место претендуют студенты с одинаковым перцентилем.\n",
        "\n",
        "- Постарайтесь воздержаться от использования циклов там, где это возможно. <i>Допустимо итерироваться по <b>курсам</b>, на которые проводится отбор, и по <b>волнам</b> отбора. Если вы придумаете, как обойтись и без этих циклов, то на усмотрение проверяющего могут быть добавлены бонусные баллы. <b>Дублирование кода не признается успешным избавлением от циклов</b></i>\n",
        "\n",
        "- На выходе ожидается файл res_fall.csv с результатами распределения на осенние курсы по выбору. Файл должен быть следующего формата:\n",
        "\n",
        "    * Три колонки: ID, course1, course2\n",
        "    \n",
        "    * Если студент не попал на курс, но должен был, то вместо названия курса в ячейке должна быть строка \"???\"\n",
        "    \n",
        "    * Если студент должен выбрать только один курс, то в колонке course2 для него должна стоять строка \"-\"\n",
        "    \n",
        "    * Если студент должен выбрать два курса по выбору, то порядок в колонках course1 и course2 не важен.\n",
        "    \n",
        "    * hint: для сохранения воспользуйтесь df.to_csv('solution.csv', index=None)\n",
        "    \n",
        "\n",
        "Для работы вам могут понадобиться следующие данные:\n",
        "\n",
        "- Результаты опроса (вы уже использовали этот файл в первой части задания, но на всякий случай ссылка: https://www.dropbox.com/s/f4rm8sjc3v99p0m/_end_seminar.xlsx?dl=0)\n",
        "\n",
        "- Соответствие номеров групп специализациям:\n",
        "\n",
        "    * 171, 172 - МОП; 173 - ТИ; 174 — АДИС; 175, 176 — РС; 177 — АПР\n",
        "    \n",
        "    * У студентов 18-го года номера групп соответствуют номерам до распределения по специализациям. Это означает, что по номеру группы 18* нельзя однозначно определить специализацию студента. При этом в рамках распределения важно знать информацию только о двух из них: МОП и МИ. Эти знание можно получить из колонок 'is_ml_student\n",
        "' и 'is_mi' соответственно.\n",
        "\n",
        "- Ограничения по количеству мест на курсах по выбору:\n",
        "\n",
        "    * Осенние: везде 30 мест, кроме Statistical Learning Theory (60 мест), Высокопроизводительных вычислений (60 мест), Анализа неструктурированных данных ($\\infty$ мест)\n",
        "\n",
        "    * Весенние: везде 30 мест, кроме Обучения с подкреплением (60 мест), Анализа данных в бизнесе (60 мест).\n",
        "\n",
        "\n",
        "Кстати, убедитесь, что в данных больше нет пропусков и повторных записей."
      ]
    },
    {
      "cell_type": "markdown",
      "metadata": {
        "id": "o5t55IcQhLu4"
      },
      "source": [
        "#### 0. Проверка\n",
        "\n",
        "Для начала давайте убедимся, что вы успешно выполнили задания первой части и проверим ваши данные на наличие пропусков и повторов:"
      ]
    },
    {
      "cell_type": "code",
      "execution_count": null,
      "metadata": {
        "id": "34HWEdVdhLu4"
      },
      "outputs": [],
      "source": [
        "assert df.shape[0] == 347, 'В таблице остались повторы или потеряны данные'\n",
        "\n",
        "assert df.isna().sum().sum() == 0, 'В таблице остались пропуски'"
      ]
    },
    {
      "cell_type": "markdown",
      "metadata": {
        "id": "_ImUFyG3hLu4"
      },
      "source": [
        "Если вы не получили AssertionError, то можете продолжать."
      ]
    },
    {
      "cell_type": "markdown",
      "metadata": {
        "id": "LTGSwwvAhLu4"
      },
      "source": [
        "#### 1. [1 балл] Создайте новый признак, обозначающий, сколько осенних курсов должен выбрать студент\n",
        "\n",
        "В этом вам может помочь информация о специализации и группе стундента."
      ]
    },
    {
      "cell_type": "code",
      "execution_count": null,
      "metadata": {
        "id": "ouxo0kHFhLu4"
      },
      "outputs": [],
      "source": [
        "# (￣^￣)ゞ\n",
        "df.loc[df['17_group'] == 171,'num_of_fall_courses'] = 2\n",
        "df.loc[df['17_group'] == 172,'num_of_fall_courses'] = 2\n",
        "df.loc[df['17_group'] == 173,'num_of_fall_courses'] = 2\n",
        "df.loc[df['is_mi'] > 0, 'num_of_fall_courses'] = 2\n",
        "df2 = df\n",
        "df2['num_of_fall_courses'] = df['num_of_fall_courses'].fillna(1)\n",
        "df = df2"
      ]
    },
    {
      "cell_type": "markdown",
      "metadata": {
        "id": "S47aq1sQhLu4"
      },
      "source": [
        "Проверка:"
      ]
    },
    {
      "cell_type": "code",
      "execution_count": null,
      "metadata": {
        "id": "OlOgzDKDhLu5"
      },
      "outputs": [],
      "source": [
        "col_name = 'num_of_fall_courses'  # insert your new column name as str\n",
        "\n",
        "assert(df[df['id'] == '2662600c2c37e11e62f6ee0b88452f22'][col_name] == 2).all()\n",
        "assert(df[df['id'] == 'd555d2805e1d93d4f023e57dc4c8f403'][col_name] == 2).all()\n",
        "assert(df[df['id'] == '8fe79f84f36e3a5d2d6745621321302c'][col_name] == 1).all()\n",
        "assert(df[df['id'] == 'e4caca755ee0bdd711e18fb8084958b5'][col_name] == 1).all()"
      ]
    },
    {
      "cell_type": "markdown",
      "metadata": {
        "id": "VtQYhwuPhLu5"
      },
      "source": [
        "#### 2. [2 балла] Распределите студентов в соответствии с первым приоритетом"
      ]
    },
    {
      "cell_type": "markdown",
      "metadata": {
        "id": "gKcr__tv9EAo"
      },
      "source": [
        "нужно для каждого курса составить рейтинг студентов по убыванию рейтинга и дальше отсекать по 30(или для SLT - 60), Высокопроизводительных вычислений (60 мест), Анализа неструктурированных данных ($\\infty$ мест)"
      ]
    },
    {
      "cell_type": "markdown",
      "metadata": {
        "id": "NNG8VdzwKLb3"
      },
      "source": [
        "сперва выделим нашу дату так, чтобы было удобнее с ней работать\n"
      ]
    },
    {
      "cell_type": "code",
      "execution_count": null,
      "metadata": {
        "id": "6gWfT3vqhLu5"
      },
      "outputs": [],
      "source": [
        "data = df\n",
        "data.sort_values(by='percentile')\n",
        "fallcourses = df['fall_1'].unique()\n",
        "data_sorted = data.sort_values(by='percentile')\n",
        "num_places = {'Statistical Learning Theory' : 60, 'Высокопроизводительные вычисления' : 60, 'Анализ неструктурированных данных' : 347,\n",
        "              'Язык SQL' : 30, 'Безопасность компьютерных систем':30, 'Теория баз данных':30, 'Принятие решений в условиях риска и неопределённости':30,\n",
        "              'Сбор и обработка данных с помощью краудсорсинга':30, 'Моделирование временных рядов':30, 'Глубинное обучение в обработке звука':30,\n",
        "              'Матричные вычисления':30,\n",
        "              'Байесовские методы машинного обучения':30}\n",
        "data_sorted['course1'] = \"\"\n",
        "data_sorted['course2'] = \"\""
      ]
    },
    {
      "cell_type": "code",
      "execution_count": null,
      "metadata": {
        "id": "xGAJ6ZyTjsUi"
      },
      "outputs": [],
      "source": [
        "for course in fallcourses:\n",
        "  data_prom_id = data_sorted[(data_sorted['fall_1'] == course) | ((data_sorted['fall_2'] == course) & (data_sorted['num_of_fall_courses'] == 2))].head(num_places[course]).id\n",
        "  data_sorted.loc[((data_sorted.id.isin(data_prom_id)) & (data_sorted['course1'] == \"\")), 'course1'] = course\n",
        "  data_sorted.loc[(data_sorted.id.isin(data_prom_id)) & ((data_sorted['course1'] != \"\") & (data_sorted['course2'] == \"\") & (data_sorted['course1'] != course)\n",
        "  & (data_sorted['num_of_fall_courses'] == 2)), 'course2'] = course\n",
        "  data_sorted.loc[data_prom_id.index[0], 'is_first_place'] = True\n",
        "  data_sorted.loc[data_prom_id.index[-1], 'is_last_place'] = True\n"
      ]
    },
    {
      "cell_type": "markdown",
      "metadata": {
        "id": "vc5zXP5hhLu5"
      },
      "source": [
        "Здесь для проверки приведена таблица, в которой есть 2 дополнительные колонки:\n",
        "    \n",
        "    1) is_first_place - является ли студент лучшим по перцентили хотя бы на одном из курсов, куда он был зачислен \n",
        "    (True / NaN)\n",
        "    \n",
        "    2) is_last_place  - является ли студент худшим по перцентили хотя бы на одном из курсов, куда он был зачислен (True / NaN)"
      ]
    },
    {
      "cell_type": "code",
      "execution_count": null,
      "metadata": {
        "colab": {
          "base_uri": "https://localhost:8080/",
          "height": 922
        },
        "id": "PM4M6eFyBAmo",
        "outputId": "6a6fe111-4fc0-4efd-f778-7d9b2f078542"
      },
      "outputs": [
        {
          "data": {
            "text/html": [
              "\n",
              "  <div id=\"df-7803ba1a-4a0b-4d9f-bb6f-837cfde968ac\">\n",
              "    <div class=\"colab-df-container\">\n",
              "      <div>\n",
              "<style scoped>\n",
              "    .dataframe tbody tr th:only-of-type {\n",
              "        vertical-align: middle;\n",
              "    }\n",
              "\n",
              "    .dataframe tbody tr th {\n",
              "        vertical-align: top;\n",
              "    }\n",
              "\n",
              "    .dataframe thead th {\n",
              "        text-align: right;\n",
              "    }\n",
              "</style>\n",
              "<table border=\"1\" class=\"dataframe\">\n",
              "  <thead>\n",
              "    <tr style=\"text-align: right;\">\n",
              "      <th></th>\n",
              "      <th>id</th>\n",
              "      <th>fall_1</th>\n",
              "      <th>fall_2</th>\n",
              "      <th>fall_3</th>\n",
              "      <th>spring_1</th>\n",
              "      <th>spring_2</th>\n",
              "      <th>spring_3</th>\n",
              "      <th>is_first_time</th>\n",
              "      <th>blended</th>\n",
              "      <th>timestamp</th>\n",
              "      <th>...</th>\n",
              "      <th>is_mi</th>\n",
              "      <th>percentile</th>\n",
              "      <th>17_group</th>\n",
              "      <th>is_ml_student</th>\n",
              "      <th>date in days</th>\n",
              "      <th>num_of_fall_courses</th>\n",
              "      <th>course1</th>\n",
              "      <th>course2</th>\n",
              "      <th>is_first_place</th>\n",
              "      <th>is_last_place</th>\n",
              "    </tr>\n",
              "  </thead>\n",
              "  <tbody>\n",
              "    <tr>\n",
              "      <th>0</th>\n",
              "      <td>3e106aaef8b24dbb01319c73e14c2936</td>\n",
              "      <td>Безопасность компьютерных систем</td>\n",
              "      <td>Statistical Learning Theory</td>\n",
              "      <td>Матричные вычисления</td>\n",
              "      <td>Дискретная оптимизация</td>\n",
              "      <td>Промышленное программирование на языке Java</td>\n",
              "      <td>Дополнительные главы прикладной статистики</td>\n",
              "      <td>Да</td>\n",
              "      <td></td>\n",
              "      <td>2020-05-18 17:09:23.589</td>\n",
              "      <td>...</td>\n",
              "      <td>0.0</td>\n",
              "      <td>0.000000</td>\n",
              "      <td>0.0</td>\n",
              "      <td>1.0</td>\n",
              "      <td>2020-05-18</td>\n",
              "      <td>1.0</td>\n",
              "      <td>Безопасность компьютерных систем</td>\n",
              "      <td></td>\n",
              "      <td>True</td>\n",
              "      <td>NaN</td>\n",
              "    </tr>\n",
              "    <tr>\n",
              "      <th>1</th>\n",
              "      <td>3a7326c9e355a67d3805824ca34c4bc5</td>\n",
              "      <td>Statistical Learning Theory</td>\n",
              "      <td>Высокопроизводительные вычисления</td>\n",
              "      <td>Statistical Learning Theory</td>\n",
              "      <td>Символьные вычисления</td>\n",
              "      <td>Численные методы</td>\n",
              "      <td>Символьные вычисления</td>\n",
              "      <td>Да</td>\n",
              "      <td>Введение в дифференциальную геометрию</td>\n",
              "      <td>2020-05-14 21:52:43.844</td>\n",
              "      <td>...</td>\n",
              "      <td>0.0</td>\n",
              "      <td>0.000000</td>\n",
              "      <td>173.0</td>\n",
              "      <td>0.0</td>\n",
              "      <td>2020-05-14</td>\n",
              "      <td>2.0</td>\n",
              "      <td>Высокопроизводительные вычисления</td>\n",
              "      <td>Statistical Learning Theory</td>\n",
              "      <td>True</td>\n",
              "      <td>NaN</td>\n",
              "    </tr>\n",
              "    <tr>\n",
              "      <th>2</th>\n",
              "      <td>e0ca1a9548af9a3f98428c62420aa484</td>\n",
              "      <td>Матричные вычисления</td>\n",
              "      <td>Безопасность компьютерных систем</td>\n",
              "      <td>Statistical Learning Theory</td>\n",
              "      <td>Дискретная оптимизация</td>\n",
              "      <td>Дополнительные главы прикладной статистики</td>\n",
              "      <td>Машинное обучение 2</td>\n",
              "      <td>Да</td>\n",
              "      <td></td>\n",
              "      <td>2020-05-18 18:03:57.347</td>\n",
              "      <td>...</td>\n",
              "      <td>0.0</td>\n",
              "      <td>0.004484</td>\n",
              "      <td>0.0</td>\n",
              "      <td>0.0</td>\n",
              "      <td>2020-05-18</td>\n",
              "      <td>1.0</td>\n",
              "      <td>Матричные вычисления</td>\n",
              "      <td></td>\n",
              "      <td>True</td>\n",
              "      <td>NaN</td>\n",
              "    </tr>\n",
              "    <tr>\n",
              "      <th>3</th>\n",
              "      <td>7fe7df0d207babbf30249b3063ac1f26</td>\n",
              "      <td>Высокопроизводительные вычисления</td>\n",
              "      <td>Сбор и обработка данных с помощью краудсорсинга</td>\n",
              "      <td>Моделирование временных рядов</td>\n",
              "      <td>Проектирование и разработка высоконагруженных ...</td>\n",
              "      <td>Методы сжатия и передачи медиаданных</td>\n",
              "      <td>Методы сжатия и передачи медиаданных</td>\n",
              "      <td>Да</td>\n",
              "      <td>DevOps</td>\n",
              "      <td>2020-05-18 12:39:47.722</td>\n",
              "      <td>...</td>\n",
              "      <td>0.0</td>\n",
              "      <td>0.007246</td>\n",
              "      <td>175.0</td>\n",
              "      <td>0.0</td>\n",
              "      <td>2020-05-18</td>\n",
              "      <td>1.0</td>\n",
              "      <td>Высокопроизводительные вычисления</td>\n",
              "      <td></td>\n",
              "      <td>NaN</td>\n",
              "      <td>NaN</td>\n",
              "    </tr>\n",
              "    <tr>\n",
              "      <th>4</th>\n",
              "      <td>86d929f6fd741e56e93cee5900298849</td>\n",
              "      <td>Сбор и обработка данных с помощью краудсорсинга</td>\n",
              "      <td>Сбор и обработка данных с помощью краудсорсинга</td>\n",
              "      <td>Сбор и обработка данных с помощью краудсорсинга</td>\n",
              "      <td>Дополнительные главы прикладной статистики</td>\n",
              "      <td>Дополнительные главы прикладной статистики</td>\n",
              "      <td>Дополнительные главы прикладной статистики</td>\n",
              "      <td>Да</td>\n",
              "      <td></td>\n",
              "      <td>2020-05-15 21:34:32.550</td>\n",
              "      <td>...</td>\n",
              "      <td>0.0</td>\n",
              "      <td>0.008969</td>\n",
              "      <td>0.0</td>\n",
              "      <td>0.0</td>\n",
              "      <td>2020-05-15</td>\n",
              "      <td>1.0</td>\n",
              "      <td>Сбор и обработка данных с помощью краудсорсинга</td>\n",
              "      <td></td>\n",
              "      <td>True</td>\n",
              "      <td>NaN</td>\n",
              "    </tr>\n",
              "    <tr>\n",
              "      <th>...</th>\n",
              "      <td>...</td>\n",
              "      <td>...</td>\n",
              "      <td>...</td>\n",
              "      <td>...</td>\n",
              "      <td>...</td>\n",
              "      <td>...</td>\n",
              "      <td>...</td>\n",
              "      <td>...</td>\n",
              "      <td>...</td>\n",
              "      <td>...</td>\n",
              "      <td>...</td>\n",
              "      <td>...</td>\n",
              "      <td>...</td>\n",
              "      <td>...</td>\n",
              "      <td>...</td>\n",
              "      <td>...</td>\n",
              "      <td>...</td>\n",
              "      <td>...</td>\n",
              "      <td>...</td>\n",
              "      <td>...</td>\n",
              "      <td>...</td>\n",
              "    </tr>\n",
              "    <tr>\n",
              "      <th>342</th>\n",
              "      <td>79d14db48e4737af731960ae212d5134</td>\n",
              "      <td>Безопасность компьютерных систем</td>\n",
              "      <td>Принятие решений в условиях риска и неопределё...</td>\n",
              "      <td>Анализ неструктурированных данных</td>\n",
              "      <td>Проектирование и разработка высоконагруженных ...</td>\n",
              "      <td>Методы сжатия и передачи медиаданных</td>\n",
              "      <td>Компьютерное зрение</td>\n",
              "      <td>Да</td>\n",
              "      <td>DevOps</td>\n",
              "      <td>2020-05-23 21:16:40.916</td>\n",
              "      <td>...</td>\n",
              "      <td>0.0</td>\n",
              "      <td>0.985507</td>\n",
              "      <td>172.0</td>\n",
              "      <td>0.0</td>\n",
              "      <td>2020-05-23</td>\n",
              "      <td>2.0</td>\n",
              "      <td>Принятие решений в условиях риска и неопределё...</td>\n",
              "      <td></td>\n",
              "      <td>NaN</td>\n",
              "      <td>NaN</td>\n",
              "    </tr>\n",
              "    <tr>\n",
              "      <th>343</th>\n",
              "      <td>40b18d40197e3db66312a026e06b8ff1</td>\n",
              "      <td>Безопасность компьютерных систем</td>\n",
              "      <td>Язык SQL</td>\n",
              "      <td>Сбор и обработка данных с помощью краудсорсинга</td>\n",
              "      <td>Промышленное программирование на языке Java</td>\n",
              "      <td>Компьютерные сети</td>\n",
              "      <td>Анализ данных в бизнесе</td>\n",
              "      <td>Нет</td>\n",
              "      <td></td>\n",
              "      <td>2020-05-18 22:29:14.162</td>\n",
              "      <td>...</td>\n",
              "      <td>0.0</td>\n",
              "      <td>0.986547</td>\n",
              "      <td>0.0</td>\n",
              "      <td>0.0</td>\n",
              "      <td>2020-05-18</td>\n",
              "      <td>1.0</td>\n",
              "      <td></td>\n",
              "      <td></td>\n",
              "      <td>NaN</td>\n",
              "      <td>NaN</td>\n",
              "    </tr>\n",
              "    <tr>\n",
              "      <th>344</th>\n",
              "      <td>be4fa2120de3397ae21eac38ff0060e3</td>\n",
              "      <td>Безопасность компьютерных систем</td>\n",
              "      <td>Язык SQL</td>\n",
              "      <td>Матричные вычисления</td>\n",
              "      <td>Промышленное программирование на языке Java</td>\n",
              "      <td>Численные методы</td>\n",
              "      <td>Машинное обучение 2</td>\n",
              "      <td>Да</td>\n",
              "      <td></td>\n",
              "      <td>2020-05-18 21:12:00.134</td>\n",
              "      <td>...</td>\n",
              "      <td>0.0</td>\n",
              "      <td>0.991031</td>\n",
              "      <td>0.0</td>\n",
              "      <td>0.0</td>\n",
              "      <td>2020-05-18</td>\n",
              "      <td>1.0</td>\n",
              "      <td></td>\n",
              "      <td></td>\n",
              "      <td>NaN</td>\n",
              "      <td>NaN</td>\n",
              "    </tr>\n",
              "    <tr>\n",
              "      <th>345</th>\n",
              "      <td>d539461bf254cf8b3201cdf7990b119e</td>\n",
              "      <td>Анализ неструктурированных данных</td>\n",
              "      <td>Глубинное обучение в обработке звука</td>\n",
              "      <td>Statistical Learning Theory</td>\n",
              "      <td>Обучение с подкреплением</td>\n",
              "      <td>Компьютерное зрение</td>\n",
              "      <td>Проектирование и разработка высоконагруженных ...</td>\n",
              "      <td>Да</td>\n",
              "      <td>DevOps</td>\n",
              "      <td>2020-05-18 23:12:29.049</td>\n",
              "      <td>...</td>\n",
              "      <td>0.0</td>\n",
              "      <td>0.992754</td>\n",
              "      <td>174.0</td>\n",
              "      <td>0.0</td>\n",
              "      <td>2020-05-18</td>\n",
              "      <td>1.0</td>\n",
              "      <td>Анализ неструктурированных данных</td>\n",
              "      <td></td>\n",
              "      <td>NaN</td>\n",
              "      <td>True</td>\n",
              "    </tr>\n",
              "    <tr>\n",
              "      <th>346</th>\n",
              "      <td>7a21ef645ecb42198be493dd65320e78</td>\n",
              "      <td>Принятие решений в условиях риска и неопределё...</td>\n",
              "      <td>Язык SQL</td>\n",
              "      <td>Сбор и обработка данных с помощью краудсорсинга</td>\n",
              "      <td>Анализ данных в бизнесе</td>\n",
              "      <td>Промышленное программирование на языке Java</td>\n",
              "      <td>Дополнительные главы прикладной статистики</td>\n",
              "      <td>Да</td>\n",
              "      <td></td>\n",
              "      <td>2020-05-20 11:34:10.787</td>\n",
              "      <td>...</td>\n",
              "      <td>0.0</td>\n",
              "      <td>0.995516</td>\n",
              "      <td>0.0</td>\n",
              "      <td>0.0</td>\n",
              "      <td>2020-05-20</td>\n",
              "      <td>1.0</td>\n",
              "      <td>Принятие решений в условиях риска и неопределё...</td>\n",
              "      <td></td>\n",
              "      <td>NaN</td>\n",
              "      <td>True</td>\n",
              "    </tr>\n",
              "  </tbody>\n",
              "</table>\n",
              "<p>347 rows × 22 columns</p>\n",
              "</div>\n",
              "      <button class=\"colab-df-convert\" onclick=\"convertToInteractive('df-7803ba1a-4a0b-4d9f-bb6f-837cfde968ac')\"\n",
              "              title=\"Convert this dataframe to an interactive table.\"\n",
              "              style=\"display:none;\">\n",
              "        \n",
              "  <svg xmlns=\"http://www.w3.org/2000/svg\" height=\"24px\"viewBox=\"0 0 24 24\"\n",
              "       width=\"24px\">\n",
              "    <path d=\"M0 0h24v24H0V0z\" fill=\"none\"/>\n",
              "    <path d=\"M18.56 5.44l.94 2.06.94-2.06 2.06-.94-2.06-.94-.94-2.06-.94 2.06-2.06.94zm-11 1L8.5 8.5l.94-2.06 2.06-.94-2.06-.94L8.5 2.5l-.94 2.06-2.06.94zm10 10l.94 2.06.94-2.06 2.06-.94-2.06-.94-.94-2.06-.94 2.06-2.06.94z\"/><path d=\"M17.41 7.96l-1.37-1.37c-.4-.4-.92-.59-1.43-.59-.52 0-1.04.2-1.43.59L10.3 9.45l-7.72 7.72c-.78.78-.78 2.05 0 2.83L4 21.41c.39.39.9.59 1.41.59.51 0 1.02-.2 1.41-.59l7.78-7.78 2.81-2.81c.8-.78.8-2.07 0-2.86zM5.41 20L4 18.59l7.72-7.72 1.47 1.35L5.41 20z\"/>\n",
              "  </svg>\n",
              "      </button>\n",
              "      \n",
              "  <style>\n",
              "    .colab-df-container {\n",
              "      display:flex;\n",
              "      flex-wrap:wrap;\n",
              "      gap: 12px;\n",
              "    }\n",
              "\n",
              "    .colab-df-convert {\n",
              "      background-color: #E8F0FE;\n",
              "      border: none;\n",
              "      border-radius: 50%;\n",
              "      cursor: pointer;\n",
              "      display: none;\n",
              "      fill: #1967D2;\n",
              "      height: 32px;\n",
              "      padding: 0 0 0 0;\n",
              "      width: 32px;\n",
              "    }\n",
              "\n",
              "    .colab-df-convert:hover {\n",
              "      background-color: #E2EBFA;\n",
              "      box-shadow: 0px 1px 2px rgba(60, 64, 67, 0.3), 0px 1px 3px 1px rgba(60, 64, 67, 0.15);\n",
              "      fill: #174EA6;\n",
              "    }\n",
              "\n",
              "    [theme=dark] .colab-df-convert {\n",
              "      background-color: #3B4455;\n",
              "      fill: #D2E3FC;\n",
              "    }\n",
              "\n",
              "    [theme=dark] .colab-df-convert:hover {\n",
              "      background-color: #434B5C;\n",
              "      box-shadow: 0px 1px 3px 1px rgba(0, 0, 0, 0.15);\n",
              "      filter: drop-shadow(0px 1px 2px rgba(0, 0, 0, 0.3));\n",
              "      fill: #FFFFFF;\n",
              "    }\n",
              "  </style>\n",
              "\n",
              "      <script>\n",
              "        const buttonEl =\n",
              "          document.querySelector('#df-7803ba1a-4a0b-4d9f-bb6f-837cfde968ac button.colab-df-convert');\n",
              "        buttonEl.style.display =\n",
              "          google.colab.kernel.accessAllowed ? 'block' : 'none';\n",
              "\n",
              "        async function convertToInteractive(key) {\n",
              "          const element = document.querySelector('#df-7803ba1a-4a0b-4d9f-bb6f-837cfde968ac');\n",
              "          const dataTable =\n",
              "            await google.colab.kernel.invokeFunction('convertToInteractive',\n",
              "                                                     [key], {});\n",
              "          if (!dataTable) return;\n",
              "\n",
              "          const docLinkHtml = 'Like what you see? Visit the ' +\n",
              "            '<a target=\"_blank\" href=https://colab.research.google.com/notebooks/data_table.ipynb>data table notebook</a>'\n",
              "            + ' to learn more about interactive tables.';\n",
              "          element.innerHTML = '';\n",
              "          dataTable['output_type'] = 'display_data';\n",
              "          await google.colab.output.renderOutput(dataTable, element);\n",
              "          const docLink = document.createElement('div');\n",
              "          docLink.innerHTML = docLinkHtml;\n",
              "          element.appendChild(docLink);\n",
              "        }\n",
              "      </script>\n",
              "    </div>\n",
              "  </div>\n",
              "  "
            ],
            "text/plain": [
              "                                   id  \\\n",
              "0    3e106aaef8b24dbb01319c73e14c2936   \n",
              "1    3a7326c9e355a67d3805824ca34c4bc5   \n",
              "2    e0ca1a9548af9a3f98428c62420aa484   \n",
              "3    7fe7df0d207babbf30249b3063ac1f26   \n",
              "4    86d929f6fd741e56e93cee5900298849   \n",
              "..                                ...   \n",
              "342  79d14db48e4737af731960ae212d5134   \n",
              "343  40b18d40197e3db66312a026e06b8ff1   \n",
              "344  be4fa2120de3397ae21eac38ff0060e3   \n",
              "345  d539461bf254cf8b3201cdf7990b119e   \n",
              "346  7a21ef645ecb42198be493dd65320e78   \n",
              "\n",
              "                                                fall_1  \\\n",
              "0                     Безопасность компьютерных систем   \n",
              "1                          Statistical Learning Theory   \n",
              "2                                 Матричные вычисления   \n",
              "3                    Высокопроизводительные вычисления   \n",
              "4      Сбор и обработка данных с помощью краудсорсинга   \n",
              "..                                                 ...   \n",
              "342                   Безопасность компьютерных систем   \n",
              "343                   Безопасность компьютерных систем   \n",
              "344                   Безопасность компьютерных систем   \n",
              "345                  Анализ неструктурированных данных   \n",
              "346  Принятие решений в условиях риска и неопределё...   \n",
              "\n",
              "                                                fall_2  \\\n",
              "0                          Statistical Learning Theory   \n",
              "1                    Высокопроизводительные вычисления   \n",
              "2                     Безопасность компьютерных систем   \n",
              "3      Сбор и обработка данных с помощью краудсорсинга   \n",
              "4      Сбор и обработка данных с помощью краудсорсинга   \n",
              "..                                                 ...   \n",
              "342  Принятие решений в условиях риска и неопределё...   \n",
              "343                                           Язык SQL   \n",
              "344                                           Язык SQL   \n",
              "345               Глубинное обучение в обработке звука   \n",
              "346                                           Язык SQL   \n",
              "\n",
              "                                              fall_3  \\\n",
              "0                               Матричные вычисления   \n",
              "1                        Statistical Learning Theory   \n",
              "2                        Statistical Learning Theory   \n",
              "3                      Моделирование временных рядов   \n",
              "4    Сбор и обработка данных с помощью краудсорсинга   \n",
              "..                                               ...   \n",
              "342                Анализ неструктурированных данных   \n",
              "343  Сбор и обработка данных с помощью краудсорсинга   \n",
              "344                             Матричные вычисления   \n",
              "345                      Statistical Learning Theory   \n",
              "346  Сбор и обработка данных с помощью краудсорсинга   \n",
              "\n",
              "                                              spring_1  \\\n",
              "0                               Дискретная оптимизация   \n",
              "1                                Символьные вычисления   \n",
              "2                               Дискретная оптимизация   \n",
              "3    Проектирование и разработка высоконагруженных ...   \n",
              "4           Дополнительные главы прикладной статистики   \n",
              "..                                                 ...   \n",
              "342  Проектирование и разработка высоконагруженных ...   \n",
              "343        Промышленное программирование на языке Java   \n",
              "344        Промышленное программирование на языке Java   \n",
              "345                           Обучение с подкреплением   \n",
              "346                            Анализ данных в бизнесе   \n",
              "\n",
              "                                        spring_2  \\\n",
              "0    Промышленное программирование на языке Java   \n",
              "1                               Численные методы   \n",
              "2     Дополнительные главы прикладной статистики   \n",
              "3           Методы сжатия и передачи медиаданных   \n",
              "4     Дополнительные главы прикладной статистики   \n",
              "..                                           ...   \n",
              "342         Методы сжатия и передачи медиаданных   \n",
              "343                            Компьютерные сети   \n",
              "344                             Численные методы   \n",
              "345                          Компьютерное зрение   \n",
              "346  Промышленное программирование на языке Java   \n",
              "\n",
              "                                              spring_3 is_first_time  \\\n",
              "0           Дополнительные главы прикладной статистики            Да   \n",
              "1                                Символьные вычисления            Да   \n",
              "2                                  Машинное обучение 2            Да   \n",
              "3                 Методы сжатия и передачи медиаданных            Да   \n",
              "4           Дополнительные главы прикладной статистики            Да   \n",
              "..                                                 ...           ...   \n",
              "342                                Компьютерное зрение            Да   \n",
              "343                            Анализ данных в бизнесе           Нет   \n",
              "344                                Машинное обучение 2            Да   \n",
              "345  Проектирование и разработка высоконагруженных ...            Да   \n",
              "346         Дополнительные главы прикладной статистики            Да   \n",
              "\n",
              "                                   blended               timestamp  ...  \\\n",
              "0                                          2020-05-18 17:09:23.589  ...   \n",
              "1    Введение в дифференциальную геометрию 2020-05-14 21:52:43.844  ...   \n",
              "2                                          2020-05-18 18:03:57.347  ...   \n",
              "3                                   DevOps 2020-05-18 12:39:47.722  ...   \n",
              "4                                          2020-05-15 21:34:32.550  ...   \n",
              "..                                     ...                     ...  ...   \n",
              "342                                 DevOps 2020-05-23 21:16:40.916  ...   \n",
              "343                                        2020-05-18 22:29:14.162  ...   \n",
              "344                                        2020-05-18 21:12:00.134  ...   \n",
              "345                                 DevOps 2020-05-18 23:12:29.049  ...   \n",
              "346                                        2020-05-20 11:34:10.787  ...   \n",
              "\n",
              "     is_mi  percentile  17_group  is_ml_student  date in days  \\\n",
              "0      0.0    0.000000       0.0            1.0    2020-05-18   \n",
              "1      0.0    0.000000     173.0            0.0    2020-05-14   \n",
              "2      0.0    0.004484       0.0            0.0    2020-05-18   \n",
              "3      0.0    0.007246     175.0            0.0    2020-05-18   \n",
              "4      0.0    0.008969       0.0            0.0    2020-05-15   \n",
              "..     ...         ...       ...            ...           ...   \n",
              "342    0.0    0.985507     172.0            0.0    2020-05-23   \n",
              "343    0.0    0.986547       0.0            0.0    2020-05-18   \n",
              "344    0.0    0.991031       0.0            0.0    2020-05-18   \n",
              "345    0.0    0.992754     174.0            0.0    2020-05-18   \n",
              "346    0.0    0.995516       0.0            0.0    2020-05-20   \n",
              "\n",
              "     num_of_fall_courses                                            course1  \\\n",
              "0                    1.0                   Безопасность компьютерных систем   \n",
              "1                    2.0                  Высокопроизводительные вычисления   \n",
              "2                    1.0                               Матричные вычисления   \n",
              "3                    1.0                  Высокопроизводительные вычисления   \n",
              "4                    1.0    Сбор и обработка данных с помощью краудсорсинга   \n",
              "..                   ...                                                ...   \n",
              "342                  2.0  Принятие решений в условиях риска и неопределё...   \n",
              "343                  1.0                                                      \n",
              "344                  1.0                                                      \n",
              "345                  1.0                  Анализ неструктурированных данных   \n",
              "346                  1.0  Принятие решений в условиях риска и неопределё...   \n",
              "\n",
              "                         course2 is_first_place is_last_place  \n",
              "0                                          True           NaN  \n",
              "1    Statistical Learning Theory           True           NaN  \n",
              "2                                          True           NaN  \n",
              "3                                           NaN           NaN  \n",
              "4                                          True           NaN  \n",
              "..                           ...            ...           ...  \n",
              "342                                         NaN           NaN  \n",
              "343                                         NaN           NaN  \n",
              "344                                         NaN           NaN  \n",
              "345                                         NaN          True  \n",
              "346                                         NaN          True  \n",
              "\n",
              "[347 rows x 22 columns]"
            ]
          },
          "execution_count": 66,
          "metadata": {},
          "output_type": "execute_result"
        }
      ],
      "source": [
        "data_sorted.reset_index(drop=True)"
      ]
    },
    {
      "cell_type": "code",
      "execution_count": null,
      "metadata": {
        "id": "uZTkGEq5hLu5"
      },
      "outputs": [],
      "source": [
        "!wget  -O '2_task_check.csv' -q 'https://www.dropbox.com/s/v8o2zzq3iz5gc9w/_2_task_check.csv?dl=0'\n",
        "check_df = pd.read_csv('2_task_check.csv')"
      ]
    },
    {
      "cell_type": "markdown",
      "metadata": {
        "id": "E_fbyB9qhLu5"
      },
      "source": [
        "После распределения студентов в соответствии с первым приоритетом добавьте в свой датафрейм аналогичные признаки и запустите проверку:"
      ]
    },
    {
      "cell_type": "code",
      "execution_count": null,
      "metadata": {
        "id": "GOAzQeYehLu6"
      },
      "outputs": [],
      "source": [
        "fir_col_name = 'is_first_place'    # insert name of your new column with is_first_place as str\n",
        "last_col_name = 'is_last_place'   # insert name of your new column with is_last_place as str\n",
        "\n",
        "\n",
        "assert((data_sorted[data_sorted[fir_col_name].isna() == False][['id']].sort_values('id').reset_index(drop=True)\n",
        "        ==\n",
        "        check_df[check_df['is_first_place'].isna() == False][['id']].sort_values('id').reset_index(drop=True)\n",
        "       ).id.values).all()\n",
        "\n",
        "\n",
        "assert((data_sorted[data_sorted[last_col_name].isna() == False][['id']].sort_values('id').reset_index(drop=True)\n",
        "       == \n",
        "       check_df[check_df['is_last_place'].isna() == False][['id']].sort_values('id').reset_index(drop=True)\n",
        "      ).id.values).all()"
      ]
    },
    {
      "cell_type": "markdown",
      "metadata": {
        "id": "RO6DwNNFhLu6"
      },
      "source": [
        "#### 3. [3 балла] Проведите все три волны отбора студентов на курсы по выбору"
      ]
    },
    {
      "cell_type": "markdown",
      "metadata": {
        "id": "Csa9Cx2Jf4Wj"
      },
      "source": [
        "проведем вторую волну отбора, посчитаем сколько мест у нас осталось на каждом курсе\n"
      ]
    },
    {
      "cell_type": "code",
      "execution_count": null,
      "metadata": {
        "colab": {
          "base_uri": "https://localhost:8080/",
          "height": 922
        },
        "id": "jn2OOrLjhLu6",
        "outputId": "20675ca8-84f9-4aaf-b76a-99b5ec942db3"
      },
      "outputs": [
        {
          "data": {
            "text/html": [
              "\n",
              "  <div id=\"df-4a8bb6b1-1f79-4f76-910c-352a5590952b\">\n",
              "    <div class=\"colab-df-container\">\n",
              "      <div>\n",
              "<style scoped>\n",
              "    .dataframe tbody tr th:only-of-type {\n",
              "        vertical-align: middle;\n",
              "    }\n",
              "\n",
              "    .dataframe tbody tr th {\n",
              "        vertical-align: top;\n",
              "    }\n",
              "\n",
              "    .dataframe thead th {\n",
              "        text-align: right;\n",
              "    }\n",
              "</style>\n",
              "<table border=\"1\" class=\"dataframe\">\n",
              "  <thead>\n",
              "    <tr style=\"text-align: right;\">\n",
              "      <th></th>\n",
              "      <th>id</th>\n",
              "      <th>fall_1</th>\n",
              "      <th>fall_2</th>\n",
              "      <th>fall_3</th>\n",
              "      <th>spring_1</th>\n",
              "      <th>spring_2</th>\n",
              "      <th>spring_3</th>\n",
              "      <th>is_first_time</th>\n",
              "      <th>blended</th>\n",
              "      <th>timestamp</th>\n",
              "      <th>...</th>\n",
              "      <th>is_mi</th>\n",
              "      <th>percentile</th>\n",
              "      <th>17_group</th>\n",
              "      <th>is_ml_student</th>\n",
              "      <th>date in days</th>\n",
              "      <th>num_of_fall_courses</th>\n",
              "      <th>course1</th>\n",
              "      <th>course2</th>\n",
              "      <th>is_first_place</th>\n",
              "      <th>is_last_place</th>\n",
              "    </tr>\n",
              "  </thead>\n",
              "  <tbody>\n",
              "    <tr>\n",
              "      <th>80</th>\n",
              "      <td>3e106aaef8b24dbb01319c73e14c2936</td>\n",
              "      <td>Безопасность компьютерных систем</td>\n",
              "      <td>Statistical Learning Theory</td>\n",
              "      <td>Матричные вычисления</td>\n",
              "      <td>Дискретная оптимизация</td>\n",
              "      <td>Промышленное программирование на языке Java</td>\n",
              "      <td>Дополнительные главы прикладной статистики</td>\n",
              "      <td>Да</td>\n",
              "      <td></td>\n",
              "      <td>2020-05-18 17:09:23.589</td>\n",
              "      <td>...</td>\n",
              "      <td>0.0</td>\n",
              "      <td>0.000000</td>\n",
              "      <td>0.0</td>\n",
              "      <td>1.0</td>\n",
              "      <td>2020-05-18</td>\n",
              "      <td>1.0</td>\n",
              "      <td>Безопасность компьютерных систем</td>\n",
              "      <td>-</td>\n",
              "      <td>True</td>\n",
              "      <td>NaN</td>\n",
              "    </tr>\n",
              "    <tr>\n",
              "      <th>231</th>\n",
              "      <td>3a7326c9e355a67d3805824ca34c4bc5</td>\n",
              "      <td>Statistical Learning Theory</td>\n",
              "      <td>Высокопроизводительные вычисления</td>\n",
              "      <td>Statistical Learning Theory</td>\n",
              "      <td>Символьные вычисления</td>\n",
              "      <td>Численные методы</td>\n",
              "      <td>Символьные вычисления</td>\n",
              "      <td>Да</td>\n",
              "      <td>Введение в дифференциальную геометрию</td>\n",
              "      <td>2020-05-14 21:52:43.844</td>\n",
              "      <td>...</td>\n",
              "      <td>0.0</td>\n",
              "      <td>0.000000</td>\n",
              "      <td>173.0</td>\n",
              "      <td>0.0</td>\n",
              "      <td>2020-05-14</td>\n",
              "      <td>2.0</td>\n",
              "      <td>Высокопроизводительные вычисления</td>\n",
              "      <td>Statistical Learning Theory</td>\n",
              "      <td>True</td>\n",
              "      <td>NaN</td>\n",
              "    </tr>\n",
              "    <tr>\n",
              "      <th>91</th>\n",
              "      <td>e0ca1a9548af9a3f98428c62420aa484</td>\n",
              "      <td>Матричные вычисления</td>\n",
              "      <td>Безопасность компьютерных систем</td>\n",
              "      <td>Statistical Learning Theory</td>\n",
              "      <td>Дискретная оптимизация</td>\n",
              "      <td>Дополнительные главы прикладной статистики</td>\n",
              "      <td>Машинное обучение 2</td>\n",
              "      <td>Да</td>\n",
              "      <td></td>\n",
              "      <td>2020-05-18 18:03:57.347</td>\n",
              "      <td>...</td>\n",
              "      <td>0.0</td>\n",
              "      <td>0.004484</td>\n",
              "      <td>0.0</td>\n",
              "      <td>0.0</td>\n",
              "      <td>2020-05-18</td>\n",
              "      <td>1.0</td>\n",
              "      <td>Матричные вычисления</td>\n",
              "      <td>-</td>\n",
              "      <td>True</td>\n",
              "      <td>NaN</td>\n",
              "    </tr>\n",
              "    <tr>\n",
              "      <th>273</th>\n",
              "      <td>7fe7df0d207babbf30249b3063ac1f26</td>\n",
              "      <td>Высокопроизводительные вычисления</td>\n",
              "      <td>Сбор и обработка данных с помощью краудсорсинга</td>\n",
              "      <td>Моделирование временных рядов</td>\n",
              "      <td>Проектирование и разработка высоконагруженных ...</td>\n",
              "      <td>Методы сжатия и передачи медиаданных</td>\n",
              "      <td>Методы сжатия и передачи медиаданных</td>\n",
              "      <td>Да</td>\n",
              "      <td>DevOps</td>\n",
              "      <td>2020-05-18 12:39:47.722</td>\n",
              "      <td>...</td>\n",
              "      <td>0.0</td>\n",
              "      <td>0.007246</td>\n",
              "      <td>175.0</td>\n",
              "      <td>0.0</td>\n",
              "      <td>2020-05-18</td>\n",
              "      <td>1.0</td>\n",
              "      <td>Высокопроизводительные вычисления</td>\n",
              "      <td>-</td>\n",
              "      <td>NaN</td>\n",
              "      <td>NaN</td>\n",
              "    </tr>\n",
              "    <tr>\n",
              "      <th>19</th>\n",
              "      <td>86d929f6fd741e56e93cee5900298849</td>\n",
              "      <td>Сбор и обработка данных с помощью краудсорсинга</td>\n",
              "      <td>Сбор и обработка данных с помощью краудсорсинга</td>\n",
              "      <td>Сбор и обработка данных с помощью краудсорсинга</td>\n",
              "      <td>Дополнительные главы прикладной статистики</td>\n",
              "      <td>Дополнительные главы прикладной статистики</td>\n",
              "      <td>Дополнительные главы прикладной статистики</td>\n",
              "      <td>Да</td>\n",
              "      <td></td>\n",
              "      <td>2020-05-15 21:34:32.550</td>\n",
              "      <td>...</td>\n",
              "      <td>0.0</td>\n",
              "      <td>0.008969</td>\n",
              "      <td>0.0</td>\n",
              "      <td>0.0</td>\n",
              "      <td>2020-05-15</td>\n",
              "      <td>1.0</td>\n",
              "      <td>Сбор и обработка данных с помощью краудсорсинга</td>\n",
              "      <td>-</td>\n",
              "      <td>True</td>\n",
              "      <td>NaN</td>\n",
              "    </tr>\n",
              "    <tr>\n",
              "      <th>...</th>\n",
              "      <td>...</td>\n",
              "      <td>...</td>\n",
              "      <td>...</td>\n",
              "      <td>...</td>\n",
              "      <td>...</td>\n",
              "      <td>...</td>\n",
              "      <td>...</td>\n",
              "      <td>...</td>\n",
              "      <td>...</td>\n",
              "      <td>...</td>\n",
              "      <td>...</td>\n",
              "      <td>...</td>\n",
              "      <td>...</td>\n",
              "      <td>...</td>\n",
              "      <td>...</td>\n",
              "      <td>...</td>\n",
              "      <td>...</td>\n",
              "      <td>...</td>\n",
              "      <td>...</td>\n",
              "      <td>...</td>\n",
              "      <td>...</td>\n",
              "    </tr>\n",
              "    <tr>\n",
              "      <th>359</th>\n",
              "      <td>79d14db48e4737af731960ae212d5134</td>\n",
              "      <td>Безопасность компьютерных систем</td>\n",
              "      <td>Принятие решений в условиях риска и неопределё...</td>\n",
              "      <td>Анализ неструктурированных данных</td>\n",
              "      <td>Проектирование и разработка высоконагруженных ...</td>\n",
              "      <td>Методы сжатия и передачи медиаданных</td>\n",
              "      <td>Компьютерное зрение</td>\n",
              "      <td>Да</td>\n",
              "      <td>DevOps</td>\n",
              "      <td>2020-05-23 21:16:40.916</td>\n",
              "      <td>...</td>\n",
              "      <td>0.0</td>\n",
              "      <td>0.985507</td>\n",
              "      <td>172.0</td>\n",
              "      <td>0.0</td>\n",
              "      <td>2020-05-23</td>\n",
              "      <td>2.0</td>\n",
              "      <td>Принятие решений в условиях риска и неопределё...</td>\n",
              "      <td>Анализ неструктурированных данных</td>\n",
              "      <td>NaN</td>\n",
              "      <td>NaN</td>\n",
              "    </tr>\n",
              "    <tr>\n",
              "      <th>170</th>\n",
              "      <td>40b18d40197e3db66312a026e06b8ff1</td>\n",
              "      <td>Безопасность компьютерных систем</td>\n",
              "      <td>Язык SQL</td>\n",
              "      <td>Сбор и обработка данных с помощью краудсорсинга</td>\n",
              "      <td>Промышленное программирование на языке Java</td>\n",
              "      <td>Компьютерные сети</td>\n",
              "      <td>Анализ данных в бизнесе</td>\n",
              "      <td>Нет</td>\n",
              "      <td></td>\n",
              "      <td>2020-05-18 22:29:14.162</td>\n",
              "      <td>...</td>\n",
              "      <td>0.0</td>\n",
              "      <td>0.986547</td>\n",
              "      <td>0.0</td>\n",
              "      <td>0.0</td>\n",
              "      <td>2020-05-18</td>\n",
              "      <td>1.0</td>\n",
              "      <td>???</td>\n",
              "      <td>-</td>\n",
              "      <td>NaN</td>\n",
              "      <td>NaN</td>\n",
              "    </tr>\n",
              "    <tr>\n",
              "      <th>128</th>\n",
              "      <td>be4fa2120de3397ae21eac38ff0060e3</td>\n",
              "      <td>Безопасность компьютерных систем</td>\n",
              "      <td>Язык SQL</td>\n",
              "      <td>Матричные вычисления</td>\n",
              "      <td>Промышленное программирование на языке Java</td>\n",
              "      <td>Численные методы</td>\n",
              "      <td>Машинное обучение 2</td>\n",
              "      <td>Да</td>\n",
              "      <td></td>\n",
              "      <td>2020-05-18 21:12:00.134</td>\n",
              "      <td>...</td>\n",
              "      <td>0.0</td>\n",
              "      <td>0.991031</td>\n",
              "      <td>0.0</td>\n",
              "      <td>0.0</td>\n",
              "      <td>2020-05-18</td>\n",
              "      <td>1.0</td>\n",
              "      <td>???</td>\n",
              "      <td>-</td>\n",
              "      <td>NaN</td>\n",
              "      <td>NaN</td>\n",
              "    </tr>\n",
              "    <tr>\n",
              "      <th>340</th>\n",
              "      <td>d539461bf254cf8b3201cdf7990b119e</td>\n",
              "      <td>Анализ неструктурированных данных</td>\n",
              "      <td>Глубинное обучение в обработке звука</td>\n",
              "      <td>Statistical Learning Theory</td>\n",
              "      <td>Обучение с подкреплением</td>\n",
              "      <td>Компьютерное зрение</td>\n",
              "      <td>Проектирование и разработка высоконагруженных ...</td>\n",
              "      <td>Да</td>\n",
              "      <td>DevOps</td>\n",
              "      <td>2020-05-18 23:12:29.049</td>\n",
              "      <td>...</td>\n",
              "      <td>0.0</td>\n",
              "      <td>0.992754</td>\n",
              "      <td>174.0</td>\n",
              "      <td>0.0</td>\n",
              "      <td>2020-05-18</td>\n",
              "      <td>1.0</td>\n",
              "      <td>Анализ неструктурированных данных</td>\n",
              "      <td>-</td>\n",
              "      <td>NaN</td>\n",
              "      <td>True</td>\n",
              "    </tr>\n",
              "    <tr>\n",
              "      <th>217</th>\n",
              "      <td>7a21ef645ecb42198be493dd65320e78</td>\n",
              "      <td>Принятие решений в условиях риска и неопределё...</td>\n",
              "      <td>Язык SQL</td>\n",
              "      <td>Сбор и обработка данных с помощью краудсорсинга</td>\n",
              "      <td>Анализ данных в бизнесе</td>\n",
              "      <td>Промышленное программирование на языке Java</td>\n",
              "      <td>Дополнительные главы прикладной статистики</td>\n",
              "      <td>Да</td>\n",
              "      <td></td>\n",
              "      <td>2020-05-20 11:34:10.787</td>\n",
              "      <td>...</td>\n",
              "      <td>0.0</td>\n",
              "      <td>0.995516</td>\n",
              "      <td>0.0</td>\n",
              "      <td>0.0</td>\n",
              "      <td>2020-05-20</td>\n",
              "      <td>1.0</td>\n",
              "      <td>Принятие решений в условиях риска и неопределё...</td>\n",
              "      <td>-</td>\n",
              "      <td>NaN</td>\n",
              "      <td>True</td>\n",
              "    </tr>\n",
              "  </tbody>\n",
              "</table>\n",
              "<p>347 rows × 22 columns</p>\n",
              "</div>\n",
              "      <button class=\"colab-df-convert\" onclick=\"convertToInteractive('df-4a8bb6b1-1f79-4f76-910c-352a5590952b')\"\n",
              "              title=\"Convert this dataframe to an interactive table.\"\n",
              "              style=\"display:none;\">\n",
              "        \n",
              "  <svg xmlns=\"http://www.w3.org/2000/svg\" height=\"24px\"viewBox=\"0 0 24 24\"\n",
              "       width=\"24px\">\n",
              "    <path d=\"M0 0h24v24H0V0z\" fill=\"none\"/>\n",
              "    <path d=\"M18.56 5.44l.94 2.06.94-2.06 2.06-.94-2.06-.94-.94-2.06-.94 2.06-2.06.94zm-11 1L8.5 8.5l.94-2.06 2.06-.94-2.06-.94L8.5 2.5l-.94 2.06-2.06.94zm10 10l.94 2.06.94-2.06 2.06-.94-2.06-.94-.94-2.06-.94 2.06-2.06.94z\"/><path d=\"M17.41 7.96l-1.37-1.37c-.4-.4-.92-.59-1.43-.59-.52 0-1.04.2-1.43.59L10.3 9.45l-7.72 7.72c-.78.78-.78 2.05 0 2.83L4 21.41c.39.39.9.59 1.41.59.51 0 1.02-.2 1.41-.59l7.78-7.78 2.81-2.81c.8-.78.8-2.07 0-2.86zM5.41 20L4 18.59l7.72-7.72 1.47 1.35L5.41 20z\"/>\n",
              "  </svg>\n",
              "      </button>\n",
              "      \n",
              "  <style>\n",
              "    .colab-df-container {\n",
              "      display:flex;\n",
              "      flex-wrap:wrap;\n",
              "      gap: 12px;\n",
              "    }\n",
              "\n",
              "    .colab-df-convert {\n",
              "      background-color: #E8F0FE;\n",
              "      border: none;\n",
              "      border-radius: 50%;\n",
              "      cursor: pointer;\n",
              "      display: none;\n",
              "      fill: #1967D2;\n",
              "      height: 32px;\n",
              "      padding: 0 0 0 0;\n",
              "      width: 32px;\n",
              "    }\n",
              "\n",
              "    .colab-df-convert:hover {\n",
              "      background-color: #E2EBFA;\n",
              "      box-shadow: 0px 1px 2px rgba(60, 64, 67, 0.3), 0px 1px 3px 1px rgba(60, 64, 67, 0.15);\n",
              "      fill: #174EA6;\n",
              "    }\n",
              "\n",
              "    [theme=dark] .colab-df-convert {\n",
              "      background-color: #3B4455;\n",
              "      fill: #D2E3FC;\n",
              "    }\n",
              "\n",
              "    [theme=dark] .colab-df-convert:hover {\n",
              "      background-color: #434B5C;\n",
              "      box-shadow: 0px 1px 3px 1px rgba(0, 0, 0, 0.15);\n",
              "      filter: drop-shadow(0px 1px 2px rgba(0, 0, 0, 0.3));\n",
              "      fill: #FFFFFF;\n",
              "    }\n",
              "  </style>\n",
              "\n",
              "      <script>\n",
              "        const buttonEl =\n",
              "          document.querySelector('#df-4a8bb6b1-1f79-4f76-910c-352a5590952b button.colab-df-convert');\n",
              "        buttonEl.style.display =\n",
              "          google.colab.kernel.accessAllowed ? 'block' : 'none';\n",
              "\n",
              "        async function convertToInteractive(key) {\n",
              "          const element = document.querySelector('#df-4a8bb6b1-1f79-4f76-910c-352a5590952b');\n",
              "          const dataTable =\n",
              "            await google.colab.kernel.invokeFunction('convertToInteractive',\n",
              "                                                     [key], {});\n",
              "          if (!dataTable) return;\n",
              "\n",
              "          const docLinkHtml = 'Like what you see? Visit the ' +\n",
              "            '<a target=\"_blank\" href=https://colab.research.google.com/notebooks/data_table.ipynb>data table notebook</a>'\n",
              "            + ' to learn more about interactive tables.';\n",
              "          element.innerHTML = '';\n",
              "          dataTable['output_type'] = 'display_data';\n",
              "          await google.colab.output.renderOutput(dataTable, element);\n",
              "          const docLink = document.createElement('div');\n",
              "          docLink.innerHTML = docLinkHtml;\n",
              "          element.appendChild(docLink);\n",
              "        }\n",
              "      </script>\n",
              "    </div>\n",
              "  </div>\n",
              "  "
            ],
            "text/plain": [
              "                                   id  \\\n",
              "80   3e106aaef8b24dbb01319c73e14c2936   \n",
              "231  3a7326c9e355a67d3805824ca34c4bc5   \n",
              "91   e0ca1a9548af9a3f98428c62420aa484   \n",
              "273  7fe7df0d207babbf30249b3063ac1f26   \n",
              "19   86d929f6fd741e56e93cee5900298849   \n",
              "..                                ...   \n",
              "359  79d14db48e4737af731960ae212d5134   \n",
              "170  40b18d40197e3db66312a026e06b8ff1   \n",
              "128  be4fa2120de3397ae21eac38ff0060e3   \n",
              "340  d539461bf254cf8b3201cdf7990b119e   \n",
              "217  7a21ef645ecb42198be493dd65320e78   \n",
              "\n",
              "                                                fall_1  \\\n",
              "80                    Безопасность компьютерных систем   \n",
              "231                        Statistical Learning Theory   \n",
              "91                                Матричные вычисления   \n",
              "273                  Высокопроизводительные вычисления   \n",
              "19     Сбор и обработка данных с помощью краудсорсинга   \n",
              "..                                                 ...   \n",
              "359                   Безопасность компьютерных систем   \n",
              "170                   Безопасность компьютерных систем   \n",
              "128                   Безопасность компьютерных систем   \n",
              "340                  Анализ неструктурированных данных   \n",
              "217  Принятие решений в условиях риска и неопределё...   \n",
              "\n",
              "                                                fall_2  \\\n",
              "80                         Statistical Learning Theory   \n",
              "231                  Высокопроизводительные вычисления   \n",
              "91                    Безопасность компьютерных систем   \n",
              "273    Сбор и обработка данных с помощью краудсорсинга   \n",
              "19     Сбор и обработка данных с помощью краудсорсинга   \n",
              "..                                                 ...   \n",
              "359  Принятие решений в условиях риска и неопределё...   \n",
              "170                                           Язык SQL   \n",
              "128                                           Язык SQL   \n",
              "340               Глубинное обучение в обработке звука   \n",
              "217                                           Язык SQL   \n",
              "\n",
              "                                              fall_3  \\\n",
              "80                              Матричные вычисления   \n",
              "231                      Statistical Learning Theory   \n",
              "91                       Statistical Learning Theory   \n",
              "273                    Моделирование временных рядов   \n",
              "19   Сбор и обработка данных с помощью краудсорсинга   \n",
              "..                                               ...   \n",
              "359                Анализ неструктурированных данных   \n",
              "170  Сбор и обработка данных с помощью краудсорсинга   \n",
              "128                             Матричные вычисления   \n",
              "340                      Statistical Learning Theory   \n",
              "217  Сбор и обработка данных с помощью краудсорсинга   \n",
              "\n",
              "                                              spring_1  \\\n",
              "80                              Дискретная оптимизация   \n",
              "231                              Символьные вычисления   \n",
              "91                              Дискретная оптимизация   \n",
              "273  Проектирование и разработка высоконагруженных ...   \n",
              "19          Дополнительные главы прикладной статистики   \n",
              "..                                                 ...   \n",
              "359  Проектирование и разработка высоконагруженных ...   \n",
              "170        Промышленное программирование на языке Java   \n",
              "128        Промышленное программирование на языке Java   \n",
              "340                           Обучение с подкреплением   \n",
              "217                            Анализ данных в бизнесе   \n",
              "\n",
              "                                        spring_2  \\\n",
              "80   Промышленное программирование на языке Java   \n",
              "231                             Численные методы   \n",
              "91    Дополнительные главы прикладной статистики   \n",
              "273         Методы сжатия и передачи медиаданных   \n",
              "19    Дополнительные главы прикладной статистики   \n",
              "..                                           ...   \n",
              "359         Методы сжатия и передачи медиаданных   \n",
              "170                            Компьютерные сети   \n",
              "128                             Численные методы   \n",
              "340                          Компьютерное зрение   \n",
              "217  Промышленное программирование на языке Java   \n",
              "\n",
              "                                              spring_3 is_first_time  \\\n",
              "80          Дополнительные главы прикладной статистики            Да   \n",
              "231                              Символьные вычисления            Да   \n",
              "91                                 Машинное обучение 2            Да   \n",
              "273               Методы сжатия и передачи медиаданных            Да   \n",
              "19          Дополнительные главы прикладной статистики            Да   \n",
              "..                                                 ...           ...   \n",
              "359                                Компьютерное зрение            Да   \n",
              "170                            Анализ данных в бизнесе           Нет   \n",
              "128                                Машинное обучение 2            Да   \n",
              "340  Проектирование и разработка высоконагруженных ...            Да   \n",
              "217         Дополнительные главы прикладной статистики            Да   \n",
              "\n",
              "                                   blended               timestamp  ...  \\\n",
              "80                                         2020-05-18 17:09:23.589  ...   \n",
              "231  Введение в дифференциальную геометрию 2020-05-14 21:52:43.844  ...   \n",
              "91                                         2020-05-18 18:03:57.347  ...   \n",
              "273                                 DevOps 2020-05-18 12:39:47.722  ...   \n",
              "19                                         2020-05-15 21:34:32.550  ...   \n",
              "..                                     ...                     ...  ...   \n",
              "359                                 DevOps 2020-05-23 21:16:40.916  ...   \n",
              "170                                        2020-05-18 22:29:14.162  ...   \n",
              "128                                        2020-05-18 21:12:00.134  ...   \n",
              "340                                 DevOps 2020-05-18 23:12:29.049  ...   \n",
              "217                                        2020-05-20 11:34:10.787  ...   \n",
              "\n",
              "     is_mi  percentile  17_group  is_ml_student  date in days  \\\n",
              "80     0.0    0.000000       0.0            1.0    2020-05-18   \n",
              "231    0.0    0.000000     173.0            0.0    2020-05-14   \n",
              "91     0.0    0.004484       0.0            0.0    2020-05-18   \n",
              "273    0.0    0.007246     175.0            0.0    2020-05-18   \n",
              "19     0.0    0.008969       0.0            0.0    2020-05-15   \n",
              "..     ...         ...       ...            ...           ...   \n",
              "359    0.0    0.985507     172.0            0.0    2020-05-23   \n",
              "170    0.0    0.986547       0.0            0.0    2020-05-18   \n",
              "128    0.0    0.991031       0.0            0.0    2020-05-18   \n",
              "340    0.0    0.992754     174.0            0.0    2020-05-18   \n",
              "217    0.0    0.995516       0.0            0.0    2020-05-20   \n",
              "\n",
              "     num_of_fall_courses                                            course1  \\\n",
              "80                   1.0                   Безопасность компьютерных систем   \n",
              "231                  2.0                  Высокопроизводительные вычисления   \n",
              "91                   1.0                               Матричные вычисления   \n",
              "273                  1.0                  Высокопроизводительные вычисления   \n",
              "19                   1.0    Сбор и обработка данных с помощью краудсорсинга   \n",
              "..                   ...                                                ...   \n",
              "359                  2.0  Принятие решений в условиях риска и неопределё...   \n",
              "170                  1.0                                                ???   \n",
              "128                  1.0                                                ???   \n",
              "340                  1.0                  Анализ неструктурированных данных   \n",
              "217                  1.0  Принятие решений в условиях риска и неопределё...   \n",
              "\n",
              "                               course2 is_first_place is_last_place  \n",
              "80                                   -           True           NaN  \n",
              "231        Statistical Learning Theory           True           NaN  \n",
              "91                                   -           True           NaN  \n",
              "273                                  -            NaN           NaN  \n",
              "19                                   -           True           NaN  \n",
              "..                                 ...            ...           ...  \n",
              "359  Анализ неструктурированных данных            NaN           NaN  \n",
              "170                                  -            NaN           NaN  \n",
              "128                                  -            NaN           NaN  \n",
              "340                                  -            NaN          True  \n",
              "217                                  -            NaN          True  \n",
              "\n",
              "[347 rows x 22 columns]"
            ]
          },
          "execution_count": 89,
          "metadata": {},
          "output_type": "execute_result"
        }
      ],
      "source": [
        "# (￣^￣)ゞ\n",
        "for course in fallcourses:\n",
        "  spare_spaces_course = num_places[course] - data_sorted[(data_sorted['course1'] == course) | (data_sorted['course2'] == course)].count()['id']\n",
        "  # теперь знаем, сколько у нас осталось на каждом курсе мест\n",
        "\n",
        "  data_prom = data_sorted[((data_sorted['fall_2'] == course) & (data_sorted['course1'] == \"\") & (data_sorted['num_of_fall_courses'] == 1))| \n",
        "                          ((data_sorted['fall_3'] == course) & (data_sorted['num_of_fall_courses'] == 2) & (data_sorted['course1'] != course) & (data_sorted['course2'] == \"\")) |\n",
        "                          ((data_sorted['fall_3'] == course) & (data_sorted['num_of_fall_courses'] == 2) & (data_sorted['course1'] == \"\"))]\n",
        "  data_prom_sorted = data_prom.sort_values(by='percentile')\n",
        "  if (course == \"Анализ неструктурированных данных\"):\n",
        "    spare_spaces_course += 1\n",
        "  if (spare_spaces_course > 0):\n",
        "    data_prom_sorted_id = data_prom_sorted.head(spare_spaces_course).id\n",
        "    data_sorted.loc[(data_sorted.id.isin(data_prom_sorted_id)) & (data_sorted['course1'] == \"\") & (data_sorted['num_of_fall_courses'] == 1), 'course1'] = course\n",
        "    data_sorted.loc[(data_sorted.id.isin(data_prom_sorted_id)) & (data_sorted['num_of_fall_courses'] == 2) & (data_sorted['course1'] != course) & (data_sorted['course2'] == \"\"), 'course2'] = course\n",
        "    data_sorted.loc[(data_sorted.id.isin(data_prom_sorted_id)) & (data_sorted['num_of_fall_courses'] == 2) & (data_sorted['course1'] == \"\"), 'course1'] = course\n",
        "\n",
        "data_sorted.loc[(data_sorted['num_of_fall_courses'] == 2) & (data_sorted['course1'] == \"\"), 'course1'] = \"???\"\n",
        "data_sorted.loc[(data_sorted['num_of_fall_courses'] == 2) & (data_sorted['course2'] == \"\"), 'course2'] = \"???\"\n",
        "data_sorted.loc[(data_sorted['num_of_fall_courses'] == 1), 'course2'] = \"-\"\n",
        "data_sorted"
      ]
    },
    {
      "cell_type": "markdown",
      "metadata": {
        "id": "v2Yz6oFb9sZd"
      },
      "source": [
        "теперь проведем третью волну отбора, тут мы уже не рассматриваем чуваков с двумя курсами, а рассматриваем только бедных ребят, которых не смогли распределить в первые две волны\n",
        "\n"
      ]
    },
    {
      "cell_type": "code",
      "execution_count": null,
      "metadata": {
        "id": "6tAzrcIz94d2"
      },
      "outputs": [],
      "source": [
        "for course in fallcourses:\n",
        "  spare_spaces_3 = num_places[course] - data_sorted[(data_sorted['course1'] == course) | (data_sorted['course2'] == course)].count()['id']\n",
        "  data_prom = data_sorted[(data_sorted['fall_3'] == course) & ((data_sorted['course1'] == \"\"))]\n",
        "  data_prom_sorted = data_prom.sort_values(by='percentile')\n",
        "  if (spare_spaces_3 > 0):\n",
        "    data_prom_sorted_id = data_prom_sorted.head(spare_spaces_3).id\n",
        "    data_sorted.loc[(data_sorted.id.isin(data_prom_sorted_id)) & (data_sorted['course1'] == \"\"), 'course1'] = course\n",
        "data_sorted.loc[(data_sorted[\"course1\"] == \"\"), \"course1\"] = \"???\"\n",
        "# data_sorted.loc[data_sorted[\"id\"] == \"d40cbae8cfc9e6c5d05831ef7e122f3e\", \"course2\"] = \"???\"\n",
        "# data_sorted[data_sorted[\"id\"] == \"d40cbae8cfc9e6c5d05831ef7e122f3e\"]\n"
      ]
    },
    {
      "cell_type": "code",
      "execution_count": null,
      "metadata": {
        "colab": {
          "base_uri": "https://localhost:8080/",
          "height": 17
        },
        "id": "Z-siVI6BEYF6",
        "outputId": "7f6f29b7-92e1-4408-af05-f19fecf6cea1"
      },
      "outputs": [
        {
          "data": {
            "application/javascript": "\n    async function download(id, filename, size) {\n      if (!google.colab.kernel.accessAllowed) {\n        return;\n      }\n      const div = document.createElement('div');\n      const label = document.createElement('label');\n      label.textContent = `Downloading \"${filename}\": `;\n      div.appendChild(label);\n      const progress = document.createElement('progress');\n      progress.max = size;\n      div.appendChild(progress);\n      document.body.appendChild(div);\n\n      const buffers = [];\n      let downloaded = 0;\n\n      const channel = await google.colab.kernel.comms.open(id);\n      // Send a message to notify the kernel that we're ready.\n      channel.send({})\n\n      for await (const message of channel.messages) {\n        // Send a message to notify the kernel that we're ready.\n        channel.send({})\n        if (message.buffers) {\n          for (const buffer of message.buffers) {\n            buffers.push(buffer);\n            downloaded += buffer.byteLength;\n            progress.value = downloaded;\n          }\n        }\n      }\n      const blob = new Blob(buffers, {type: 'application/binary'});\n      const a = document.createElement('a');\n      a.href = window.URL.createObjectURL(blob);\n      a.download = filename;\n      div.appendChild(a);\n      a.click();\n      div.remove();\n    }\n  ",
            "text/plain": [
              "<IPython.core.display.Javascript object>"
            ]
          },
          "metadata": {},
          "output_type": "display_data"
        },
        {
          "data": {
            "application/javascript": "download(\"download_3b22ff5c-aefe-4e63-bf05-fa9a778b6566\", \"res_fall.csv\", 34454)",
            "text/plain": [
              "<IPython.core.display.Javascript object>"
            ]
          },
          "metadata": {},
          "output_type": "display_data"
        }
      ],
      "source": [
        "res_fall = data_sorted[['id', 'course1', 'course2']]\n",
        "res_fall.rename(columns = {'id':'ID'}, inplace = True)\n",
        "from google.colab import files\n",
        "res_fall.to_csv('res_fall.csv', index=False) \n",
        "files.download('res_fall.csv')"
      ]
    },
    {
      "cell_type": "markdown",
      "metadata": {
        "id": "1xQjV9BuhLu6"
      },
      "source": [
        "**Отправьте свой файл res_fall.csv в контест (https://contest.yandex.ru/contest/40211/problems/A/) и прикрепите/укажите ниже ваш никнейм и ссылку на успешную посылку.**"
      ]
    },
    {
      "cell_type": "markdown",
      "metadata": {
        "id": "QRTbPrgbhLu6"
      },
      "source": [
        "*Дисклеймер:*\n",
        "\n",
        "Успешная посылка в контесте является **обязательным** условием получения полного балла за этот (и следующий) пункт. Если добиться успешной посылки не удастся, баллы будут выставляться на усмотрение проверяюшего. \n",
        "\n",
        "При этом ОК в контесте не гарантирует полный балл. Оценка всё равно может быть снижена в случае обнаружения неэффективностей или ошибок в коде. Если вы сдадите в AnyTask очевидно неработающий код или ноутбук без кода, но при этом в контест будет сдан корректный файл, то это будет расцениваться как плагиат."
      ]
    },
    {
      "cell_type": "markdown",
      "metadata": {
        "id": "1IkQa_gdhLu6"
      },
      "source": [
        "На всякий случай просим вас сдать вместе с ноутбуком файл res_fall.csv в anytask"
      ]
    },
    {
      "cell_type": "markdown",
      "metadata": {
        "id": "k8d711qGhLu7"
      },
      "source": [
        "**Дополнительное задание. [2 бонусных балла] Распределите таким же образом студентов еще и на весенние курсы по выбору.**\n",
        "\n",
        "Если ваш код был хорошо структурирован, то это не составит проблем. \n",
        "\n",
        "Если вы выполнили это задание, сдайте среди прочего файл res_spring.csv в таком же формате, как и res_fall.csv."
      ]
    },
    {
      "cell_type": "code",
      "execution_count": null,
      "metadata": {
        "id": "hwmusOGThLu7"
      },
      "outputs": [],
      "source": [
        "# (￣^'￣)ゞ"
      ]
    },
    {
      "cell_type": "markdown",
      "metadata": {
        "id": "It7QQZLYhLu7"
      },
      "source": [
        "**Отправьте свой файл res_spring.csv в контест (https://contest.yandex.ru/contest/40211/problems/B/) и прикрепите/укажите ниже ваш никнейм и ссылку на успешную посылку.**"
      ]
    },
    {
      "cell_type": "markdown",
      "metadata": {
        "id": "1YcouVTihLu7"
      },
      "source": [
        "На всякий случай просим вас сдать вместе с ноутбуком файл res_spring.csv в anytask"
      ]
    },
    {
      "cell_type": "markdown",
      "metadata": {
        "id": "uY_OY6inhLu7"
      },
      "source": [
        "Вставьте картинку, описывающую ваш опыт выполнения этого задания:"
      ]
    },
    {
      "cell_type": "code",
      "execution_count": null,
      "metadata": {
        "id": "R9_7CnSFhLu7"
      },
      "outputs": [],
      "source": []
    }
  ],
  "metadata": {
    "colab": {
      "collapsed_sections": [
        "gDD85M7bhLux",
        "jPiMwyqHhLuy",
        "w5ELhkT1hLuz",
        "Jhk3tVpVhLuy",
        "IU_FLt8HhLu0",
        "spu3r3vchLu0"
      ],
      "provenance": []
    },
    "kernelspec": {
      "display_name": "Python 3 (ipykernel)",
      "language": "python",
      "name": "python3"
    },
    "language_info": {
      "codemirror_mode": {
        "name": "ipython",
        "version": 3
      },
      "file_extension": ".py",
      "mimetype": "text/x-python",
      "name": "python",
      "nbconvert_exporter": "python",
      "pygments_lexer": "ipython3",
      "version": "3.10.4"
    },
    "varInspector": {
      "cols": {
        "lenName": 16,
        "lenType": 16,
        "lenVar": 40
      },
      "kernels_config": {
        "python": {
          "delete_cmd_postfix": "",
          "delete_cmd_prefix": "del ",
          "library": "var_list.py",
          "varRefreshCmd": "print(var_dic_list())"
        },
        "r": {
          "delete_cmd_postfix": ") ",
          "delete_cmd_prefix": "rm(",
          "library": "var_list.r",
          "varRefreshCmd": "cat(var_dic_list()) "
        }
      },
      "types_to_exclude": [
        "module",
        "function",
        "builtin_function_or_method",
        "instance",
        "_Feature"
      ],
      "window_display": false
    },
    "vscode": {
      "interpreter": {
        "hash": "e7370f93d1d0cde622a1f8e1c04877d8463912d04d973331ad4851f04de6915a"
      }
    }
  },
  "nbformat": 4,
  "nbformat_minor": 0
}
